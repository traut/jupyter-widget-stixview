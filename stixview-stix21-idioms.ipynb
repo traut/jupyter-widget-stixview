{
 "cells": [
  {
   "cell_type": "code",
   "execution_count": 1,
   "metadata": {},
   "outputs": [],
   "source": [
    "import requests\n",
    "from jupyter_widget_stixview.widget import StixviewGraph\n",
    "\n",
    "def create_new_cell(contents):\n",
    "    from IPython.core.getipython import get_ipython\n",
    "    shell = get_ipython()\n",
    "\n",
    "    payload = dict(\n",
    "        source='set_next_input',\n",
    "        text=contents,\n",
    "        replace=False,\n",
    "    )\n",
    "    shell.payload_manager.write_payload(payload, single=False)"
   ]
  },
  {
   "cell_type": "code",
   "execution_count": 2,
   "metadata": {},
   "outputs": [
    {
     "name": "stdout",
     "output_type": "stream",
     "text": [
      "skipping https://raw.githubusercontent.com/oasis-open/cti-stix-elevator/master/idioms-json-2.1/fireeye-pivy-report-with-indicators.json\n"
     ]
    }
   ],
   "source": [
    "repo_url = \"https://api.github.com/repos/oasis-open/cti-stix-elevator/contents/idioms-json-2.1\"\n",
    "\n",
    "r = requests.get(repo_url)\n",
    "r.raise_for_status()\n",
    "\n",
    "show_large = False\n",
    "large_bundle_filenames = ['fireeye-pivy-report-with-indicators.json']\n",
    "file_urls = [f['download_url'] for f in r.json()]\n",
    "limit = 100\n",
    "\n",
    "for url in file_urls[:limit]:\n",
    "    if not show_large and any([y in url for y in large_bundle_filenames]):\n",
    "        print(\"skipping \" + url)\n",
    "        continue\n",
    "    # Uncomment following line and execute this cell to add new cells per source url\n",
    "    #\n",
    "    # create_new_cell(\"StixviewGraph(\\nurl='{}',\\nproperties={{'graphHeight':300}})\".format(url))"
   ]
  },
  {
   "cell_type": "code",
   "execution_count": 3,
   "metadata": {},
   "outputs": [
    {
     "data": {
      "application/vnd.jupyter.widget-view+json": {
       "model_id": "de5285db3cdb4e27aec12d4af2ac4209",
       "version_major": 2,
       "version_minor": 0
      },
      "text/plain": [
       "StixviewGraph(properties={'graphHeight': 300}, url='https://raw.githubusercontent.com/oasis-open/cti-stix-elev…"
      ]
     },
     "metadata": {},
     "output_type": "display_data"
    }
   ],
   "source": [
    "StixviewGraph(\n",
    "url='https://raw.githubusercontent.com/oasis-open/cti-stix-elevator/master/idioms-json-2.1/yara-test-mechanism.json',\n",
    "properties={'graphHeight':300})"
   ]
  },
  {
   "cell_type": "code",
   "execution_count": 4,
   "metadata": {},
   "outputs": [
    {
     "data": {
      "application/vnd.jupyter.widget-view+json": {
       "model_id": "6779fa64c7134e3e8abae282b3117156",
       "version_major": 2,
       "version_minor": 0
      },
      "text/plain": [
       "StixviewGraph(properties={'graphHeight': 300}, url='https://raw.githubusercontent.com/oasis-open/cti-stix-elev…"
      ]
     },
     "metadata": {},
     "output_type": "display_data"
    }
   ],
   "source": [
    "StixviewGraph(\n",
    "url='https://raw.githubusercontent.com/oasis-open/cti-stix-elevator/master/idioms-json-2.1/victim-targeting.json',\n",
    "properties={'graphHeight':300})"
   ]
  },
  {
   "cell_type": "code",
   "execution_count": 5,
   "metadata": {},
   "outputs": [
    {
     "data": {
      "application/vnd.jupyter.widget-view+json": {
       "model_id": "dbfc8dafe5724aacb64dcf5ac0a57ef0",
       "version_major": 2,
       "version_minor": 0
      },
      "text/plain": [
       "StixviewGraph(properties={'graphHeight': 300}, url='https://raw.githubusercontent.com/oasis-open/cti-stix-elev…"
      ]
     },
     "metadata": {},
     "output_type": "display_data"
    }
   ],
   "source": [
    "StixviewGraph(\n",
    "url='https://raw.githubusercontent.com/oasis-open/cti-stix-elevator/master/idioms-json-2.1/victim-targeting-sector.json',\n",
    "properties={'graphHeight':300})"
   ]
  },
  {
   "cell_type": "code",
   "execution_count": 6,
   "metadata": {},
   "outputs": [
    {
     "data": {
      "application/vnd.jupyter.widget-view+json": {
       "model_id": "3076d95176ba4e088f4f5a65e50765b5",
       "version_major": 2,
       "version_minor": 0
      },
      "text/plain": [
       "StixviewGraph(properties={'graphHeight': 300}, url='https://raw.githubusercontent.com/oasis-open/cti-stix-elev…"
      ]
     },
     "metadata": {},
     "output_type": "display_data"
    }
   ],
   "source": [
    "StixviewGraph(\n",
    "url='https://raw.githubusercontent.com/oasis-open/cti-stix-elevator/master/idioms-json-2.1/threat-actor-leveraging-attack-patterns-and-malware.json',\n",
    "properties={'graphHeight':300})"
   ]
  },
  {
   "cell_type": "code",
   "execution_count": 7,
   "metadata": {},
   "outputs": [
    {
     "data": {
      "application/vnd.jupyter.widget-view+json": {
       "model_id": "40149a3b3de343078d6ff7545b16c4d9",
       "version_major": 2,
       "version_minor": 0
      },
      "text/plain": [
       "StixviewGraph(properties={'graphHeight': 300}, url='https://raw.githubusercontent.com/oasis-open/cti-stix-elev…"
      ]
     },
     "metadata": {},
     "output_type": "display_data"
    }
   ],
   "source": [
    "StixviewGraph(\n",
    "url='https://raw.githubusercontent.com/oasis-open/cti-stix-elevator/master/idioms-json-2.1/snort-test-mechanism.json',\n",
    "properties={'graphHeight':300})"
   ]
  },
  {
   "cell_type": "code",
   "execution_count": 8,
   "metadata": {},
   "outputs": [
    {
     "data": {
      "application/vnd.jupyter.widget-view+json": {
       "model_id": "606d1b72d30a40a88d5a955b8f89d6ad",
       "version_major": 2,
       "version_minor": 0
      },
      "text/plain": [
       "StixviewGraph(properties={'graphHeight': 300}, url='https://raw.githubusercontent.com/oasis-open/cti-stix-elev…"
      ]
     },
     "metadata": {},
     "output_type": "display_data"
    }
   ],
   "source": [
    "StixviewGraph(\n",
    "url='https://raw.githubusercontent.com/oasis-open/cti-stix-elevator/master/idioms-json-2.1/resolve_to.json',\n",
    "properties={'graphHeight':300})"
   ]
  },
  {
   "cell_type": "code",
   "execution_count": 9,
   "metadata": {},
   "outputs": [
    {
     "data": {
      "application/vnd.jupyter.widget-view+json": {
       "model_id": "529829bb0b084f38b233a2fc7db0b195",
       "version_major": 2,
       "version_minor": 0
      },
      "text/plain": [
       "StixviewGraph(properties={'graphHeight': 300}, url='https://raw.githubusercontent.com/oasis-open/cti-stix-elev…"
      ]
     },
     "metadata": {},
     "output_type": "display_data"
    }
   ],
   "source": [
    "StixviewGraph(\n",
    "url='https://raw.githubusercontent.com/oasis-open/cti-stix-elevator/master/idioms-json-2.1/pattern_id_ref_issue.json',\n",
    "properties={'graphHeight':300})"
   ]
  },
  {
   "cell_type": "code",
   "execution_count": 10,
   "metadata": {},
   "outputs": [
    {
     "data": {
      "application/vnd.jupyter.widget-view+json": {
       "model_id": "7436eb3a550545b9bad3ff389b0110d1",
       "version_major": 2,
       "version_minor": 0
      },
      "text/plain": [
       "StixviewGraph(properties={'graphHeight': 300}, url='https://raw.githubusercontent.com/oasis-open/cti-stix-elev…"
      ]
     },
     "metadata": {},
     "output_type": "display_data"
    }
   ],
   "source": [
    "StixviewGraph(\n",
    "url='https://raw.githubusercontent.com/oasis-open/cti-stix-elevator/master/idioms-json-2.1/observable_composition.json',\n",
    "properties={'graphHeight':300})"
   ]
  },
  {
   "cell_type": "code",
   "execution_count": 11,
   "metadata": {},
   "outputs": [
    {
     "data": {
      "application/vnd.jupyter.widget-view+json": {
       "model_id": "6ddf9942daeb4e89a28bc8581cd86245",
       "version_major": 2,
       "version_minor": 0
      },
      "text/plain": [
       "StixviewGraph(properties={'graphHeight': 300}, url='https://raw.githubusercontent.com/oasis-open/cti-stix-elev…"
      ]
     },
     "metadata": {},
     "output_type": "display_data"
    }
   ],
   "source": [
    "StixviewGraph(\n",
    "url='https://raw.githubusercontent.com/oasis-open/cti-stix-elevator/master/idioms-json-2.1/observable-with-networkconnection-pattern.json',\n",
    "properties={'graphHeight':300})"
   ]
  },
  {
   "cell_type": "code",
   "execution_count": 12,
   "metadata": {},
   "outputs": [
    {
     "data": {
      "application/vnd.jupyter.widget-view+json": {
       "model_id": "0e453a8d8573450a877e41c0981111d4",
       "version_major": 2,
       "version_minor": 0
      },
      "text/plain": [
       "StixviewGraph(properties={'graphHeight': 300}, url='https://raw.githubusercontent.com/oasis-open/cti-stix-elev…"
      ]
     },
     "metadata": {},
     "output_type": "display_data"
    }
   ],
   "source": [
    "StixviewGraph(\n",
    "url='https://raw.githubusercontent.com/oasis-open/cti-stix-elevator/master/idioms-json-2.1/observable-with-networkconnection-pattern-advanced.json',\n",
    "properties={'graphHeight':300})"
   ]
  },
  {
   "cell_type": "code",
   "execution_count": 13,
   "metadata": {},
   "outputs": [
    {
     "data": {
      "application/vnd.jupyter.widget-view+json": {
       "model_id": "84c5bddd18ef400ab472da1ac93e041e",
       "version_major": 2,
       "version_minor": 0
      },
      "text/plain": [
       "StixviewGraph(properties={'graphHeight': 300}, url='https://raw.githubusercontent.com/oasis-open/cti-stix-elev…"
      ]
     },
     "metadata": {},
     "output_type": "display_data"
    }
   ],
   "source": [
    "StixviewGraph(\n",
    "url='https://raw.githubusercontent.com/oasis-open/cti-stix-elevator/master/idioms-json-2.1/observable-with-networkconnection-instance.json',\n",
    "properties={'graphHeight':300})"
   ]
  },
  {
   "cell_type": "code",
   "execution_count": 14,
   "metadata": {},
   "outputs": [
    {
     "data": {
      "application/vnd.jupyter.widget-view+json": {
       "model_id": "ce5933e43fea4c8ca2a80a9b6f9e51fd",
       "version_major": 2,
       "version_minor": 0
      },
      "text/plain": [
       "StixviewGraph(properties={'graphHeight': 300}, url='https://raw.githubusercontent.com/oasis-open/cti-stix-elev…"
      ]
     },
     "metadata": {},
     "output_type": "display_data"
    }
   ],
   "source": [
    "StixviewGraph(\n",
    "url='https://raw.githubusercontent.com/oasis-open/cti-stix-elevator/master/idioms-json-2.1/network-traffic-request-pattern.json',\n",
    "properties={'graphHeight':300})"
   ]
  },
  {
   "cell_type": "code",
   "execution_count": 15,
   "metadata": {},
   "outputs": [
    {
     "data": {
      "application/vnd.jupyter.widget-view+json": {
       "model_id": "0f13b0c65cfb41a3a574a715d4782b9d",
       "version_major": 2,
       "version_minor": 0
      },
      "text/plain": [
       "StixviewGraph(properties={'graphHeight': 300}, url='https://raw.githubusercontent.com/oasis-open/cti-stix-elev…"
      ]
     },
     "metadata": {},
     "output_type": "display_data"
    }
   ],
   "source": [
    "StixviewGraph(\n",
    "url='https://raw.githubusercontent.com/oasis-open/cti-stix-elevator/master/idioms-json-2.1/network-socket-pattern.json',\n",
    "properties={'graphHeight':300})"
   ]
  },
  {
   "cell_type": "code",
   "execution_count": 16,
   "metadata": {},
   "outputs": [
    {
     "data": {
      "application/vnd.jupyter.widget-view+json": {
       "model_id": "6ed25c4041a24a10bd3563bb8f55f244",
       "version_major": 2,
       "version_minor": 0
      },
      "text/plain": [
       "StixviewGraph(properties={'graphHeight': 300}, url='https://raw.githubusercontent.com/oasis-open/cti-stix-elev…"
      ]
     },
     "metadata": {},
     "output_type": "display_data"
    }
   ],
   "source": [
    "StixviewGraph(\n",
    "url='https://raw.githubusercontent.com/oasis-open/cti-stix-elevator/master/idioms-json-2.1/network-socket-observable.json',\n",
    "properties={'graphHeight':300})"
   ]
  },
  {
   "cell_type": "code",
   "execution_count": 17,
   "metadata": {},
   "outputs": [
    {
     "data": {
      "application/vnd.jupyter.widget-view+json": {
       "model_id": "2c4b274304c541ee819ff42b7f273fec",
       "version_major": 2,
       "version_minor": 0
      },
      "text/plain": [
       "StixviewGraph(properties={'graphHeight': 300}, url='https://raw.githubusercontent.com/oasis-open/cti-stix-elev…"
      ]
     },
     "metadata": {},
     "output_type": "display_data"
    }
   ],
   "source": [
    "StixviewGraph(\n",
    "url='https://raw.githubusercontent.com/oasis-open/cti-stix-elevator/master/idioms-json-2.1/multiple-reports-in-package.json',\n",
    "properties={'graphHeight':300})"
   ]
  },
  {
   "cell_type": "code",
   "execution_count": 18,
   "metadata": {},
   "outputs": [
    {
     "data": {
      "application/vnd.jupyter.widget-view+json": {
       "model_id": "40b5bc3d18cc4112887f4daddd3d007e",
       "version_major": 2,
       "version_minor": 0
      },
      "text/plain": [
       "StixviewGraph(properties={'graphHeight': 300}, url='https://raw.githubusercontent.com/oasis-open/cti-stix-elev…"
      ]
     },
     "metadata": {},
     "output_type": "display_data"
    }
   ],
   "source": [
    "StixviewGraph(\n",
    "url='https://raw.githubusercontent.com/oasis-open/cti-stix-elevator/master/idioms-json-2.1/malware-indicator-for-file-hash.json',\n",
    "properties={'graphHeight':300})"
   ]
  },
  {
   "cell_type": "code",
   "execution_count": 19,
   "metadata": {},
   "outputs": [
    {
     "data": {
      "application/vnd.jupyter.widget-view+json": {
       "model_id": "d3757a538ef042aea0cecf65fd530fe7",
       "version_major": 2,
       "version_minor": 0
      },
      "text/plain": [
       "StixviewGraph(properties={'graphHeight': 300}, url='https://raw.githubusercontent.com/oasis-open/cti-stix-elev…"
      ]
     },
     "metadata": {},
     "output_type": "display_data"
    }
   ],
   "source": [
    "StixviewGraph(\n",
    "url='https://raw.githubusercontent.com/oasis-open/cti-stix-elevator/master/idioms-json-2.1/malware-characterization-using-maec.json',\n",
    "properties={'graphHeight':300})"
   ]
  },
  {
   "cell_type": "code",
   "execution_count": 20,
   "metadata": {},
   "outputs": [
    {
     "data": {
      "application/vnd.jupyter.widget-view+json": {
       "model_id": "6e6cacd7808f434f9dfecf1251987de3",
       "version_major": 2,
       "version_minor": 0
      },
      "text/plain": [
       "StixviewGraph(properties={'graphHeight': 300}, url='https://raw.githubusercontent.com/oasis-open/cti-stix-elev…"
      ]
     },
     "metadata": {},
     "output_type": "display_data"
    }
   ],
   "source": [
    "StixviewGraph(\n",
    "url='https://raw.githubusercontent.com/oasis-open/cti-stix-elevator/master/idioms-json-2.1/malicious-email-indicator-with-attachment.json',\n",
    "properties={'graphHeight':300})"
   ]
  },
  {
   "cell_type": "code",
   "execution_count": 21,
   "metadata": {},
   "outputs": [
    {
     "data": {
      "application/vnd.jupyter.widget-view+json": {
       "model_id": "2f6dd73bccbc4072920c3bb10731b2c3",
       "version_major": 2,
       "version_minor": 0
      },
      "text/plain": [
       "StixviewGraph(properties={'graphHeight': 300}, url='https://raw.githubusercontent.com/oasis-open/cti-stix-elev…"
      ]
     },
     "metadata": {},
     "output_type": "display_data"
    }
   ],
   "source": [
    "StixviewGraph(\n",
    "url='https://raw.githubusercontent.com/oasis-open/cti-stix-elevator/master/idioms-json-2.1/malicious-email-indicator-with-addresses.json',\n",
    "properties={'graphHeight':300})"
   ]
  },
  {
   "cell_type": "code",
   "execution_count": 22,
   "metadata": {},
   "outputs": [
    {
     "data": {
      "application/vnd.jupyter.widget-view+json": {
       "model_id": "241c2202dc53499eb6974eb34fee3b15",
       "version_major": 2,
       "version_minor": 0
      },
      "text/plain": [
       "StixviewGraph(properties={'graphHeight': 300}, url='https://raw.githubusercontent.com/oasis-open/cti-stix-elev…"
      ]
     },
     "metadata": {},
     "output_type": "display_data"
    }
   ],
   "source": [
    "StixviewGraph(\n",
    "url='https://raw.githubusercontent.com/oasis-open/cti-stix-elevator/master/idioms-json-2.1/kill-chain.json',\n",
    "properties={'graphHeight':300})"
   ]
  },
  {
   "cell_type": "code",
   "execution_count": 23,
   "metadata": {},
   "outputs": [
    {
     "data": {
      "application/vnd.jupyter.widget-view+json": {
       "model_id": "f37c306b8c514d4b85bed0c715a03316",
       "version_major": 2,
       "version_minor": 0
      },
      "text/plain": [
       "StixviewGraph(properties={'graphHeight': 300}, url='https://raw.githubusercontent.com/oasis-open/cti-stix-elev…"
      ]
     },
     "metadata": {},
     "output_type": "display_data"
    }
   ],
   "source": [
    "StixviewGraph(\n",
    "url='https://raw.githubusercontent.com/oasis-open/cti-stix-elevator/master/idioms-json-2.1/issue62.json',\n",
    "properties={'graphHeight':300})"
   ]
  },
  {
   "cell_type": "code",
   "execution_count": 24,
   "metadata": {},
   "outputs": [
    {
     "data": {
      "application/vnd.jupyter.widget-view+json": {
       "model_id": "0c67279cdc854785a124f1b989054bde",
       "version_major": 2,
       "version_minor": 0
      },
      "text/plain": [
       "StixviewGraph(properties={'graphHeight': 300}, url='https://raw.githubusercontent.com/oasis-open/cti-stix-elev…"
      ]
     },
     "metadata": {},
     "output_type": "display_data"
    }
   ],
   "source": [
    "StixviewGraph(\n",
    "url='https://raw.githubusercontent.com/oasis-open/cti-stix-elevator/master/idioms-json-2.1/issue-162.json',\n",
    "properties={'graphHeight':300})"
   ]
  },
  {
   "cell_type": "code",
   "execution_count": 25,
   "metadata": {},
   "outputs": [
    {
     "data": {
      "application/vnd.jupyter.widget-view+json": {
       "model_id": "d90f3bc2c6b6479e8364e8e78e56004f",
       "version_major": 2,
       "version_minor": 0
      },
      "text/plain": [
       "StixviewGraph(properties={'graphHeight': 300}, url='https://raw.githubusercontent.com/oasis-open/cti-stix-elev…"
      ]
     },
     "metadata": {},
     "output_type": "display_data"
    }
   ],
   "source": [
    "StixviewGraph(\n",
    "url='https://raw.githubusercontent.com/oasis-open/cti-stix-elevator/master/idioms-json-2.1/issue-148.json',\n",
    "properties={'graphHeight':300})"
   ]
  },
  {
   "cell_type": "code",
   "execution_count": 26,
   "metadata": {},
   "outputs": [
    {
     "data": {
      "application/vnd.jupyter.widget-view+json": {
       "model_id": "3e22a55147af41acbc2eb8ca54d1385e",
       "version_major": 2,
       "version_minor": 0
      },
      "text/plain": [
       "StixviewGraph(properties={'graphHeight': 300}, url='https://raw.githubusercontent.com/oasis-open/cti-stix-elev…"
      ]
     },
     "metadata": {},
     "output_type": "display_data"
    }
   ],
   "source": [
    "StixviewGraph(\n",
    "url='https://raw.githubusercontent.com/oasis-open/cti-stix-elevator/master/idioms-json-2.1/indicator-w-kill-chain.json',\n",
    "properties={'graphHeight':300})"
   ]
  },
  {
   "cell_type": "code",
   "execution_count": 27,
   "metadata": {},
   "outputs": [
    {
     "data": {
      "application/vnd.jupyter.widget-view+json": {
       "model_id": "f42899e296254b7684f5783ce58f2be8",
       "version_major": 2,
       "version_minor": 0
      },
      "text/plain": [
       "StixviewGraph(properties={'graphHeight': 300}, url='https://raw.githubusercontent.com/oasis-open/cti-stix-elev…"
      ]
     },
     "metadata": {},
     "output_type": "display_data"
    }
   ],
   "source": [
    "StixviewGraph(\n",
    "url='https://raw.githubusercontent.com/oasis-open/cti-stix-elevator/master/idioms-json-2.1/indicator-for-malicious-url.json',\n",
    "properties={'graphHeight':300})"
   ]
  },
  {
   "cell_type": "code",
   "execution_count": 28,
   "metadata": {},
   "outputs": [
    {
     "data": {
      "application/vnd.jupyter.widget-view+json": {
       "model_id": "c97fbda360314707ae067094f0c0c618",
       "version_major": 2,
       "version_minor": 0
      },
      "text/plain": [
       "StixviewGraph(properties={'graphHeight': 300}, url='https://raw.githubusercontent.com/oasis-open/cti-stix-elev…"
      ]
     },
     "metadata": {},
     "output_type": "display_data"
    }
   ],
   "source": [
    "StixviewGraph(\n",
    "url='https://raw.githubusercontent.com/oasis-open/cti-stix-elevator/master/idioms-json-2.1/indicator-for-c2-ip-address.json',\n",
    "properties={'graphHeight':300})"
   ]
  },
  {
   "cell_type": "code",
   "execution_count": 29,
   "metadata": {},
   "outputs": [
    {
     "data": {
      "application/vnd.jupyter.widget-view+json": {
       "model_id": "b57e81c13a4241faa4edc3cb6f2efab5",
       "version_major": 2,
       "version_minor": 0
      },
      "text/plain": [
       "StixviewGraph(properties={'graphHeight': 300}, url='https://raw.githubusercontent.com/oasis-open/cti-stix-elev…"
      ]
     },
     "metadata": {},
     "output_type": "display_data"
    }
   ],
   "source": [
    "StixviewGraph(\n",
    "url='https://raw.githubusercontent.com/oasis-open/cti-stix-elevator/master/idioms-json-2.1/indicator-and-observable.json',\n",
    "properties={'graphHeight':300})"
   ]
  },
  {
   "cell_type": "code",
   "execution_count": 30,
   "metadata": {},
   "outputs": [
    {
     "data": {
      "application/vnd.jupyter.widget-view+json": {
       "model_id": "f823ec0d104f430e837e5eb3e7e5225e",
       "version_major": 2,
       "version_minor": 0
      },
      "text/plain": [
       "StixviewGraph(properties={'graphHeight': 300}, url='https://raw.githubusercontent.com/oasis-open/cti-stix-elev…"
      ]
     },
     "metadata": {},
     "output_type": "display_data"
    }
   ],
   "source": [
    "StixviewGraph(\n",
    "url='https://raw.githubusercontent.com/oasis-open/cti-stix-elevator/master/idioms-json-2.1/incident-malware.json',\n",
    "properties={'graphHeight':300})"
   ]
  },
  {
   "cell_type": "code",
   "execution_count": 31,
   "metadata": {},
   "outputs": [
    {
     "data": {
      "application/vnd.jupyter.widget-view+json": {
       "model_id": "8425e0cc7a464defbc9b25c28b7982cc",
       "version_major": 2,
       "version_minor": 0
      },
      "text/plain": [
       "StixviewGraph(properties={'graphHeight': 300}, url='https://raw.githubusercontent.com/oasis-open/cti-stix-elev…"
      ]
     },
     "metadata": {},
     "output_type": "display_data"
    }
   ],
   "source": [
    "StixviewGraph(\n",
    "url='https://raw.githubusercontent.com/oasis-open/cti-stix-elevator/master/idioms-json-2.1/identifying-a-threat-actor-group.json',\n",
    "properties={'graphHeight':300})"
   ]
  },
  {
   "cell_type": "code",
   "execution_count": 32,
   "metadata": {},
   "outputs": [
    {
     "data": {
      "application/vnd.jupyter.widget-view+json": {
       "model_id": "0027e2a14700437da365e68e9c3ca0a6",
       "version_major": 2,
       "version_minor": 0
      },
      "text/plain": [
       "StixviewGraph(properties={'graphHeight': 300}, url='https://raw.githubusercontent.com/oasis-open/cti-stix-elev…"
      ]
     },
     "metadata": {},
     "output_type": "display_data"
    }
   ],
   "source": [
    "StixviewGraph(\n",
    "url='https://raw.githubusercontent.com/oasis-open/cti-stix-elevator/master/idioms-json-2.1/icmp_pattern.json',\n",
    "properties={'graphHeight':300})"
   ]
  },
  {
   "cell_type": "code",
   "execution_count": 33,
   "metadata": {},
   "outputs": [
    {
     "data": {
      "application/vnd.jupyter.widget-view+json": {
       "model_id": "dde290a7e6e34a428c3cb3b12eac4ba0",
       "version_major": 2,
       "version_minor": 0
      },
      "text/plain": [
       "StixviewGraph(properties={'graphHeight': 300}, url='https://raw.githubusercontent.com/oasis-open/cti-stix-elev…"
      ]
     },
     "metadata": {},
     "output_type": "display_data"
    }
   ],
   "source": [
    "StixviewGraph(\n",
    "url='https://raw.githubusercontent.com/oasis-open/cti-stix-elevator/master/idioms-json-2.1/icmp_observable.json',\n",
    "properties={'graphHeight':300})"
   ]
  },
  {
   "cell_type": "code",
   "execution_count": 34,
   "metadata": {},
   "outputs": [
    {
     "data": {
      "application/vnd.jupyter.widget-view+json": {
       "model_id": "2cd857ebabdc40d88433613060456796",
       "version_major": 2,
       "version_minor": 0
      },
      "text/plain": [
       "StixviewGraph(properties={'graphHeight': 300}, url='https://raw.githubusercontent.com/oasis-open/cti-stix-elev…"
      ]
     },
     "metadata": {},
     "output_type": "display_data"
    }
   ],
   "source": [
    "StixviewGraph(\n",
    "url='https://raw.githubusercontent.com/oasis-open/cti-stix-elevator/master/idioms-json-2.1/fix-embedded-relationship-example.json',\n",
    "properties={'graphHeight':300})"
   ]
  },
  {
   "cell_type": "code",
   "execution_count": 35,
   "metadata": {},
   "outputs": [
    {
     "data": {
      "application/vnd.jupyter.widget-view+json": {
       "model_id": "b5db1d0e276b4ac89468e68426612c1f",
       "version_major": 2,
       "version_minor": 0
      },
      "text/plain": [
       "StixviewGraph(properties={'graphHeight': 300}, url='https://raw.githubusercontent.com/oasis-open/cti-stix-elev…"
      ]
     },
     "metadata": {},
     "output_type": "display_data"
    }
   ],
   "source": [
    "StixviewGraph(\n",
    "url='https://raw.githubusercontent.com/oasis-open/cti-stix-elevator/master/idioms-json-2.1/file-hash-reputation.json',\n",
    "properties={'graphHeight':300})"
   ]
  },
  {
   "cell_type": "code",
   "execution_count": 36,
   "metadata": {},
   "outputs": [
    {
     "data": {
      "application/vnd.jupyter.widget-view+json": {
       "model_id": "adf5874667004d3684e08af20e191b34",
       "version_major": 2,
       "version_minor": 0
      },
      "text/plain": [
       "StixviewGraph(properties={'graphHeight': 300}, url='https://raw.githubusercontent.com/oasis-open/cti-stix-elev…"
      ]
     },
     "metadata": {},
     "output_type": "display_data"
    }
   ],
   "source": [
    "StixviewGraph(\n",
    "url='https://raw.githubusercontent.com/oasis-open/cti-stix-elevator/master/idioms-json-2.1/file-and-directory.json',\n",
    "properties={'graphHeight':300})"
   ]
  },
  {
   "cell_type": "code",
   "execution_count": 37,
   "metadata": {},
   "outputs": [
    {
     "data": {
      "application/vnd.jupyter.widget-view+json": {
       "model_id": "15ca050b8e684c728f2c012cb11ad402",
       "version_major": 2,
       "version_minor": 0
      },
      "text/plain": [
       "StixviewGraph(properties={'graphHeight': 300}, url='https://raw.githubusercontent.com/oasis-open/cti-stix-elev…"
      ]
     },
     "metadata": {},
     "output_type": "display_data"
    }
   ],
   "source": [
    "StixviewGraph(\n",
    "url='https://raw.githubusercontent.com/oasis-open/cti-stix-elevator/master/idioms-json-2.1/file-and-directory-pattern.json',\n",
    "properties={'graphHeight':300})"
   ]
  },
  {
   "cell_type": "code",
   "execution_count": 38,
   "metadata": {},
   "outputs": [
    {
     "data": {
      "application/vnd.jupyter.widget-view+json": {
       "model_id": "80d7b4e538254b2c869a8789d5e80e48",
       "version_major": 2,
       "version_minor": 0
      },
      "text/plain": [
       "StixviewGraph(properties={'graphHeight': 300}, url='https://raw.githubusercontent.com/oasis-open/cti-stix-elev…"
      ]
     },
     "metadata": {},
     "output_type": "display_data"
    }
   ],
   "source": [
    "StixviewGraph(\n",
    "url='https://raw.githubusercontent.com/oasis-open/cti-stix-elevator/master/idioms-json-2.1/email-links-observable.json',\n",
    "properties={'graphHeight':300})"
   ]
  },
  {
   "cell_type": "code",
   "execution_count": 39,
   "metadata": {},
   "outputs": [
    {
     "data": {
      "application/vnd.jupyter.widget-view+json": {
       "model_id": "6efaf6d2d27f43f488800a2e23636f27",
       "version_major": 2,
       "version_minor": 0
      },
      "text/plain": [
       "StixviewGraph(properties={'graphHeight': 300}, url='https://raw.githubusercontent.com/oasis-open/cti-stix-elev…"
      ]
     },
     "metadata": {},
     "output_type": "display_data"
    }
   ],
   "source": [
    "StixviewGraph(\n",
    "url='https://raw.githubusercontent.com/oasis-open/cti-stix-elevator/master/idioms-json-2.1/cve-in-exploit-target.json',\n",
    "properties={'graphHeight':300})"
   ]
  },
  {
   "cell_type": "code",
   "execution_count": 40,
   "metadata": {},
   "outputs": [
    {
     "data": {
      "application/vnd.jupyter.widget-view+json": {
       "model_id": "0281d4c93de74fab99d64d20c7336514",
       "version_major": 2,
       "version_minor": 0
      },
      "text/plain": [
       "StixviewGraph(properties={'graphHeight': 300}, url='https://raw.githubusercontent.com/oasis-open/cti-stix-elev…"
      ]
     },
     "metadata": {},
     "output_type": "display_data"
    }
   ],
   "source": [
    "StixviewGraph(\n",
    "url='https://raw.githubusercontent.com/oasis-open/cti-stix-elevator/master/idioms-json-2.1/command-and-control-ip-list.json',\n",
    "properties={'graphHeight':300})"
   ]
  },
  {
   "cell_type": "code",
   "execution_count": 41,
   "metadata": {},
   "outputs": [
    {
     "data": {
      "application/vnd.jupyter.widget-view+json": {
       "model_id": "5c46ecaf1cf646d6b79e591aa3a48fed",
       "version_major": 2,
       "version_minor": 0
      },
      "text/plain": [
       "StixviewGraph(properties={'graphHeight': 300}, url='https://raw.githubusercontent.com/oasis-open/cti-stix-elev…"
      ]
     },
     "metadata": {},
     "output_type": "display_data"
    }
   ],
   "source": [
    "StixviewGraph(\n",
    "url='https://raw.githubusercontent.com/oasis-open/cti-stix-elevator/master/idioms-json-2.1/campaign-v-actors.json',\n",
    "properties={'graphHeight':300})"
   ]
  },
  {
   "cell_type": "code",
   "execution_count": 42,
   "metadata": {},
   "outputs": [
    {
     "data": {
      "application/vnd.jupyter.widget-view+json": {
       "model_id": "4a7a87f9a7f94897b88f968e0737862c",
       "version_major": 2,
       "version_minor": 0
      },
      "text/plain": [
       "StixviewGraph(properties={'graphHeight': 300}, url='https://raw.githubusercontent.com/oasis-open/cti-stix-elev…"
      ]
     },
     "metadata": {},
     "output_type": "display_data"
    }
   ],
   "source": [
    "StixviewGraph(\n",
    "url='https://raw.githubusercontent.com/oasis-open/cti-stix-elevator/master/idioms-json-2.1/block-network-traffic.json',\n",
    "properties={'graphHeight':300})"
   ]
  },
  {
   "cell_type": "code",
   "execution_count": 43,
   "metadata": {},
   "outputs": [
    {
     "data": {
      "application/vnd.jupyter.widget-view+json": {
       "model_id": "fae84b71fd7d4ddab4f933acffc6500d",
       "version_major": 2,
       "version_minor": 0
      },
      "text/plain": [
       "StixviewGraph(properties={'graphHeight': 300}, url='https://raw.githubusercontent.com/oasis-open/cti-stix-elev…"
      ]
     },
     "metadata": {},
     "output_type": "display_data"
    }
   ],
   "source": [
    "StixviewGraph(\n",
    "url='https://raw.githubusercontent.com/oasis-open/cti-stix-elevator/master/idioms-json-2.1/archive-file.json',\n",
    "properties={'graphHeight':300})"
   ]
  },
  {
   "cell_type": "code",
   "execution_count": 44,
   "metadata": {},
   "outputs": [
    {
     "data": {
      "application/vnd.jupyter.widget-view+json": {
       "model_id": "5378b9ffe01d4b37af454310769f37f0",
       "version_major": 2,
       "version_minor": 0
      },
      "text/plain": [
       "StixviewGraph(properties={'graphHeight': 300}, url='https://raw.githubusercontent.com/oasis-open/cti-stix-elev…"
      ]
     },
     "metadata": {},
     "output_type": "display_data"
    }
   ],
   "source": [
    "StixviewGraph(\n",
    "url='https://raw.githubusercontent.com/oasis-open/cti-stix-elevator/master/idioms-json-2.1/archive-file-pattern.json',\n",
    "properties={'graphHeight':300})"
   ]
  },
  {
   "cell_type": "code",
   "execution_count": 45,
   "metadata": {},
   "outputs": [
    {
     "data": {
      "application/vnd.jupyter.widget-view+json": {
       "model_id": "83107dff9ede4f0fb697c81264a03471",
       "version_major": 2,
       "version_minor": 0
      },
      "text/plain": [
       "StixviewGraph(properties={'graphHeight': 300}, url='https://raw.githubusercontent.com/oasis-open/cti-stix-elev…"
      ]
     },
     "metadata": {},
     "output_type": "display_data"
    }
   ],
   "source": [
    "StixviewGraph(\n",
    "url='https://raw.githubusercontent.com/oasis-open/cti-stix-elevator/master/idioms-json-2.1/account_indicator.json',\n",
    "properties={'graphHeight':300})"
   ]
  },
  {
   "cell_type": "code",
   "execution_count": 46,
   "metadata": {},
   "outputs": [
    {
     "data": {
      "application/vnd.jupyter.widget-view+json": {
       "model_id": "f88e763ed7a0462da42dd4b94563e8f5",
       "version_major": 2,
       "version_minor": 0
      },
      "text/plain": [
       "StixviewGraph(properties={'graphHeight': 300}, url='https://raw.githubusercontent.com/oasis-open/cti-stix-elev…"
      ]
     },
     "metadata": {},
     "output_type": "display_data"
    }
   ],
   "source": [
    "StixviewGraph(\n",
    "url='https://raw.githubusercontent.com/oasis-open/cti-stix-elevator/master/idioms-json-2.1/Mandiant_APT1_Report.json',\n",
    "properties={'graphHeight':300})"
   ]
  },
  {
   "cell_type": "code",
   "execution_count": 47,
   "metadata": {},
   "outputs": [
    {
     "data": {
      "application/vnd.jupyter.widget-view+json": {
       "model_id": "11f23870fb014a8a99ec174214f7a12d",
       "version_major": 2,
       "version_minor": 0
      },
      "text/plain": [
       "StixviewGraph(properties={'graphHeight': 300}, url='https://raw.githubusercontent.com/oasis-open/cti-stix-elev…"
      ]
     },
     "metadata": {},
     "output_type": "display_data"
    }
   ],
   "source": [
    "StixviewGraph(\n",
    "url='https://raw.githubusercontent.com/oasis-open/cti-stix-elevator/master/idioms-json-2.1/Appendix_G_IOCs_Full.json',\n",
    "properties={'graphHeight':300})"
   ]
  },
  {
   "cell_type": "code",
   "execution_count": 48,
   "metadata": {},
   "outputs": [
    {
     "data": {
      "application/vnd.jupyter.widget-view+json": {
       "model_id": "a053ae8f74f14eabb8e363129ccbe386",
       "version_major": 2,
       "version_minor": 0
      },
      "text/plain": [
       "StixviewGraph(properties={'graphHeight': 300}, url='https://raw.githubusercontent.com/oasis-open/cti-stix-elev…"
      ]
     },
     "metadata": {},
     "output_type": "display_data"
    }
   ],
   "source": [
    "StixviewGraph(\n",
    "url='https://raw.githubusercontent.com/oasis-open/cti-stix-elevator/master/idioms-json-2.1/141-TLP-marking-structures.json',\n",
    "properties={'graphHeight':300})"
   ]
  },
  {
   "cell_type": "code",
   "execution_count": null,
   "metadata": {},
   "outputs": [],
   "source": []
  }
 ],
 "metadata": {
  "hide_input": false,
  "kernelspec": {
   "display_name": "Python 3",
   "language": "python",
   "name": "python3"
  },
  "language_info": {
   "codemirror_mode": {
    "name": "ipython",
    "version": 3
   },
   "file_extension": ".py",
   "mimetype": "text/x-python",
   "name": "python",
   "nbconvert_exporter": "python",
   "pygments_lexer": "ipython3",
   "version": "3.8.6"
  },
  "widgets": {
   "application/vnd.jupyter.widget-state+json": {
    "state": {
     "0027e2a14700437da365e68e9c3ca0a6": {
      "model_module": "jupyter-widget-stixview",
      "model_module_version": "^1.0.3",
      "model_name": "StixviewGraphModel",
      "state": {
       "_model_module_version": "^1.0.3",
       "_view_module_version": "^1.0.3",
       "bundle": {},
       "gist_file": "",
       "gist_id": "",
       "layout": "IPY_MODEL_2cef5ccdd7234326b5c7c276e1ca9e35",
       "properties": {
        "graphHeight": 300
       },
       "timeout": 0,
       "url": "https://raw.githubusercontent.com/oasis-open/cti-stix-elevator/master/idioms-json-2.1/icmp_pattern.json"
      }
     },
     "004f752a2c0e418f95a13be52f197eb1": {
      "model_module": "@jupyter-widgets/base",
      "model_module_version": "1.2.0",
      "model_name": "LayoutModel",
      "state": {}
     },
     "0243b7d694c2434ba15897a14c31411d": {
      "model_module": "jupyter-widget-stixview",
      "model_module_version": "^1.0.2",
      "model_name": "StixviewGraphModel",
      "state": {
       "_model_module_version": "^1.0.2",
       "_view_module_version": "^1.0.2",
       "bundle": {},
       "gist_file": "",
       "gist_id": "",
       "layout": "IPY_MODEL_84242772109c4a66b03e4a4af29b33ea",
       "properties": {},
       "timeout": 0,
       "url": "https://raw.githubusercontent.com/oasis-open/cti-stix-elevator/master/idioms-json-2.1/indicator-for-c2-ip-address.json"
      }
     },
     "0281d4c93de74fab99d64d20c7336514": {
      "model_module": "jupyter-widget-stixview",
      "model_module_version": "^1.0.3",
      "model_name": "StixviewGraphModel",
      "state": {
       "_model_module_version": "^1.0.3",
       "_view_module_version": "^1.0.3",
       "bundle": {},
       "gist_file": "",
       "gist_id": "",
       "layout": "IPY_MODEL_cf2f537e0b2a4ba4b720a0b4c01167bf",
       "properties": {
        "graphHeight": 300
       },
       "timeout": 0,
       "url": "https://raw.githubusercontent.com/oasis-open/cti-stix-elevator/master/idioms-json-2.1/command-and-control-ip-list.json"
      }
     },
     "035790824d8c47f797f53ba854daed54": {
      "model_module": "@jupyter-widgets/base",
      "model_module_version": "1.2.0",
      "model_name": "LayoutModel",
      "state": {}
     },
     "0445852047954fd3abdbe1598470137f": {
      "model_module": "@jupyter-widgets/base",
      "model_module_version": "1.2.0",
      "model_name": "LayoutModel",
      "state": {}
     },
     "044e20956a2848aa94a2963cfe31a2df": {
      "model_module": "jupyter-widget-stixview",
      "model_module_version": "^1.0.2",
      "model_name": "StixviewGraphModel",
      "state": {
       "_model_module_version": "^1.0.2",
       "_view_module_version": "^1.0.2",
       "bundle": {},
       "gist_file": "",
       "gist_id": "",
       "layout": "IPY_MODEL_ed5fe6470c9d486588bb5a63793160f3",
       "properties": {
        "graphHeight": 300
       },
       "timeout": 0,
       "url": "https://raw.githubusercontent.com/oasis-open/cti-stix-elevator/master/idioms-json-2.1/fireeye-pivy-report-with-indicators.json"
      }
     },
     "052b13ec136e4eaf97a6b32bc9d602dd": {
      "model_module": "jupyter-widget-stixview",
      "model_module_version": "^1.0.2",
      "model_name": "StixviewGraphModel",
      "state": {
       "_model_module_version": "^1.0.2",
       "_view_module_version": "^1.0.2",
       "bundle": {},
       "gist_file": "",
       "gist_id": "",
       "layout": "IPY_MODEL_1d1220a5dc06496e85ba8fe4b508c6b8",
       "properties": {
        "graphHeight": 300
       },
       "timeout": 0,
       "url": "https://raw.githubusercontent.com/oasis-open/cti-stix-elevator/master/idioms-json-2.1/indicator-for-c2-ip-address.json"
      }
     },
     "059d9e1a84184fd3aac8253e654a485a": {
      "model_module": "jupyter-widget-stixview",
      "model_module_version": "^1.0.2",
      "model_name": "StixviewGraphModel",
      "state": {
       "_model_module_version": "^1.0.2",
       "_view_module_version": "^1.0.2",
       "bundle": {},
       "gist_file": "",
       "gist_id": "",
       "layout": "IPY_MODEL_910e31bc434a443abcdaf65cc8a3d0b0",
       "properties": {},
       "timeout": 0,
       "url": "https://raw.githubusercontent.com/oasis-open/cti-stix-elevator/master/idioms-json-2.1/indicator-for-malicious-url.json"
      }
     },
     "06db9d252c22431dafa63f4d6619b6c3": {
      "model_module": "jupyter-widget-stixview",
      "model_module_version": "^1.0.2",
      "model_name": "StixviewGraphModel",
      "state": {
       "_model_module_version": "^1.0.2",
       "_view_module_version": "^1.0.2",
       "bundle": {},
       "gist_file": "",
       "gist_id": "",
       "layout": "IPY_MODEL_44bf54a8372b4da6b47623de559178d2",
       "properties": {
        "graphHeight": 300
       },
       "timeout": 0,
       "url": "https://raw.githubusercontent.com/oasis-open/cti-stix-elevator/master/idioms-json-2.1/victim-targeting-sector.json"
      }
     },
     "06f4dc73bcb64f08bd7dc8e11183c7fc": {
      "model_module": "@jupyter-widgets/base",
      "model_module_version": "1.2.0",
      "model_name": "LayoutModel",
      "state": {}
     },
     "07563fe62871487f9fe7dad617301173": {
      "model_module": "jupyter-widget-stixview",
      "model_module_version": "^1.0.2",
      "model_name": "StixviewGraphModel",
      "state": {
       "_model_module_version": "^1.0.2",
       "_view_module_version": "^1.0.2",
       "bundle": {},
       "gist_file": "",
       "gist_id": "",
       "layout": "IPY_MODEL_aebb2823157243ea9e4a4b2d414039be",
       "properties": {
        "graphHeight": 300
       },
       "timeout": 0,
       "url": "https://raw.githubusercontent.com/oasis-open/cti-stix-elevator/master/idioms-json-2.1/file-and-directory-pattern.json"
      }
     },
     "07bd21c710d44444a5d43b1a145c4005": {
      "model_module": "jupyter-widget-stixview",
      "model_module_version": "^1.0.2",
      "model_name": "StixviewGraphModel",
      "state": {
       "_model_module_version": "^1.0.2",
       "_view_module_version": "^1.0.2",
       "bundle": {},
       "gist_file": "",
       "gist_id": "",
       "layout": "IPY_MODEL_47ab5d7099034de4a0b184cf33b0da2a",
       "properties": {},
       "timeout": 0,
       "url": "https://raw.githubusercontent.com/oasis-open/cti-stix-elevator/master/idioms-json-2.1/campaign-v-actors.json"
      }
     },
     "088f542974ea49f88a52e15b07700c62": {
      "model_module": "@jupyter-widgets/base",
      "model_module_version": "1.2.0",
      "model_name": "LayoutModel",
      "state": {}
     },
     "08ca82310c9345de8841f3d9506be8ab": {
      "model_module": "@jupyter-widgets/base",
      "model_module_version": "1.2.0",
      "model_name": "LayoutModel",
      "state": {}
     },
     "09e0202a1f434a47915895c103269b7d": {
      "model_module": "jupyter-widget-stixview",
      "model_module_version": "^1.0.2",
      "model_name": "StixviewGraphModel",
      "state": {
       "_model_module_version": "^1.0.2",
       "_view_module_version": "^1.0.2",
       "bundle": {},
       "gist_file": "",
       "gist_id": "",
       "layout": "IPY_MODEL_0445852047954fd3abdbe1598470137f",
       "properties": {
        "graphHeight": 300
       },
       "timeout": 0,
       "url": "https://raw.githubusercontent.com/oasis-open/cti-stix-elevator/master/idioms-json-2.1/threat-actor-leveraging-attack-patterns-and-malware.json"
      }
     },
     "0a17bb0a010e4363a5e514032b3ad25d": {
      "model_module": "@jupyter-widgets/base",
      "model_module_version": "1.2.0",
      "model_name": "LayoutModel",
      "state": {}
     },
     "0a50785f96f84cc9b09819f219395083": {
      "model_module": "jupyter-widget-stixview",
      "model_module_version": "^1.0.0",
      "model_name": "StixviewGraphModel",
      "state": {
       "_model_module_version": "^1.0.0",
       "_view_module_version": "^1.0.0",
       "bundle": {},
       "gist_file": "",
       "gist_id": "6a0fbb0f6e7faf063c748b23f9c7dc62",
       "layout": "IPY_MODEL_ef62c086122547cb8d59bad63b70e747",
       "properties": {},
       "timeout": 0,
       "url": ""
      }
     },
     "0a828a840ffe41b883fc9118cd8b4115": {
      "model_module": "@jupyter-widgets/base",
      "model_module_version": "1.2.0",
      "model_name": "LayoutModel",
      "state": {}
     },
     "0b21cd52bf674cfeaa9fc02d23d204cf": {
      "model_module": "jupyter-widget-stixview",
      "model_module_version": "^1.0.2",
      "model_name": "StixviewGraphModel",
      "state": {
       "_model_module_version": "^1.0.2",
       "_view_module_version": "^1.0.2",
       "bundle": {},
       "gist_file": "",
       "gist_id": "",
       "layout": "IPY_MODEL_39c3a301d25047e68c125a1c7d468eec",
       "properties": {
        "graphHeight": 300
       },
       "timeout": 0,
       "url": "https://raw.githubusercontent.com/oasis-open/cti-stix-elevator/master/idioms-json-2.1/kill-chain.json"
      }
     },
     "0c11b5b8d6e94792a9905f096ebdf666": {
      "model_module": "jupyter-widget-stixview",
      "model_module_version": "^1.0.2",
      "model_name": "StixviewGraphModel",
      "state": {
       "_model_module_version": "^1.0.2",
       "_view_module_version": "^1.0.2",
       "bundle": {},
       "gist_file": "",
       "gist_id": "",
       "layout": "IPY_MODEL_5b863fea0acb4fe38bd6a248bbf6406e",
       "properties": {
        "graphHeight": 300
       },
       "timeout": 0,
       "url": "https://raw.githubusercontent.com/oasis-open/cti-stix-elevator/master/idioms-json-2.1/fix-embedded-relationship-example.json"
      }
     },
     "0c5c4a71c2424eaf95ebe1ed2aa509c0": {
      "model_module": "jupyter-widget-stixview",
      "model_module_version": "^1.0.2",
      "model_name": "StixviewGraphModel",
      "state": {
       "_model_module_version": "^1.0.2",
       "_view_module_version": "^1.0.2",
       "bundle": {},
       "gist_file": "",
       "gist_id": "",
       "layout": "IPY_MODEL_c83fcf95148f49a1973a754aea512700",
       "properties": {},
       "timeout": 0,
       "url": "https://raw.githubusercontent.com/oasis-open/cti-stix-elevator/master/idioms-json-2.1/block-network-traffic.json"
      }
     },
     "0c67279cdc854785a124f1b989054bde": {
      "model_module": "jupyter-widget-stixview",
      "model_module_version": "^1.0.3",
      "model_name": "StixviewGraphModel",
      "state": {
       "_model_module_version": "^1.0.3",
       "_view_module_version": "^1.0.3",
       "bundle": {},
       "gist_file": "",
       "gist_id": "",
       "layout": "IPY_MODEL_2fcb1a740dba4a1c8c40c61f126bc09a",
       "properties": {
        "graphHeight": 300
       },
       "timeout": 0,
       "url": "https://raw.githubusercontent.com/oasis-open/cti-stix-elevator/master/idioms-json-2.1/issue-162.json"
      }
     },
     "0d6355e96e6047089b66530d5f7d2646": {
      "model_module": "@jupyter-widgets/base",
      "model_module_version": "1.2.0",
      "model_name": "LayoutModel",
      "state": {}
     },
     "0d72e02f708747179a6382dc4e47c829": {
      "model_module": "@jupyter-widgets/base",
      "model_module_version": "1.2.0",
      "model_name": "LayoutModel",
      "state": {}
     },
     "0e30a98814ed494e8e236eb6cf77e5b6": {
      "model_module": "jupyter-widget-stixview",
      "model_module_version": "^1.0.2",
      "model_name": "StixviewGraphModel",
      "state": {
       "_model_module_version": "^1.0.2",
       "_view_module_version": "^1.0.2",
       "bundle": {},
       "gist_file": "",
       "gist_id": "",
       "layout": "IPY_MODEL_6965ea87f5804b79a65929aa60b71bdb",
       "properties": {
        "graphHeight": 300
       },
       "timeout": 0,
       "url": "https://raw.githubusercontent.com/oasis-open/cti-stix-elevator/master/idioms-json-2.1/block-network-traffic.json"
      }
     },
     "0e453a8d8573450a877e41c0981111d4": {
      "model_module": "jupyter-widget-stixview",
      "model_module_version": "^1.0.3",
      "model_name": "StixviewGraphModel",
      "state": {
       "_model_module_version": "^1.0.3",
       "_view_module_version": "^1.0.3",
       "bundle": {},
       "gist_file": "",
       "gist_id": "",
       "layout": "IPY_MODEL_d1ae648b85d14003b56b9caf4fc8e0a9",
       "properties": {
        "graphHeight": 300
       },
       "timeout": 0,
       "url": "https://raw.githubusercontent.com/oasis-open/cti-stix-elevator/master/idioms-json-2.1/observable-with-networkconnection-pattern-advanced.json"
      }
     },
     "0f13b0c65cfb41a3a574a715d4782b9d": {
      "model_module": "jupyter-widget-stixview",
      "model_module_version": "^1.0.3",
      "model_name": "StixviewGraphModel",
      "state": {
       "_model_module_version": "^1.0.3",
       "_view_module_version": "^1.0.3",
       "bundle": {},
       "gist_file": "",
       "gist_id": "",
       "layout": "IPY_MODEL_4743d07d42fa4c57bf9b76f0696f042e",
       "properties": {
        "graphHeight": 300
       },
       "timeout": 0,
       "url": "https://raw.githubusercontent.com/oasis-open/cti-stix-elevator/master/idioms-json-2.1/network-socket-pattern.json"
      }
     },
     "0f7e0cfc76b04f1d974309b5dceb9e92": {
      "model_module": "jupyter-widget-stixview",
      "model_module_version": "^1.0.2",
      "model_name": "StixviewGraphModel",
      "state": {
       "_model_module_version": "^1.0.2",
       "_view_module_version": "^1.0.2",
       "bundle": {},
       "gist_file": "",
       "gist_id": "",
       "layout": "IPY_MODEL_780eb2d598fb45749cfea70e45ed7fcc",
       "properties": {
        "graphHeight": 300
       },
       "timeout": 0,
       "url": "https://raw.githubusercontent.com/oasis-open/cti-stix-elevator/master/idioms-json-2.1/email-links-observable.json"
      }
     },
     "0fc11541a1ca4f2a95dcb38d7d7a4623": {
      "model_module": "@jupyter-widgets/base",
      "model_module_version": "1.2.0",
      "model_name": "LayoutModel",
      "state": {}
     },
     "0fe3089412a1443f9596765c2b101955": {
      "model_module": "@jupyter-widgets/base",
      "model_module_version": "1.2.0",
      "model_name": "LayoutModel",
      "state": {}
     },
     "11f23870fb014a8a99ec174214f7a12d": {
      "model_module": "jupyter-widget-stixview",
      "model_module_version": "^1.0.3",
      "model_name": "StixviewGraphModel",
      "state": {
       "_model_module_version": "^1.0.3",
       "_view_module_version": "^1.0.3",
       "bundle": {},
       "gist_file": "",
       "gist_id": "",
       "layout": "IPY_MODEL_56f8abf7096145619c5507139cf78e4c",
       "properties": {
        "graphHeight": 300
       },
       "timeout": 0,
       "url": "https://raw.githubusercontent.com/oasis-open/cti-stix-elevator/master/idioms-json-2.1/Appendix_G_IOCs_Full.json"
      }
     },
     "1285cf7949bf469dbacb3f8e4b63bd15": {
      "model_module": "@jupyter-widgets/base",
      "model_module_version": "1.2.0",
      "model_name": "LayoutModel",
      "state": {}
     },
     "1391cb51ef884cc5964836a713a92d52": {
      "model_module": "jupyter-widget-stixview",
      "model_module_version": "^1.0.2",
      "model_name": "StixviewGraphModel",
      "state": {
       "_model_module_version": "^1.0.2",
       "_view_module_version": "^1.0.2",
       "bundle": {},
       "gist_file": "",
       "gist_id": "",
       "layout": "IPY_MODEL_a389862c32f7406a875fc1c99d123b3a",
       "properties": {},
       "timeout": 0,
       "url": "https://raw.githubusercontent.com/oasis-open/cti-stix-elevator/master/idioms-json-2.1/pattern_id_ref_issue.json"
      }
     },
     "13b2dffb5c5b44f8bd8fd378beb6b281": {
      "model_module": "@jupyter-widgets/base",
      "model_module_version": "1.2.0",
      "model_name": "LayoutModel",
      "state": {}
     },
     "13d4f7fcd66944a79cdf05856b70a3ba": {
      "model_module": "jupyter-widget-stixview",
      "model_module_version": "^1.0.2",
      "model_name": "StixviewGraphModel",
      "state": {
       "_model_module_version": "^1.0.2",
       "_view_module_version": "^1.0.2",
       "bundle": {},
       "gist_file": "",
       "gist_id": "",
       "layout": "IPY_MODEL_1b89a59c3e4a4dbaa926a21b9ce524ba",
       "properties": {
        "graphHeight": 300
       },
       "timeout": 0,
       "url": "https://raw.githubusercontent.com/oasis-open/cti-stix-elevator/master/idioms-json-2.1/Appendix_G_IOCs_Full.json"
      }
     },
     "13eb4bc88fe14484b88cfa3d1a0e8a49": {
      "model_module": "jupyter-widget-stixview",
      "model_module_version": "^1.0.2",
      "model_name": "StixviewGraphModel",
      "state": {
       "_model_module_version": "^1.0.2",
       "_view_module_version": "^1.0.2",
       "bundle": {},
       "gist_file": "",
       "gist_id": "",
       "layout": "IPY_MODEL_5be7483dc6dd40d3b0679e112a5b176b",
       "properties": {
        "graphHeight": 300
       },
       "timeout": 0,
       "url": "https://raw.githubusercontent.com/oasis-open/cti-stix-elevator/master/idioms-json-2.1/identifying-a-threat-actor-group.json"
      }
     },
     "14da4451248d4387a8e27f2b1a794a3b": {
      "model_module": "jupyter-widget-stixview",
      "model_module_version": "^1.0.2",
      "model_name": "StixviewGraphModel",
      "state": {
       "_model_module_version": "^1.0.2",
       "_view_module_version": "^1.0.2",
       "bundle": {},
       "gist_file": "",
       "gist_id": "",
       "layout": "IPY_MODEL_903ec8e73e554169be34a6ce5a8accd6",
       "properties": {},
       "timeout": 0,
       "url": "https://raw.githubusercontent.com/oasis-open/cti-stix-elevator/master/idioms-json-2.1/141-TLP-marking-structures.json"
      }
     },
     "15ca050b8e684c728f2c012cb11ad402": {
      "model_module": "jupyter-widget-stixview",
      "model_module_version": "^1.0.3",
      "model_name": "StixviewGraphModel",
      "state": {
       "_model_module_version": "^1.0.3",
       "_view_module_version": "^1.0.3",
       "bundle": {},
       "gist_file": "",
       "gist_id": "",
       "layout": "IPY_MODEL_9a3a7397b4914c7897bcc41eda7b64fe",
       "properties": {
        "graphHeight": 300
       },
       "timeout": 0,
       "url": "https://raw.githubusercontent.com/oasis-open/cti-stix-elevator/master/idioms-json-2.1/file-and-directory-pattern.json"
      }
     },
     "15e05049d60d4209a57a4d36fc3c793b": {
      "model_module": "jupyter-widget-stixview",
      "model_module_version": "^1.0.2",
      "model_name": "StixviewGraphModel",
      "state": {
       "_model_module_version": "^1.0.2",
       "_view_module_version": "^1.0.2",
       "bundle": {},
       "gist_file": "",
       "gist_id": "",
       "layout": "IPY_MODEL_66e6fc13f5c94f72ae87a0ce4b44ca7f",
       "properties": {
        "graphHeight": 300
       },
       "timeout": 0,
       "url": "https://raw.githubusercontent.com/oasis-open/cti-stix-elevator/master/idioms-json-2.1/archive-file.json"
      }
     },
     "16290e214e754360a7ae1151f8002912": {
      "model_module": "@jupyter-widgets/base",
      "model_module_version": "1.2.0",
      "model_name": "LayoutModel",
      "state": {}
     },
     "16559dfa07b44d52af1ba6b95ea010ec": {
      "model_module": "@jupyter-widgets/base",
      "model_module_version": "1.2.0",
      "model_name": "LayoutModel",
      "state": {}
     },
     "17966022cd4348b49bdf810adaaafe96": {
      "model_module": "jupyter-widget-stixview",
      "model_module_version": "^1.0.2",
      "model_name": "StixviewGraphModel",
      "state": {
       "_model_module_version": "^1.0.2",
       "_view_module_version": "^1.0.2",
       "bundle": {},
       "gist_file": "",
       "gist_id": "",
       "layout": "IPY_MODEL_a73229b52c2e4b0ab6579805e7b94a89",
       "properties": {
        "graphHeight": 300
       },
       "timeout": 0,
       "url": "https://raw.githubusercontent.com/oasis-open/cti-stix-elevator/master/idioms-json-2.1/file-and-directory.json"
      }
     },
     "17b32eea54754339aacb107f5f978a64": {
      "model_module": "@jupyter-widgets/base",
      "model_module_version": "1.2.0",
      "model_name": "LayoutModel",
      "state": {}
     },
     "18653cf3f9b04c58a0b6bfba309c96bd": {
      "model_module": "@jupyter-widgets/base",
      "model_module_version": "1.2.0",
      "model_name": "LayoutModel",
      "state": {}
     },
     "19e5a003f41940d6b6522a6ba101ddd5": {
      "model_module": "jupyter-widget-stixview",
      "model_module_version": "^1.0.2",
      "model_name": "StixviewGraphModel",
      "state": {
       "_model_module_version": "^1.0.2",
       "_view_module_version": "^1.0.2",
       "bundle": {},
       "gist_file": "",
       "gist_id": "",
       "layout": "IPY_MODEL_779bcf6731294b0aafaaccc4dc946f8b",
       "properties": {
        "graphHeight": 300
       },
       "timeout": 0,
       "url": "https://raw.githubusercontent.com/oasis-open/cti-stix-elevator/master/idioms-json-2.1/indicator-w-kill-chain.json"
      }
     },
     "1b89a59c3e4a4dbaa926a21b9ce524ba": {
      "model_module": "@jupyter-widgets/base",
      "model_module_version": "1.2.0",
      "model_name": "LayoutModel",
      "state": {}
     },
     "1bb31690b7554e858cf77fae91923fda": {
      "model_module": "@jupyter-widgets/base",
      "model_module_version": "1.2.0",
      "model_name": "LayoutModel",
      "state": {}
     },
     "1d02e53a103a4d10b3e4897ede177ec1": {
      "model_module": "jupyter-widget-stixview",
      "model_module_version": "^1.0.2",
      "model_name": "StixviewGraphModel",
      "state": {
       "_model_module_version": "^1.0.2",
       "_view_module_version": "^1.0.2",
       "bundle": {},
       "gist_file": "",
       "gist_id": "",
       "layout": "IPY_MODEL_91307f0e192a41988352696ae746fa95",
       "properties": {},
       "timeout": 0,
       "url": "https://raw.githubusercontent.com/oasis-open/cti-stix-elevator/master/idioms-json-2.1/account_indicator.json"
      }
     },
     "1d1220a5dc06496e85ba8fe4b508c6b8": {
      "model_module": "@jupyter-widgets/base",
      "model_module_version": "1.2.0",
      "model_name": "LayoutModel",
      "state": {}
     },
     "1d503845fda7422b9b8410f3ae6b5261": {
      "model_module": "@jupyter-widgets/base",
      "model_module_version": "1.2.0",
      "model_name": "LayoutModel",
      "state": {}
     },
     "1de074f7228e4edcb9ce339e4087965a": {
      "model_module": "jupyter-widget-stixview",
      "model_module_version": "^1.0.2",
      "model_name": "StixviewGraphModel",
      "state": {
       "_model_module_version": "^1.0.2",
       "_view_module_version": "^1.0.2",
       "bundle": {},
       "gist_file": "",
       "gist_id": "",
       "layout": "IPY_MODEL_932c505b394f4cd6aebdeec0d3955ac4",
       "properties": {
        "graphHeight": 300
       },
       "timeout": 0,
       "url": "https://raw.githubusercontent.com/oasis-open/cti-stix-elevator/master/idioms-json-2.1/issue-162.json"
      }
     },
     "1e477cd1429b4b1f96c5ae893971cd76": {
      "model_module": "jupyter-widget-stixview",
      "model_module_version": "^1.0.2",
      "model_name": "StixviewGraphModel",
      "state": {
       "_model_module_version": "^1.0.2",
       "_view_module_version": "^1.0.2",
       "bundle": {},
       "gist_file": "",
       "gist_id": "",
       "layout": "IPY_MODEL_c10b901e61e547998def43ab7bb317fb",
       "properties": {},
       "timeout": 0,
       "url": "https://raw.githubusercontent.com/oasis-open/cti-stix-elevator/master/idioms-json-2.1/multiple-reports-in-package.json"
      }
     },
     "1e6df8e9f78a4a4cae059c3c23148b8b": {
      "model_module": "@jupyter-widgets/base",
      "model_module_version": "1.2.0",
      "model_name": "LayoutModel",
      "state": {}
     },
     "1e8e1ec1fdfe495fa18b24f7e52cf6a5": {
      "model_module": "@jupyter-widgets/base",
      "model_module_version": "1.2.0",
      "model_name": "LayoutModel",
      "state": {}
     },
     "1fb14e704310468b956358eebd290fdb": {
      "model_module": "@jupyter-widgets/base",
      "model_module_version": "1.2.0",
      "model_name": "LayoutModel",
      "state": {}
     },
     "205a01136b6c4f37b39333139b850e69": {
      "model_module": "jupyter-widget-stixview",
      "model_module_version": "^1.0.2",
      "model_name": "StixviewGraphModel",
      "state": {
       "_model_module_version": "^1.0.2",
       "_view_module_version": "^1.0.2",
       "bundle": {},
       "gist_file": "",
       "gist_id": "",
       "layout": "IPY_MODEL_4b9a5b2e8c2a4e828c2fe544ba4649be",
       "properties": {
        "graphHeight": 300
       },
       "timeout": 0,
       "url": "https://raw.githubusercontent.com/oasis-open/cti-stix-elevator/master/idioms-json-2.1/Appendix_G_IOCs_Full.json"
      }
     },
     "210daf334aba46419f30b6a471148aca": {
      "model_module": "@jupyter-widgets/base",
      "model_module_version": "1.2.0",
      "model_name": "LayoutModel",
      "state": {}
     },
     "221425e8f1da4f5a8f133a0ed2a7f9cb": {
      "model_module": "jupyter-widget-stixview",
      "model_module_version": "^1.0.2",
      "model_name": "StixviewGraphModel",
      "state": {
       "_model_module_version": "^1.0.2",
       "_view_module_version": "^1.0.2",
       "bundle": {},
       "gist_file": "",
       "gist_id": "",
       "layout": "IPY_MODEL_85f71143b1c44fc39f438b12a72a3698",
       "properties": {},
       "timeout": 0,
       "url": "https://raw.githubusercontent.com/oasis-open/cti-stix-elevator/master/idioms-json-2.1/icmp_pattern.json"
      }
     },
     "2261f27797f443888d869b9c8dbe08a8": {
      "model_module": "jupyter-widget-stixview",
      "model_module_version": "^1.0.2",
      "model_name": "StixviewGraphModel",
      "state": {
       "_model_module_version": "^1.0.2",
       "_view_module_version": "^1.0.2",
       "bundle": {},
       "gist_file": "",
       "gist_id": "",
       "layout": "IPY_MODEL_c88f28ae3fd040d38cc2453808ea9233",
       "properties": {
        "graphHeight": 300
       },
       "timeout": 0,
       "url": "https://raw.githubusercontent.com/oasis-open/cti-stix-elevator/master/idioms-json-2.1/icmp_pattern.json"
      }
     },
     "2302feb681b040bfac1731fadf386713": {
      "model_module": "jupyter-widget-stixview",
      "model_module_version": "^1.0.2",
      "model_name": "StixviewGraphModel",
      "state": {
       "_model_module_version": "^1.0.2",
       "_view_module_version": "^1.0.2",
       "bundle": {},
       "gist_file": "",
       "gist_id": "",
       "layout": "IPY_MODEL_2b8833d135cf43debc072f9b935cf900",
       "properties": {},
       "timeout": 0,
       "url": "https://raw.githubusercontent.com/oasis-open/cti-stix-elevator/master/idioms-json-2.1/indicator-w-kill-chain.json"
      }
     },
     "241c2202dc53499eb6974eb34fee3b15": {
      "model_module": "jupyter-widget-stixview",
      "model_module_version": "^1.0.3",
      "model_name": "StixviewGraphModel",
      "state": {
       "_model_module_version": "^1.0.3",
       "_view_module_version": "^1.0.3",
       "bundle": {},
       "gist_file": "",
       "gist_id": "",
       "layout": "IPY_MODEL_26a3d2efc3eb4b94a72f534710e6b924",
       "properties": {
        "graphHeight": 300
       },
       "timeout": 0,
       "url": "https://raw.githubusercontent.com/oasis-open/cti-stix-elevator/master/idioms-json-2.1/kill-chain.json"
      }
     },
     "24870799f0d2418496750aa57986b1ec": {
      "model_module": "jupyter-widget-stixview",
      "model_module_version": "^1.0.2",
      "model_name": "StixviewGraphModel",
      "state": {
       "_model_module_version": "^1.0.2",
       "_view_module_version": "^1.0.2",
       "bundle": {},
       "gist_file": "",
       "gist_id": "",
       "layout": "IPY_MODEL_ff7e2d4f0b644d21bba4c3a73889935d",
       "properties": {
        "graphHeight": 300
       },
       "timeout": 0,
       "url": "https://raw.githubusercontent.com/oasis-open/cti-stix-elevator/master/idioms-json-2.1/malicious-email-indicator-with-attachment.json"
      }
     },
     "2504096fe7ab4f3e9fb7a335d70bfa1c": {
      "model_module": "jupyter-widget-stixview",
      "model_module_version": "^1.0.2",
      "model_name": "StixviewGraphModel",
      "state": {
       "_model_module_version": "^1.0.2",
       "_view_module_version": "^1.0.2",
       "bundle": {},
       "gist_file": "",
       "gist_id": "",
       "layout": "IPY_MODEL_4d9ef1fb04f14266a22475594c21acbc",
       "properties": {
        "graphHeight": 300
       },
       "timeout": 0,
       "url": "https://raw.githubusercontent.com/oasis-open/cti-stix-elevator/master/idioms-json-2.1/observable-with-networkconnection-pattern-advanced.json"
      }
     },
     "258ba31ba3a6409b8956550703929a6c": {
      "model_module": "jupyter-widget-stixview",
      "model_module_version": "^1.0.2",
      "model_name": "StixviewGraphModel",
      "state": {
       "_model_module_version": "^1.0.2",
       "_view_module_version": "^1.0.2",
       "bundle": {},
       "gist_file": "",
       "gist_id": "",
       "layout": "IPY_MODEL_f0372d897975419fbde0db76b2dbc27b",
       "properties": {
        "graphHeight": 300
       },
       "timeout": 0,
       "url": "https://raw.githubusercontent.com/oasis-open/cti-stix-elevator/master/idioms-json-2.1/archive-file.json"
      }
     },
     "26a3d2efc3eb4b94a72f534710e6b924": {
      "model_module": "@jupyter-widgets/base",
      "model_module_version": "1.2.0",
      "model_name": "LayoutModel",
      "state": {}
     },
     "26dd187d2d62497993483b012a451ac7": {
      "model_module": "@jupyter-widgets/base",
      "model_module_version": "1.2.0",
      "model_name": "LayoutModel",
      "state": {}
     },
     "26fa68f578e1470f83bc68d83997372d": {
      "model_module": "jupyter-widget-stixview",
      "model_module_version": "^1.0.2",
      "model_name": "StixviewGraphModel",
      "state": {
       "_model_module_version": "^1.0.2",
       "_view_module_version": "^1.0.2",
       "bundle": {},
       "gist_file": "",
       "gist_id": "",
       "layout": "IPY_MODEL_acb73201dc154561be4a81506f68ab5e",
       "properties": {
        "graphHeight": 300
       },
       "timeout": 0,
       "url": "https://raw.githubusercontent.com/oasis-open/cti-stix-elevator/master/idioms-json-2.1/cve-in-exploit-target.json"
      }
     },
     "27ee9950afc54eb0a9f62cc292d189fc": {
      "model_module": "@jupyter-widgets/base",
      "model_module_version": "1.2.0",
      "model_name": "LayoutModel",
      "state": {}
     },
     "28e261f8e94f4426b3625aa59ff334f2": {
      "model_module": "@jupyter-widgets/base",
      "model_module_version": "1.2.0",
      "model_name": "LayoutModel",
      "state": {}
     },
     "293f825d4ec449b3805a4f8e9d2c34d3": {
      "model_module": "@jupyter-widgets/base",
      "model_module_version": "1.2.0",
      "model_name": "LayoutModel",
      "state": {}
     },
     "2b1ab768cb3c4085aa064e6c7f8b0f50": {
      "model_module": "@jupyter-widgets/base",
      "model_module_version": "1.2.0",
      "model_name": "LayoutModel",
      "state": {}
     },
     "2b8833d135cf43debc072f9b935cf900": {
      "model_module": "@jupyter-widgets/base",
      "model_module_version": "1.2.0",
      "model_name": "LayoutModel",
      "state": {}
     },
     "2bafb3b6428a4fe5bad1c46770807b39": {
      "model_module": "jupyter-widget-stixview",
      "model_module_version": "^1.0.2",
      "model_name": "StixviewGraphModel",
      "state": {
       "_model_module_version": "^1.0.2",
       "_view_module_version": "^1.0.2",
       "bundle": {},
       "gist_file": "",
       "gist_id": "",
       "layout": "IPY_MODEL_98a146df8f18491c99900eeec27a9118",
       "properties": {
        "graphHeight": 300
       },
       "timeout": 0,
       "url": "https://raw.githubusercontent.com/oasis-open/cti-stix-elevator/master/idioms-json-2.1/malware-characterization-using-maec.json"
      }
     },
     "2bc1cc9decf74033bd6ccd7b4400df74": {
      "model_module": "@jupyter-widgets/base",
      "model_module_version": "1.2.0",
      "model_name": "LayoutModel",
      "state": {}
     },
     "2c4b274304c541ee819ff42b7f273fec": {
      "model_module": "jupyter-widget-stixview",
      "model_module_version": "^1.0.3",
      "model_name": "StixviewGraphModel",
      "state": {
       "_model_module_version": "^1.0.3",
       "_view_module_version": "^1.0.3",
       "bundle": {},
       "gist_file": "",
       "gist_id": "",
       "layout": "IPY_MODEL_3ef222e9527e4c74b5a7e87b7615c61d",
       "properties": {
        "graphHeight": 300
       },
       "timeout": 0,
       "url": "https://raw.githubusercontent.com/oasis-open/cti-stix-elevator/master/idioms-json-2.1/multiple-reports-in-package.json"
      }
     },
     "2c6d8358325342728e89b64e5a3b374e": {
      "model_module": "@jupyter-widgets/base",
      "model_module_version": "1.2.0",
      "model_name": "LayoutModel",
      "state": {}
     },
     "2cbfca564c124a95851d04a3140e7916": {
      "model_module": "jupyter-widget-stixview",
      "model_module_version": "^1.0.2",
      "model_name": "StixviewGraphModel",
      "state": {
       "_model_module_version": "^1.0.2",
       "_view_module_version": "^1.0.2",
       "bundle": {},
       "gist_file": "",
       "gist_id": "",
       "layout": "IPY_MODEL_716d9c9dfb2c473aaa610e18c5425dd4",
       "properties": {
        "graphHeight": 200
       },
       "timeout": 0,
       "url": "https://raw.githubusercontent.com/oasis-open/cti-stix-elevator/master/idioms-json-2.1/141-TLP-marking-structures.json"
      }
     },
     "2cd857ebabdc40d88433613060456796": {
      "model_module": "jupyter-widget-stixview",
      "model_module_version": "^1.0.3",
      "model_name": "StixviewGraphModel",
      "state": {
       "_model_module_version": "^1.0.3",
       "_view_module_version": "^1.0.3",
       "bundle": {},
       "gist_file": "",
       "gist_id": "",
       "layout": "IPY_MODEL_a6520ce1a8d7409a8b789c20675ff6b6",
       "properties": {
        "graphHeight": 300
       },
       "timeout": 0,
       "url": "https://raw.githubusercontent.com/oasis-open/cti-stix-elevator/master/idioms-json-2.1/fix-embedded-relationship-example.json"
      }
     },
     "2cef5ccdd7234326b5c7c276e1ca9e35": {
      "model_module": "@jupyter-widgets/base",
      "model_module_version": "1.2.0",
      "model_name": "LayoutModel",
      "state": {}
     },
     "2da33cf725764a7aa23c1fe4c252b3c7": {
      "model_module": "@jupyter-widgets/base",
      "model_module_version": "1.2.0",
      "model_name": "LayoutModel",
      "state": {}
     },
     "2ed425872f304f038d5e0a788fdcd6a7": {
      "model_module": "jupyter-widget-stixview",
      "model_module_version": "^1.0.2",
      "model_name": "StixviewGraphModel",
      "state": {
       "_model_module_version": "^1.0.2",
       "_view_module_version": "^1.0.2",
       "bundle": {},
       "gist_file": "",
       "gist_id": "",
       "layout": "IPY_MODEL_7b9c0164ca7b476e984fd04f984b7f75",
       "properties": {
        "graphHeight": 300
       },
       "timeout": 0,
       "url": "https://raw.githubusercontent.com/oasis-open/cti-stix-elevator/master/idioms-json-2.1/campaign-v-actors.json"
      }
     },
     "2eede3d752d947fa96f1e0584c01cd4f": {
      "model_module": "jupyter-widget-stixview",
      "model_module_version": "^1.0.2",
      "model_name": "StixviewGraphModel",
      "state": {
       "_model_module_version": "^1.0.2",
       "_view_module_version": "^1.0.2",
       "bundle": {},
       "gist_file": "",
       "gist_id": "",
       "layout": "IPY_MODEL_7e82d6ce423946b1960c298614e82baf",
       "properties": {
        "graphHeight": 300
       },
       "timeout": 0,
       "url": "https://raw.githubusercontent.com/oasis-open/cti-stix-elevator/master/idioms-json-2.1/identifying-a-threat-actor-group.json"
      }
     },
     "2f6dd73bccbc4072920c3bb10731b2c3": {
      "model_module": "jupyter-widget-stixview",
      "model_module_version": "^1.0.3",
      "model_name": "StixviewGraphModel",
      "state": {
       "_model_module_version": "^1.0.3",
       "_view_module_version": "^1.0.3",
       "bundle": {},
       "gist_file": "",
       "gist_id": "",
       "layout": "IPY_MODEL_dcd35359d6ec4d7c97d987cb8a34bb77",
       "properties": {
        "graphHeight": 300
       },
       "timeout": 0,
       "url": "https://raw.githubusercontent.com/oasis-open/cti-stix-elevator/master/idioms-json-2.1/malicious-email-indicator-with-addresses.json"
      }
     },
     "2f8b0860564a46c69f7f7b2c517461e2": {
      "model_module": "@jupyter-widgets/base",
      "model_module_version": "1.2.0",
      "model_name": "LayoutModel",
      "state": {}
     },
     "2fcb1a740dba4a1c8c40c61f126bc09a": {
      "model_module": "@jupyter-widgets/base",
      "model_module_version": "1.2.0",
      "model_name": "LayoutModel",
      "state": {}
     },
     "30508d128ed1426ba266cc129560d313": {
      "model_module": "@jupyter-widgets/base",
      "model_module_version": "1.2.0",
      "model_name": "LayoutModel",
      "state": {}
     },
     "305896bda15f4d0eaa80226592557b40": {
      "model_module": "jupyter-widget-stixview",
      "model_module_version": "^1.0.2",
      "model_name": "StixviewGraphModel",
      "state": {
       "_model_module_version": "^1.0.2",
       "_view_module_version": "^1.0.2",
       "bundle": {},
       "gist_file": "",
       "gist_id": "",
       "layout": "IPY_MODEL_7eb0574f6b9e434ea4dbe8488fc448b9",
       "properties": {
        "graphHeight": 300
       },
       "timeout": 0,
       "url": "https://raw.githubusercontent.com/oasis-open/cti-stix-elevator/master/idioms-json-2.1/malicious-email-indicator-with-attachment.json"
      }
     },
     "3076d95176ba4e088f4f5a65e50765b5": {
      "model_module": "jupyter-widget-stixview",
      "model_module_version": "^1.0.3",
      "model_name": "StixviewGraphModel",
      "state": {
       "_model_module_version": "^1.0.3",
       "_view_module_version": "^1.0.3",
       "bundle": {},
       "gist_file": "",
       "gist_id": "",
       "layout": "IPY_MODEL_58108d24049b4d60b28568c1a339ce0e",
       "properties": {
        "graphHeight": 300
       },
       "timeout": 0,
       "url": "https://raw.githubusercontent.com/oasis-open/cti-stix-elevator/master/idioms-json-2.1/threat-actor-leveraging-attack-patterns-and-malware.json"
      }
     },
     "30c5b1670f414d3a9f276278b8d8dcbd": {
      "model_module": "@jupyter-widgets/base",
      "model_module_version": "1.2.0",
      "model_name": "LayoutModel",
      "state": {}
     },
     "30d8b516ff6d4fab8b77e3e7296b40d0": {
      "model_module": "jupyter-widget-stixview",
      "model_module_version": "^1.0.2",
      "model_name": "StixviewGraphModel",
      "state": {
       "_model_module_version": "^1.0.2",
       "_view_module_version": "^1.0.2",
       "bundle": {},
       "gist_file": "",
       "gist_id": "",
       "layout": "IPY_MODEL_ad3fc3e32c384991b89b56173cb0fe1b",
       "properties": {
        "graphHeight": 300
       },
       "timeout": 0,
       "url": "https://raw.githubusercontent.com/oasis-open/cti-stix-elevator/master/idioms-json-2.1/observable-with-networkconnection-pattern.json"
      }
     },
     "325e60b03c1d44289ca4c7296ab5e4ce": {
      "model_module": "jupyter-widget-stixview",
      "model_module_version": "^1.0.2",
      "model_name": "StixviewGraphModel",
      "state": {
       "_model_module_version": "^1.0.2",
       "_view_module_version": "^1.0.2",
       "bundle": {},
       "gist_file": "",
       "gist_id": "",
       "layout": "IPY_MODEL_d21e710220bf419fa1410e97339aa977",
       "properties": {},
       "timeout": 0,
       "url": "https://raw.githubusercontent.com/oasis-open/cti-stix-elevator/master/idioms-json-2.1/victim-targeting.json"
      }
     },
     "32d516efd25b4395a51f4748cbef372b": {
      "model_module": "@jupyter-widgets/base",
      "model_module_version": "1.2.0",
      "model_name": "LayoutModel",
      "state": {}
     },
     "337d7df063974303855420720a62cab3": {
      "model_module": "@jupyter-widgets/base",
      "model_module_version": "1.2.0",
      "model_name": "LayoutModel",
      "state": {}
     },
     "3457c5d83f9743d483c301ab669fb1a4": {
      "model_module": "@jupyter-widgets/base",
      "model_module_version": "1.2.0",
      "model_name": "LayoutModel",
      "state": {}
     },
     "35499ca760024dada627a79f1b1dbc77": {
      "model_module": "jupyter-widget-stixview",
      "model_module_version": "^1.0.2",
      "model_name": "StixviewGraphModel",
      "state": {
       "_model_module_version": "^1.0.2",
       "_view_module_version": "^1.0.2",
       "bundle": {},
       "gist_file": "",
       "gist_id": "",
       "layout": "IPY_MODEL_c7ac1b4f4556489e9f13d21e162b3fb2",
       "properties": {},
       "timeout": 0,
       "url": "https://raw.githubusercontent.com/oasis-open/cti-stix-elevator/master/idioms-json-2.1/observable-with-networkconnection-pattern.json"
      }
     },
     "35e32fb5893a47c0b548722968fae8c8": {
      "model_module": "jupyter-widget-stixview",
      "model_module_version": "^1.0.2",
      "model_name": "StixviewGraphModel",
      "state": {
       "_model_module_version": "^1.0.2",
       "_view_module_version": "^1.0.2",
       "bundle": {},
       "gist_file": "",
       "gist_id": "",
       "layout": "IPY_MODEL_66947b50d9324c28bc81752c354411d8",
       "properties": {
        "graphHeight": 300
       },
       "timeout": 0,
       "url": "https://raw.githubusercontent.com/oasis-open/cti-stix-elevator/master/idioms-json-2.1/file-and-directory.json"
      }
     },
     "362f5cdaffeb4048926dc17a82d044da": {
      "model_module": "jupyter-widget-stixview",
      "model_module_version": "^1.0.2",
      "model_name": "StixviewGraphModel",
      "state": {
       "_model_module_version": "^1.0.2",
       "_view_module_version": "^1.0.2",
       "bundle": {},
       "gist_file": "",
       "gist_id": "",
       "layout": "IPY_MODEL_9691e8d333614a189bda5c88bf4c9390",
       "properties": {
        "graphHeight": 300
       },
       "timeout": 0,
       "url": "https://raw.githubusercontent.com/oasis-open/cti-stix-elevator/master/idioms-json-2.1/campaign-v-actors.json"
      }
     },
     "36fcbb0d19c54ce493c6067a9451a386": {
      "model_module": "@jupyter-widgets/base",
      "model_module_version": "1.2.0",
      "model_name": "LayoutModel",
      "state": {}
     },
     "37300ed801344e80ba9dea274f930b4a": {
      "model_module": "@jupyter-widgets/base",
      "model_module_version": "1.2.0",
      "model_name": "LayoutModel",
      "state": {}
     },
     "37395ff2753540f49db8fee783e0703e": {
      "model_module": "jupyter-widget-stixview",
      "model_module_version": "^1.0.2",
      "model_name": "StixviewGraphModel",
      "state": {
       "_model_module_version": "^1.0.2",
       "_view_module_version": "^1.0.2",
       "bundle": {},
       "gist_file": "",
       "gist_id": "",
       "layout": "IPY_MODEL_681fa973ec9d4812ab266170a059e323",
       "properties": {
        "graphHeight": 300
       },
       "timeout": 0,
       "url": "https://raw.githubusercontent.com/oasis-open/cti-stix-elevator/master/idioms-json-2.1/141-TLP-marking-structures.json"
      }
     },
     "3804fa42507440d980212fa2331a395b": {
      "model_module": "@jupyter-widgets/base",
      "model_module_version": "1.2.0",
      "model_name": "LayoutModel",
      "state": {}
     },
     "383e7fd35306435bb74c6a89795152d2": {
      "model_module": "jupyter-widget-stixview",
      "model_module_version": "^1.0.2",
      "model_name": "StixviewGraphModel",
      "state": {
       "_model_module_version": "^1.0.2",
       "_view_module_version": "^1.0.2",
       "bundle": {},
       "gist_file": "",
       "gist_id": "",
       "layout": "IPY_MODEL_59c8e85735c544968b997252a92d4e0d",
       "properties": {},
       "timeout": 0,
       "url": "https://raw.githubusercontent.com/oasis-open/cti-stix-elevator/master/idioms-json-2.1/file-hash-reputation.json"
      }
     },
     "38f36ce26bb84141a88afdd7274e7d9a": {
      "model_module": "jupyter-widget-stixview",
      "model_module_version": "^1.0.2",
      "model_name": "StixviewGraphModel",
      "state": {
       "_model_module_version": "^1.0.2",
       "_view_module_version": "^1.0.2",
       "bundle": {},
       "gist_file": "",
       "gist_id": "",
       "layout": "IPY_MODEL_41c0402c195046dfab5c3f98031acb6d",
       "properties": {
        "graphHeight": 300
       },
       "timeout": 0,
       "url": "https://raw.githubusercontent.com/oasis-open/cti-stix-elevator/master/idioms-json-2.1/fix-embedded-relationship-example.json"
      }
     },
     "38f965136e724da08af92501dbca4447": {
      "model_module": "@jupyter-widgets/base",
      "model_module_version": "1.2.0",
      "model_name": "LayoutModel",
      "state": {}
     },
     "39c3a301d25047e68c125a1c7d468eec": {
      "model_module": "@jupyter-widgets/base",
      "model_module_version": "1.2.0",
      "model_name": "LayoutModel",
      "state": {}
     },
     "39e335714e704abc9d446ee67f120799": {
      "model_module": "jupyter-widget-stixview",
      "model_module_version": "^1.0.2",
      "model_name": "StixviewGraphModel",
      "state": {
       "_model_module_version": "^1.0.2",
       "_view_module_version": "^1.0.2",
       "bundle": {},
       "gist_file": "",
       "gist_id": "",
       "layout": "IPY_MODEL_f9dabc400d574119bdec108d285b8e31",
       "properties": {
        "graphHeight": 300
       },
       "timeout": 0,
       "url": "https://raw.githubusercontent.com/oasis-open/cti-stix-elevator/master/idioms-json-2.1/victim-targeting.json"
      }
     },
     "3aaea0d5a2b34fd6beff43633a4d63af": {
      "model_module": "jupyter-widget-stixview",
      "model_module_version": "^1.0.2",
      "model_name": "StixviewGraphModel",
      "state": {
       "_model_module_version": "^1.0.2",
       "_view_module_version": "^1.0.2",
       "bundle": {},
       "gist_file": "",
       "gist_id": "",
       "layout": "IPY_MODEL_ae344f843ce4485dbbf52f88db6aeb3f",
       "properties": {
        "graphHeight": 300
       },
       "timeout": 0,
       "url": "https://raw.githubusercontent.com/oasis-open/cti-stix-elevator/master/idioms-json-2.1/snort-test-mechanism.json"
      }
     },
     "3ace8dba2e3f4f3c9ca0be16d3d0d1e8": {
      "model_module": "@jupyter-widgets/base",
      "model_module_version": "1.2.0",
      "model_name": "LayoutModel",
      "state": {}
     },
     "3b953da8f3fc412a9931bc13bc6af44d": {
      "model_module": "@jupyter-widgets/base",
      "model_module_version": "1.2.0",
      "model_name": "LayoutModel",
      "state": {}
     },
     "3d20ee6fd3644cfe833d82c561a628e3": {
      "model_module": "@jupyter-widgets/base",
      "model_module_version": "1.2.0",
      "model_name": "LayoutModel",
      "state": {}
     },
     "3e22a55147af41acbc2eb8ca54d1385e": {
      "model_module": "jupyter-widget-stixview",
      "model_module_version": "^1.0.3",
      "model_name": "StixviewGraphModel",
      "state": {
       "_model_module_version": "^1.0.3",
       "_view_module_version": "^1.0.3",
       "bundle": {},
       "gist_file": "",
       "gist_id": "",
       "layout": "IPY_MODEL_485354b186a3430da215fd19b6f34077",
       "properties": {
        "graphHeight": 300
       },
       "timeout": 0,
       "url": "https://raw.githubusercontent.com/oasis-open/cti-stix-elevator/master/idioms-json-2.1/indicator-w-kill-chain.json"
      }
     },
     "3ed7ec15f9594324a02bb2ea74685b57": {
      "model_module": "jupyter-widget-stixview",
      "model_module_version": "^1.0.2",
      "model_name": "StixviewGraphModel",
      "state": {
       "_model_module_version": "^1.0.2",
       "_view_module_version": "^1.0.2",
       "bundle": {},
       "gist_file": "",
       "gist_id": "",
       "layout": "IPY_MODEL_5049867ce7d34dd583f07b8a895249f5",
       "properties": {
        "graphHeight": 300
       },
       "timeout": 0,
       "url": "https://raw.githubusercontent.com/oasis-open/cti-stix-elevator/master/idioms-json-2.1/file-hash-reputation.json"
      }
     },
     "3ef222e9527e4c74b5a7e87b7615c61d": {
      "model_module": "@jupyter-widgets/base",
      "model_module_version": "1.2.0",
      "model_name": "LayoutModel",
      "state": {}
     },
     "40149a3b3de343078d6ff7545b16c4d9": {
      "model_module": "jupyter-widget-stixview",
      "model_module_version": "^1.0.3",
      "model_name": "StixviewGraphModel",
      "state": {
       "_model_module_version": "^1.0.3",
       "_view_module_version": "^1.0.3",
       "bundle": {},
       "gist_file": "",
       "gist_id": "",
       "layout": "IPY_MODEL_6a5a63f925ed4f498b8e537ee0605e67",
       "properties": {
        "graphHeight": 300
       },
       "timeout": 0,
       "url": "https://raw.githubusercontent.com/oasis-open/cti-stix-elevator/master/idioms-json-2.1/snort-test-mechanism.json"
      }
     },
     "40b5bc3d18cc4112887f4daddd3d007e": {
      "model_module": "jupyter-widget-stixview",
      "model_module_version": "^1.0.3",
      "model_name": "StixviewGraphModel",
      "state": {
       "_model_module_version": "^1.0.3",
       "_view_module_version": "^1.0.3",
       "bundle": {},
       "gist_file": "",
       "gist_id": "",
       "layout": "IPY_MODEL_80e6c1ddeaca429b8f68fb6a4f07a0e3",
       "properties": {
        "graphHeight": 300
       },
       "timeout": 0,
       "url": "https://raw.githubusercontent.com/oasis-open/cti-stix-elevator/master/idioms-json-2.1/malware-indicator-for-file-hash.json"
      }
     },
     "411f709ed8254d339aa46ada89e326a7": {
      "model_module": "@jupyter-widgets/base",
      "model_module_version": "1.2.0",
      "model_name": "LayoutModel",
      "state": {}
     },
     "4192900088ae496bb25e3053bd0a87e4": {
      "model_module": "jupyter-widget-stixview",
      "model_module_version": "^1.0.2",
      "model_name": "StixviewGraphModel",
      "state": {
       "_model_module_version": "^1.0.2",
       "_view_module_version": "^1.0.2",
       "bundle": {},
       "gist_file": "",
       "gist_id": "",
       "layout": "IPY_MODEL_b107defb02954d899786a7a1ccbb4a14",
       "properties": {
        "graphHeight": 300
       },
       "timeout": 0,
       "url": "https://raw.githubusercontent.com/oasis-open/cti-stix-elevator/master/idioms-json-2.1/command-and-control-ip-list.json"
      }
     },
     "41c0402c195046dfab5c3f98031acb6d": {
      "model_module": "@jupyter-widgets/base",
      "model_module_version": "1.2.0",
      "model_name": "LayoutModel",
      "state": {}
     },
     "428eea847ad4491fba8dd08dd17e46db": {
      "model_module": "jupyter-widget-stixview",
      "model_module_version": "^1.0.2",
      "model_name": "StixviewGraphModel",
      "state": {
       "_model_module_version": "^1.0.2",
       "_view_module_version": "^1.0.2",
       "bundle": {},
       "gist_file": "",
       "gist_id": "",
       "layout": "IPY_MODEL_f9a13669b7544a79be6cab85e5674b99",
       "properties": {
        "graphHeight": 300
       },
       "timeout": 0,
       "url": "https://raw.githubusercontent.com/oasis-open/cti-stix-elevator/master/idioms-json-2.1/account_indicator.json"
      }
     },
     "42b1054196bf4811b2cdfba2fecf74f9": {
      "model_module": "@jupyter-widgets/base",
      "model_module_version": "1.2.0",
      "model_name": "LayoutModel",
      "state": {}
     },
     "436a7bff7ffd4fe2b8f7e9d7658f0947": {
      "model_module": "jupyter-widget-stixview",
      "model_module_version": "^1.0.2",
      "model_name": "StixviewGraphModel",
      "state": {
       "_model_module_version": "^1.0.2",
       "_view_module_version": "^1.0.2",
       "bundle": {},
       "gist_file": "",
       "gist_id": "",
       "layout": "IPY_MODEL_cc4171f334dc4091a1d29ad4f623ec6b",
       "properties": {
        "graphHeight": 300
       },
       "timeout": 0,
       "url": "https://raw.githubusercontent.com/oasis-open/cti-stix-elevator/master/idioms-json-2.1/archive-file-pattern.json"
      }
     },
     "4396710c5e164a4ab03f441b52f54455": {
      "model_module": "@jupyter-widgets/base",
      "model_module_version": "1.2.0",
      "model_name": "LayoutModel",
      "state": {}
     },
     "439b1e395717474b97bc25ec0b9cf219": {
      "model_module": "jupyter-widget-stixview",
      "model_module_version": "^1.0.2",
      "model_name": "StixviewGraphModel",
      "state": {
       "_model_module_version": "^1.0.2",
       "_view_module_version": "^1.0.2",
       "bundle": {},
       "gist_file": "",
       "gist_id": "",
       "layout": "IPY_MODEL_97db9b4cfcc84ff196ef817c13fe2359",
       "properties": {
        "graphHeight": 300
       },
       "timeout": 0,
       "url": "https://raw.githubusercontent.com/oasis-open/cti-stix-elevator/master/idioms-json-2.1/incident-malware.json"
      }
     },
     "43e64d3e7a2241c9a198322209a82fca": {
      "model_module": "@jupyter-widgets/base",
      "model_module_version": "1.2.0",
      "model_name": "LayoutModel",
      "state": {}
     },
     "440871fe7e3a47918b068d5f42ce6c8c": {
      "model_module": "@jupyter-widgets/base",
      "model_module_version": "1.2.0",
      "model_name": "LayoutModel",
      "state": {}
     },
     "44181794b4ab465fa45f3540a44c0cee": {
      "model_module": "@jupyter-widgets/base",
      "model_module_version": "1.2.0",
      "model_name": "LayoutModel",
      "state": {}
     },
     "44ada0827ea049f581b38788deebb83b": {
      "model_module": "@jupyter-widgets/base",
      "model_module_version": "1.2.0",
      "model_name": "LayoutModel",
      "state": {}
     },
     "44bf54a8372b4da6b47623de559178d2": {
      "model_module": "@jupyter-widgets/base",
      "model_module_version": "1.2.0",
      "model_name": "LayoutModel",
      "state": {}
     },
     "4621a8a3c98d4f4c81fee543f7398249": {
      "model_module": "jupyter-widget-stixview",
      "model_module_version": "^1.0.2",
      "model_name": "StixviewGraphModel",
      "state": {
       "_model_module_version": "^1.0.2",
       "_view_module_version": "^1.0.2",
       "bundle": {},
       "gist_file": "",
       "gist_id": "",
       "layout": "IPY_MODEL_fb712eed15c14cf28770774e2189079f",
       "properties": {
        "graphHeight": 300
       },
       "timeout": 0,
       "url": "https://raw.githubusercontent.com/oasis-open/cti-stix-elevator/master/idioms-json-2.1/Mandiant_APT1_Report.json"
      }
     },
     "4743d07d42fa4c57bf9b76f0696f042e": {
      "model_module": "@jupyter-widgets/base",
      "model_module_version": "1.2.0",
      "model_name": "LayoutModel",
      "state": {}
     },
     "47815622221941fa86b8b8f1ede761bd": {
      "model_module": "@jupyter-widgets/base",
      "model_module_version": "1.2.0",
      "model_name": "LayoutModel",
      "state": {}
     },
     "479a0d7b8d8f422993412f593bd04fc8": {
      "model_module": "jupyter-widget-stixview",
      "model_module_version": "^1.0.2",
      "model_name": "StixviewGraphModel",
      "state": {
       "_model_module_version": "^1.0.2",
       "_view_module_version": "^1.0.2",
       "bundle": {},
       "gist_file": "",
       "gist_id": "",
       "layout": "IPY_MODEL_3d20ee6fd3644cfe833d82c561a628e3",
       "properties": {
        "graphHeight": 300
       },
       "timeout": 0,
       "url": "https://raw.githubusercontent.com/oasis-open/cti-stix-elevator/master/idioms-json-2.1/141-TLP-marking-structures.json"
      }
     },
     "47ab5d7099034de4a0b184cf33b0da2a": {
      "model_module": "@jupyter-widgets/base",
      "model_module_version": "1.2.0",
      "model_name": "LayoutModel",
      "state": {}
     },
     "485354b186a3430da215fd19b6f34077": {
      "model_module": "@jupyter-widgets/base",
      "model_module_version": "1.2.0",
      "model_name": "LayoutModel",
      "state": {}
     },
     "49028084b8f64a348d60c87179ec78d5": {
      "model_module": "@jupyter-widgets/base",
      "model_module_version": "1.2.0",
      "model_name": "LayoutModel",
      "state": {}
     },
     "4a10f8f9b4704968863605e64061deac": {
      "model_module": "@jupyter-widgets/base",
      "model_module_version": "1.2.0",
      "model_name": "LayoutModel",
      "state": {}
     },
     "4a51129d15d0410ea4d442e952f022ce": {
      "model_module": "jupyter-widget-stixview",
      "model_module_version": "^1.0.0",
      "model_name": "StixviewGraphModel",
      "state": {
       "_model_module_version": "^1.0.0",
       "_view_module_version": "^1.0.0",
       "bundle": {
        "id": "bundle--ac946f1d-6a0e-4a9d-bc83-3f1f3bfda6ba",
        "objects": [
         {
          "created": "2015-05-15T09:12:16.432Z",
          "description": "Poison Ivy is a remote access tool, first released in 2005 but unchanged since 2008. It includes features common to most Windows-based RATs, including key logging, screen capturing, video capturing, file transfers, system administration, password theft, and traffic relaying.",
          "id": "malware--591f0cb7-d66f-4e14-a8e6-5927b597f920",
          "labels": [
           "remote-access-trojan"
          ],
          "modified": "2015-05-15T09:12:16.432Z",
          "name": "Poison Ivy",
          "type": "malware"
         },
         {
          "created": "2015-05-15T09:12:16.432Z",
          "id": "relationship--134c393e-cbe0-433c-9a7a-95263ed8578f",
          "modified": "2015-05-15T09:12:16.432Z",
          "relationship_type": "mitigates",
          "source_ref": "course-of-action--70b3d5f6-374b-4488-8688-729b6eedac5b",
          "target_ref": "malware--591f0cb7-d66f-4e14-a8e6-5927b597f920",
          "type": "relationship"
         },
         {
          "created": "2015-05-15T09:12:16.432Z",
          "created_by_ref": "identity--81cade27-7df8-4730-836b-62d880e6d9d3",
          "description": "Calamine is a set of free tools to help organizations detect and examine Poison Ivy infections on their systems. The package includes these components: PIVY callback-decoding tool (ChopShop Module) and PIVY memory-decoding tool (PIVY PyCommand Script).",
          "external_references": [],
          "id": "course-of-action--70b3d5f6-374b-4488-8688-729b6eedac5b",
          "modified": "2015-05-15T09:12:16.432Z",
          "name": "Analyze with FireEye Calamine Toolset",
          "type": "course-of-action"
         },
         {
          "created": "2015-05-15T09:12:16.432Z",
          "id": "identity--81cade27-7df8-4730-836b-62d880e6d9d3",
          "identity_class": "organization",
          "modified": "2015-05-15T09:12:16.432Z",
          "name": "FireEye, Inc.",
          "sectors": [
           "technology"
          ],
          "type": "identity"
         }
        ],
        "spec_version": "2.0",
        "type": "bundle"
       },
       "gist_file": "",
       "gist_id": "",
       "layout": "IPY_MODEL_2c6d8358325342728e89b64e5a3b374e",
       "properties": {
        "caption": "Custom STIX2 bundle",
        "graphHeight": 400
       },
       "timeout": 0,
       "url": ""
      }
     },
     "4a7a87f9a7f94897b88f968e0737862c": {
      "model_module": "jupyter-widget-stixview",
      "model_module_version": "^1.0.3",
      "model_name": "StixviewGraphModel",
      "state": {
       "_model_module_version": "^1.0.3",
       "_view_module_version": "^1.0.3",
       "bundle": {},
       "gist_file": "",
       "gist_id": "",
       "layout": "IPY_MODEL_5bb12a307a8445c496843b082ff88414",
       "properties": {
        "graphHeight": 300
       },
       "timeout": 0,
       "url": "https://raw.githubusercontent.com/oasis-open/cti-stix-elevator/master/idioms-json-2.1/block-network-traffic.json"
      }
     },
     "4aa1b71df0084abdb0cabbc85224652f": {
      "model_module": "jupyter-widget-stixview",
      "model_module_version": "^1.0.2",
      "model_name": "StixviewGraphModel",
      "state": {
       "_model_module_version": "^1.0.2",
       "_view_module_version": "^1.0.2",
       "bundle": {},
       "gist_file": "",
       "gist_id": "",
       "layout": "IPY_MODEL_a2656345317544ab8056570cefa939e4",
       "properties": {
        "graphHeight": 300
       },
       "timeout": 0,
       "url": "https://raw.githubusercontent.com/oasis-open/cti-stix-elevator/master/idioms-json-2.1/incident-malware.json"
      }
     },
     "4ab56e5eef35454281912405e99f42d2": {
      "model_module": "jupyter-widget-stixview",
      "model_module_version": "^1.0.2",
      "model_name": "StixviewGraphModel",
      "state": {
       "_model_module_version": "^1.0.2",
       "_view_module_version": "^1.0.2",
       "bundle": {},
       "gist_file": "",
       "gist_id": "",
       "layout": "IPY_MODEL_556b3a11faad4d04a7eb683ee8056e52",
       "properties": {
        "graphHeight": 300
       },
       "timeout": 0,
       "url": "https://raw.githubusercontent.com/oasis-open/cti-stix-elevator/master/idioms-json-2.1/indicator-for-c2-ip-address.json"
      }
     },
     "4ac54d734b564e3eb1160880cabe3950": {
      "model_module": "@jupyter-widgets/base",
      "model_module_version": "1.2.0",
      "model_name": "LayoutModel",
      "state": {}
     },
     "4aff861f313e4fb7a47010a28e0eb011": {
      "model_module": "jupyter-widget-stixview",
      "model_module_version": "^1.0.2",
      "model_name": "StixviewGraphModel",
      "state": {
       "_model_module_version": "^1.0.2",
       "_view_module_version": "^1.0.2",
       "bundle": {},
       "gist_file": "",
       "gist_id": "",
       "layout": "IPY_MODEL_2f8b0860564a46c69f7f7b2c517461e2",
       "properties": {
        "graphHeight": 300
       },
       "timeout": 0,
       "url": "https://raw.githubusercontent.com/oasis-open/cti-stix-elevator/master/idioms-json-2.1/email-links-observable.json"
      }
     },
     "4b9a5b2e8c2a4e828c2fe544ba4649be": {
      "model_module": "@jupyter-widgets/base",
      "model_module_version": "1.2.0",
      "model_name": "LayoutModel",
      "state": {}
     },
     "4d9ef1fb04f14266a22475594c21acbc": {
      "model_module": "@jupyter-widgets/base",
      "model_module_version": "1.2.0",
      "model_name": "LayoutModel",
      "state": {}
     },
     "4da78ea69f2d459cb323ad91cce34a9c": {
      "model_module": "jupyter-widget-stixview",
      "model_module_version": "^1.0.2",
      "model_name": "StixviewGraphModel",
      "state": {
       "_model_module_version": "^1.0.2",
       "_view_module_version": "^1.0.2",
       "bundle": {},
       "gist_file": "",
       "gist_id": "",
       "layout": "IPY_MODEL_b20cd2c5f09849ac87185929973910bf",
       "properties": {
        "graphHeight": 300
       },
       "timeout": 0,
       "url": "https://raw.githubusercontent.com/oasis-open/cti-stix-elevator/master/idioms-json-2.1/fix-embedded-relationship-example.json"
      }
     },
     "4e39119c93924e1dab7a7f71cd084224": {
      "model_module": "jupyter-widget-stixview",
      "model_module_version": "^1.0.2",
      "model_name": "StixviewGraphModel",
      "state": {
       "_model_module_version": "^1.0.2",
       "_view_module_version": "^1.0.2",
       "bundle": {},
       "gist_file": "",
       "gist_id": "",
       "layout": "IPY_MODEL_b86fcb3f4ed74a478addefd9965217eb",
       "properties": {
        "graphHeight": 300
       },
       "timeout": 0,
       "url": "https://raw.githubusercontent.com/oasis-open/cti-stix-elevator/master/idioms-json-2.1/account_indicator.json"
      }
     },
     "4eef2daf95f64aa0b820f907235d0832": {
      "model_module": "@jupyter-widgets/base",
      "model_module_version": "1.2.0",
      "model_name": "LayoutModel",
      "state": {}
     },
     "4f174716a1c34fb296732aa6f4c6f702": {
      "model_module": "jupyter-widget-stixview",
      "model_module_version": "^1.0.2",
      "model_name": "StixviewGraphModel",
      "state": {
       "_model_module_version": "^1.0.2",
       "_view_module_version": "^1.0.2",
       "bundle": {},
       "gist_file": "",
       "gist_id": "",
       "layout": "IPY_MODEL_d0f4d67b1c864898b3c494f8404954b5",
       "properties": {
        "graphHeight": 200
       },
       "timeout": 0,
       "url": "https://raw.githubusercontent.com/oasis-open/cti-stix-elevator/master/idioms-json-2.1/yara-test-mechanism.json"
      }
     },
     "4fd8b0d584bb42e3ba14052f65a5db5e": {
      "model_module": "jupyter-widget-stixview",
      "model_module_version": "^1.0.2",
      "model_name": "StixviewGraphModel",
      "state": {
       "_model_module_version": "^1.0.2",
       "_view_module_version": "^1.0.2",
       "bundle": {},
       "gist_file": "",
       "gist_id": "",
       "layout": "IPY_MODEL_938ac07d2e4c4117bea4022a410ea603",
       "properties": {
        "graphHeight": 300
       },
       "timeout": 0,
       "url": "https://raw.githubusercontent.com/oasis-open/cti-stix-elevator/master/idioms-json-2.1/campaign-v-actors.json"
      }
     },
     "4fdcbf738f4b4cfcbe9d964c8d77b26b": {
      "model_module": "jupyter-widget-stixview",
      "model_module_version": "^1.0.2",
      "model_name": "StixviewGraphModel",
      "state": {
       "_model_module_version": "^1.0.2",
       "_view_module_version": "^1.0.2",
       "bundle": {},
       "gist_file": "",
       "gist_id": "",
       "layout": "IPY_MODEL_538982242a81496ba9f4cdc93f0e353b",
       "properties": {},
       "timeout": 0,
       "url": "https://raw.githubusercontent.com/oasis-open/cti-stix-elevator/master/idioms-json-2.1/fireeye-pivy-report-with-indicators.json"
      }
     },
     "5049867ce7d34dd583f07b8a895249f5": {
      "model_module": "@jupyter-widgets/base",
      "model_module_version": "1.2.0",
      "model_name": "LayoutModel",
      "state": {}
     },
     "5098cfa71f124efdb90896532370299d": {
      "model_module": "jupyter-widget-stixview",
      "model_module_version": "^1.0.2",
      "model_name": "StixviewGraphModel",
      "state": {
       "_model_module_version": "^1.0.2",
       "_view_module_version": "^1.0.2",
       "bundle": {},
       "gist_file": "",
       "gist_id": "",
       "layout": "IPY_MODEL_b726818148384e09bc89b57b7ff52e04",
       "properties": {
        "graphHeight": 300
       },
       "timeout": 0,
       "url": "https://raw.githubusercontent.com/oasis-open/cti-stix-elevator/master/idioms-json-2.1/account_indicator.json"
      }
     },
     "50e6f6d8b3ce4cdcae87a9ef0c64d818": {
      "model_module": "@jupyter-widgets/base",
      "model_module_version": "1.2.0",
      "model_name": "LayoutModel",
      "state": {}
     },
     "52180f9f11114fb5a919ad797542c666": {
      "model_module": "@jupyter-widgets/base",
      "model_module_version": "1.2.0",
      "model_name": "LayoutModel",
      "state": {}
     },
     "528317cc3a0041ac84e42d7d35a0a554": {
      "model_module": "jupyter-widget-stixview",
      "model_module_version": "^1.0.2",
      "model_name": "StixviewGraphModel",
      "state": {
       "_model_module_version": "^1.0.2",
       "_view_module_version": "^1.0.2",
       "bundle": {},
       "gist_file": "",
       "gist_id": "",
       "layout": "IPY_MODEL_f9d1621e47064308840bc56e958b6d5a",
       "properties": {
        "graphHeight": 300
       },
       "timeout": 0,
       "url": "https://raw.githubusercontent.com/oasis-open/cti-stix-elevator/master/idioms-json-2.1/account_indicator.json"
      }
     },
     "529829bb0b084f38b233a2fc7db0b195": {
      "model_module": "jupyter-widget-stixview",
      "model_module_version": "^1.0.3",
      "model_name": "StixviewGraphModel",
      "state": {
       "_model_module_version": "^1.0.3",
       "_view_module_version": "^1.0.3",
       "bundle": {},
       "gist_file": "",
       "gist_id": "",
       "layout": "IPY_MODEL_f45f836595b1458e93dac33a67de9d89",
       "properties": {
        "graphHeight": 300
       },
       "timeout": 0,
       "url": "https://raw.githubusercontent.com/oasis-open/cti-stix-elevator/master/idioms-json-2.1/pattern_id_ref_issue.json"
      }
     },
     "529adcbe65224877ae7c689925ffeb99": {
      "model_module": "jupyter-widget-stixview",
      "model_module_version": "^1.0.2",
      "model_name": "StixviewGraphModel",
      "state": {
       "_model_module_version": "^1.0.2",
       "_view_module_version": "^1.0.2",
       "bundle": {},
       "gist_file": "",
       "gist_id": "",
       "layout": "IPY_MODEL_cc464b68d29e40aab29e4b2320c51bbc",
       "properties": {},
       "timeout": 0,
       "url": "https://raw.githubusercontent.com/oasis-open/cti-stix-elevator/master/idioms-json-2.1/141-TLP-marking-structures.json"
      }
     },
     "5376a06df2e7498c9a0d4cfd19c9f6d0": {
      "model_module": "jupyter-widget-stixview",
      "model_module_version": "^1.0.2",
      "model_name": "StixviewGraphModel",
      "state": {
       "_model_module_version": "^1.0.2",
       "_view_module_version": "^1.0.2",
       "bundle": {},
       "gist_file": "",
       "gist_id": "",
       "layout": "IPY_MODEL_919d1f8fd3d34ce8b8cebee60047e4c3",
       "properties": {
        "graphHeight": 300
       },
       "timeout": 0,
       "url": "https://raw.githubusercontent.com/oasis-open/cti-stix-elevator/master/idioms-json-2.1/Appendix_G_IOCs_Full.json"
      }
     },
     "5378b9ffe01d4b37af454310769f37f0": {
      "model_module": "jupyter-widget-stixview",
      "model_module_version": "^1.0.3",
      "model_name": "StixviewGraphModel",
      "state": {
       "_model_module_version": "^1.0.3",
       "_view_module_version": "^1.0.3",
       "bundle": {},
       "gist_file": "",
       "gist_id": "",
       "layout": "IPY_MODEL_c7551ee1e363482ea6e685b1cc3f3895",
       "properties": {
        "graphHeight": 300
       },
       "timeout": 0,
       "url": "https://raw.githubusercontent.com/oasis-open/cti-stix-elevator/master/idioms-json-2.1/archive-file-pattern.json"
      }
     },
     "538982242a81496ba9f4cdc93f0e353b": {
      "model_module": "@jupyter-widgets/base",
      "model_module_version": "1.2.0",
      "model_name": "LayoutModel",
      "state": {}
     },
     "54fb22eb3f084c7da09fca622f4eb72f": {
      "model_module": "@jupyter-widgets/base",
      "model_module_version": "1.2.0",
      "model_name": "LayoutModel",
      "state": {}
     },
     "556b3a11faad4d04a7eb683ee8056e52": {
      "model_module": "@jupyter-widgets/base",
      "model_module_version": "1.2.0",
      "model_name": "LayoutModel",
      "state": {}
     },
     "55ed64f53d6b4593b40cabf59576be3c": {
      "model_module": "@jupyter-widgets/base",
      "model_module_version": "1.2.0",
      "model_name": "LayoutModel",
      "state": {}
     },
     "564573f3632f43c4a211e7544fe0684f": {
      "model_module": "jupyter-widget-stixview",
      "model_module_version": "^1.0.2",
      "model_name": "StixviewGraphModel",
      "state": {
       "_model_module_version": "^1.0.2",
       "_view_module_version": "^1.0.2",
       "bundle": {},
       "gist_file": "",
       "gist_id": "",
       "layout": "IPY_MODEL_858f0a49b1bb43339f0fd6d009f3dcfa",
       "properties": {
        "graphHeight": 300
       },
       "timeout": 0,
       "url": "https://raw.githubusercontent.com/oasis-open/cti-stix-elevator/master/idioms-json-2.1/observable-with-networkconnection-instance.json"
      }
     },
     "56f8abf7096145619c5507139cf78e4c": {
      "model_module": "@jupyter-widgets/base",
      "model_module_version": "1.2.0",
      "model_name": "LayoutModel",
      "state": {}
     },
     "572dfab8c6924e45b11e240ee8b044aa": {
      "model_module": "@jupyter-widgets/base",
      "model_module_version": "1.2.0",
      "model_name": "LayoutModel",
      "state": {}
     },
     "58108d24049b4d60b28568c1a339ce0e": {
      "model_module": "@jupyter-widgets/base",
      "model_module_version": "1.2.0",
      "model_name": "LayoutModel",
      "state": {}
     },
     "58590d8d59d54c6084977bcee803e785": {
      "model_module": "@jupyter-widgets/base",
      "model_module_version": "1.2.0",
      "model_name": "LayoutModel",
      "state": {}
     },
     "59844f0728514451baf1cc4c693edba1": {
      "model_module": "jupyter-widget-stixview",
      "model_module_version": "^1.0.2",
      "model_name": "StixviewGraphModel",
      "state": {
       "_model_module_version": "^1.0.2",
       "_view_module_version": "^1.0.2",
       "bundle": {},
       "gist_file": "",
       "gist_id": "",
       "layout": "IPY_MODEL_5e88c3753ecb4cfbb88bbe8d3d4a0515",
       "properties": {
        "graphHeight": 300
       },
       "timeout": 0,
       "url": "https://raw.githubusercontent.com/oasis-open/cti-stix-elevator/master/idioms-json-2.1/file-and-directory-pattern.json"
      }
     },
     "59c8e85735c544968b997252a92d4e0d": {
      "model_module": "@jupyter-widgets/base",
      "model_module_version": "1.2.0",
      "model_name": "LayoutModel",
      "state": {}
     },
     "5a279e08d27344a68aea05c6b4121b84": {
      "model_module": "@jupyter-widgets/base",
      "model_module_version": "1.2.0",
      "model_name": "LayoutModel",
      "state": {}
     },
     "5b06b53209464d258e996886e23df344": {
      "model_module": "jupyter-widget-stixview",
      "model_module_version": "^1.0.2",
      "model_name": "StixviewGraphModel",
      "state": {
       "_model_module_version": "^1.0.2",
       "_view_module_version": "^1.0.2",
       "bundle": {},
       "gist_file": "",
       "gist_id": "",
       "layout": "IPY_MODEL_4ac54d734b564e3eb1160880cabe3950",
       "properties": {
        "graphHeight": 300
       },
       "timeout": 0,
       "url": "https://raw.githubusercontent.com/oasis-open/cti-stix-elevator/master/idioms-json-2.1/indicator-and-observable.json"
      }
     },
     "5b46ae5e94f841838c78f2f359316c44": {
      "model_module": "jupyter-widget-stixview",
      "model_module_version": "^1.0.2",
      "model_name": "StixviewGraphModel",
      "state": {
       "_model_module_version": "^1.0.2",
       "_view_module_version": "^1.0.2",
       "bundle": {},
       "gist_file": "",
       "gist_id": "",
       "layout": "IPY_MODEL_035790824d8c47f797f53ba854daed54",
       "properties": {},
       "timeout": 0,
       "url": "https://raw.githubusercontent.com/oasis-open/cti-stix-elevator/master/idioms-json-2.1/icmp_observable.json"
      }
     },
     "5b6598b549914f6a98c4b6be16915389": {
      "model_module": "jupyter-widget-stixview",
      "model_module_version": "^1.0.2",
      "model_name": "StixviewGraphModel",
      "state": {
       "_model_module_version": "^1.0.2",
       "_view_module_version": "^1.0.2",
       "bundle": {},
       "gist_file": "",
       "gist_id": "",
       "layout": "IPY_MODEL_61fb6aaef29b472f802cf45f10626874",
       "properties": {
        "graphHeight": 300
       },
       "timeout": 0,
       "url": "https://raw.githubusercontent.com/oasis-open/cti-stix-elevator/master/idioms-json-2.1/archive-file-pattern.json"
      }
     },
     "5b863fea0acb4fe38bd6a248bbf6406e": {
      "model_module": "@jupyter-widgets/base",
      "model_module_version": "1.2.0",
      "model_name": "LayoutModel",
      "state": {}
     },
     "5bad2aef4b1f4973853704285642b20a": {
      "model_module": "jupyter-widget-stixview",
      "model_module_version": "^1.0.2",
      "model_name": "StixviewGraphModel",
      "state": {
       "_model_module_version": "^1.0.2",
       "_view_module_version": "^1.0.2",
       "bundle": {},
       "gist_file": "",
       "gist_id": "",
       "layout": "IPY_MODEL_2b1ab768cb3c4085aa064e6c7f8b0f50",
       "properties": {
        "graphHeight": 300
       },
       "timeout": 0,
       "url": "https://raw.githubusercontent.com/oasis-open/cti-stix-elevator/master/idioms-json-2.1/file-hash-reputation.json"
      }
     },
     "5bb12a307a8445c496843b082ff88414": {
      "model_module": "@jupyter-widgets/base",
      "model_module_version": "1.2.0",
      "model_name": "LayoutModel",
      "state": {}
     },
     "5be7483dc6dd40d3b0679e112a5b176b": {
      "model_module": "@jupyter-widgets/base",
      "model_module_version": "1.2.0",
      "model_name": "LayoutModel",
      "state": {}
     },
     "5be9c398453f4fa4a867ba829853ba28": {
      "model_module": "jupyter-widget-stixview",
      "model_module_version": "^1.0.2",
      "model_name": "StixviewGraphModel",
      "state": {
       "_model_module_version": "^1.0.2",
       "_view_module_version": "^1.0.2",
       "bundle": {},
       "gist_file": "",
       "gist_id": "",
       "layout": "IPY_MODEL_eaee7c5f18fd4d519ceea1b5d476b87d",
       "properties": {
        "graphHeight": 300
       },
       "timeout": 0,
       "url": "https://raw.githubusercontent.com/oasis-open/cti-stix-elevator/master/idioms-json-2.1/file-and-directory-pattern.json"
      }
     },
     "5c46ecaf1cf646d6b79e591aa3a48fed": {
      "model_module": "jupyter-widget-stixview",
      "model_module_version": "^1.0.3",
      "model_name": "StixviewGraphModel",
      "state": {
       "_model_module_version": "^1.0.3",
       "_view_module_version": "^1.0.3",
       "bundle": {},
       "gist_file": "",
       "gist_id": "",
       "layout": "IPY_MODEL_bc5418b01ed04326bde658d131e63d5d",
       "properties": {
        "graphHeight": 300
       },
       "timeout": 0,
       "url": "https://raw.githubusercontent.com/oasis-open/cti-stix-elevator/master/idioms-json-2.1/campaign-v-actors.json"
      }
     },
     "5c9a64ec23904091be56dd247bcd1936": {
      "model_module": "jupyter-widget-stixview",
      "model_module_version": "^1.0.2",
      "model_name": "StixviewGraphModel",
      "state": {
       "_model_module_version": "^1.0.2",
       "_view_module_version": "^1.0.2",
       "bundle": {},
       "gist_file": "",
       "gist_id": "",
       "layout": "IPY_MODEL_99e6d040a3bb46828f0e76ea4288872b",
       "properties": {
        "graphHeight": 300
       },
       "timeout": 0,
       "url": "https://raw.githubusercontent.com/oasis-open/cti-stix-elevator/master/idioms-json-2.1/email-links-observable.json"
      }
     },
     "5cc49ace57814349815a71b38fc28593": {
      "model_module": "jupyter-widget-stixview",
      "model_module_version": "^1.0.2",
      "model_name": "StixviewGraphModel",
      "state": {
       "_model_module_version": "^1.0.2",
       "_view_module_version": "^1.0.2",
       "bundle": {},
       "gist_file": "",
       "gist_id": "",
       "layout": "IPY_MODEL_91514dd1c8544ee2a761ad05ece7fe2a",
       "properties": {
        "graphHeight": 300
       },
       "timeout": 0,
       "url": "https://raw.githubusercontent.com/oasis-open/cti-stix-elevator/master/idioms-json-2.1/indicator-for-malicious-url.json"
      }
     },
     "5d1d2e8c47254f098ea27760cc5037dc": {
      "model_module": "@jupyter-widgets/base",
      "model_module_version": "1.2.0",
      "model_name": "LayoutModel",
      "state": {}
     },
     "5d7cb72f42bf4c2bac3888c8040b0257": {
      "model_module": "jupyter-widget-stixview",
      "model_module_version": "^1.0.2",
      "model_name": "StixviewGraphModel",
      "state": {
       "_model_module_version": "^1.0.2",
       "_view_module_version": "^1.0.2",
       "bundle": {},
       "gist_file": "",
       "gist_id": "",
       "layout": "IPY_MODEL_28e261f8e94f4426b3625aa59ff334f2",
       "properties": {
        "graphHeight": 300
       },
       "timeout": 0,
       "url": "https://raw.githubusercontent.com/oasis-open/cti-stix-elevator/master/idioms-json-2.1/malware-indicator-for-file-hash.json"
      }
     },
     "5df1cca406db48ed9f28df93bc7a5fc3": {
      "model_module": "jupyter-widget-stixview",
      "model_module_version": "^1.0.2",
      "model_name": "StixviewGraphModel",
      "state": {
       "_model_module_version": "^1.0.2",
       "_view_module_version": "^1.0.2",
       "bundle": {},
       "gist_file": "",
       "gist_id": "",
       "layout": "IPY_MODEL_fe9a03f8a9a143b08bda6da9bca6c407",
       "properties": {},
       "timeout": 0,
       "url": "https://raw.githubusercontent.com/oasis-open/cti-stix-elevator/master/idioms-json-2.1/indicator-and-observable.json"
      }
     },
     "5e88c3753ecb4cfbb88bbe8d3d4a0515": {
      "model_module": "@jupyter-widgets/base",
      "model_module_version": "1.2.0",
      "model_name": "LayoutModel",
      "state": {}
     },
     "606d1b72d30a40a88d5a955b8f89d6ad": {
      "model_module": "jupyter-widget-stixview",
      "model_module_version": "^1.0.3",
      "model_name": "StixviewGraphModel",
      "state": {
       "_model_module_version": "^1.0.3",
       "_view_module_version": "^1.0.3",
       "bundle": {},
       "gist_file": "",
       "gist_id": "",
       "layout": "IPY_MODEL_95263b36c572463d97947a413632d12b",
       "properties": {
        "graphHeight": 300
       },
       "timeout": 0,
       "url": "https://raw.githubusercontent.com/oasis-open/cti-stix-elevator/master/idioms-json-2.1/resolve_to.json"
      }
     },
     "609b458a029c48d4b83b51b673cc529f": {
      "model_module": "@jupyter-widgets/base",
      "model_module_version": "1.2.0",
      "model_name": "LayoutModel",
      "state": {}
     },
     "61f4beaf49d4495f8d8c264e5a5dfe88": {
      "model_module": "@jupyter-widgets/base",
      "model_module_version": "1.2.0",
      "model_name": "LayoutModel",
      "state": {}
     },
     "61fb6aaef29b472f802cf45f10626874": {
      "model_module": "@jupyter-widgets/base",
      "model_module_version": "1.2.0",
      "model_name": "LayoutModel",
      "state": {}
     },
     "62415e5a8eb84542b24f4ca2e65a44b0": {
      "model_module": "jupyter-widget-stixview",
      "model_module_version": "^1.0.0",
      "model_name": "StixviewGraphModel",
      "state": {
       "_model_module_version": "^1.0.0",
       "_view_module_version": "^1.0.0",
       "bundle": {},
       "gist_file": "",
       "gist_id": "",
       "layout": "IPY_MODEL_b1bf6231ff4743f5bf9c7d8756856977",
       "properties": {
        "caption": "Showing a selection of data loaded from URL, without a footer",
        "graphHeight": 600,
        "hideFooter": true,
        "highlightedObjects": [
         "course-of-action--70b3d5f6-374b-4488-8688-729b6eedac5b",
         "identity--81cade27-7df8-4730-836b-62d880e6d9d3",
         "malware--591f0cb7-d66f-4e14-a8e6-5927b597f920",
         "report--f2b63e80-b523-4747-a069-35c002c690db",
         "malware--40e15fa5-df8d-4771-a682-21dab0a024fd"
        ]
       },
       "timeout": 0,
       "url": "https://raw.githubusercontent.com/oasis-open/cti-stix2-json-schemas/master/examples/threat-reports/poisonivy.json"
      }
     },
     "62c630c3c0b842a08facb7daaf6cc326": {
      "model_module": "jupyter-widget-stixview",
      "model_module_version": "^1.0.0",
      "model_name": "StixviewGraphModel",
      "state": {
       "_model_module_version": "^1.0.0",
       "_view_module_version": "^1.0.0",
       "bundle": {},
       "gist_file": "",
       "gist_id": "6a0fbb0f6e7faf063c748b23f9c7dc62",
       "layout": "IPY_MODEL_73dd81188ea24414abeb15b79642518f",
       "properties": {
        "disableMouseZoom": true
       },
       "timeout": 0,
       "url": ""
      }
     },
     "62dcc15ec86246b8961daeeda57ee73b": {
      "model_module": "@jupyter-widgets/base",
      "model_module_version": "1.2.0",
      "model_name": "LayoutModel",
      "state": {}
     },
     "62f28bd5c53a403cbdccfb4bc8b51fe6": {
      "model_module": "jupyter-widget-stixview",
      "model_module_version": "^1.0.2",
      "model_name": "StixviewGraphModel",
      "state": {
       "_model_module_version": "^1.0.2",
       "_view_module_version": "^1.0.2",
       "bundle": {},
       "gist_file": "",
       "gist_id": "",
       "layout": "IPY_MODEL_bcf09b7bb7004105a8fbd5deebd29826",
       "properties": {
        "graphHeight": 300
       },
       "timeout": 0,
       "url": "https://raw.githubusercontent.com/oasis-open/cti-stix-elevator/master/idioms-json-2.1/Mandiant_APT1_Report.json"
      }
     },
     "64a742cf1f1b40fe96b8ec282eb3fca1": {
      "model_module": "@jupyter-widgets/base",
      "model_module_version": "1.2.0",
      "model_name": "LayoutModel",
      "state": {}
     },
     "64b9aa659dab41a9a394e33486ebc69a": {
      "model_module": "jupyter-widget-stixview",
      "model_module_version": "^1.0.2",
      "model_name": "StixviewGraphModel",
      "state": {
       "_model_module_version": "^1.0.2",
       "_view_module_version": "^1.0.2",
       "bundle": {},
       "gist_file": "",
       "gist_id": "",
       "layout": "IPY_MODEL_b65c55f2957a4e69bf140ec1edcea955",
       "properties": {
        "graphHeight": 300
       },
       "timeout": 0,
       "url": "https://raw.githubusercontent.com/oasis-open/cti-stix-elevator/master/idioms-json-2.1/file-and-directory-pattern.json"
      }
     },
     "64fb91ab33d845a1841df70f578acf6f": {
      "model_module": "jupyter-widget-stixview",
      "model_module_version": "^1.0.2",
      "model_name": "StixviewGraphModel",
      "state": {
       "_model_module_version": "^1.0.2",
       "_view_module_version": "^1.0.2",
       "bundle": {},
       "gist_file": "",
       "gist_id": "",
       "layout": "IPY_MODEL_43e64d3e7a2241c9a198322209a82fca",
       "properties": {},
       "timeout": 0,
       "url": "https://raw.githubusercontent.com/oasis-open/cti-stix-elevator/master/idioms-json-2.1/observable_composition.json"
      }
     },
     "659dd14f5f1341e9b9ac4c3280928c12": {
      "model_module": "jupyter-widget-stixview",
      "model_module_version": "^1.0.2",
      "model_name": "StixviewGraphModel",
      "state": {
       "_model_module_version": "^1.0.2",
       "_view_module_version": "^1.0.2",
       "bundle": {},
       "gist_file": "",
       "gist_id": "",
       "layout": "IPY_MODEL_da278c382dda408a88c27ced0a4bb167",
       "properties": {
        "graphHeight": 300
       },
       "timeout": 0,
       "url": "https://raw.githubusercontent.com/oasis-open/cti-stix-elevator/master/idioms-json-2.1/observable_composition.json"
      }
     },
     "65f1071baef24268b2bea0ebdafc5331": {
      "model_module": "@jupyter-widgets/base",
      "model_module_version": "1.2.0",
      "model_name": "LayoutModel",
      "state": {}
     },
     "66947b50d9324c28bc81752c354411d8": {
      "model_module": "@jupyter-widgets/base",
      "model_module_version": "1.2.0",
      "model_name": "LayoutModel",
      "state": {}
     },
     "66e6fc13f5c94f72ae87a0ce4b44ca7f": {
      "model_module": "@jupyter-widgets/base",
      "model_module_version": "1.2.0",
      "model_name": "LayoutModel",
      "state": {}
     },
     "6735e72fe15b4976a6b6802558b65bbf": {
      "model_module": "@jupyter-widgets/base",
      "model_module_version": "1.2.0",
      "model_name": "LayoutModel",
      "state": {}
     },
     "6779fa64c7134e3e8abae282b3117156": {
      "model_module": "jupyter-widget-stixview",
      "model_module_version": "^1.0.3",
      "model_name": "StixviewGraphModel",
      "state": {
       "_model_module_version": "^1.0.3",
       "_view_module_version": "^1.0.3",
       "bundle": {},
       "gist_file": "",
       "gist_id": "",
       "layout": "IPY_MODEL_70bdebf1c6114155a5d1f7453b529211",
       "properties": {
        "graphHeight": 300
       },
       "timeout": 0,
       "url": "https://raw.githubusercontent.com/oasis-open/cti-stix-elevator/master/idioms-json-2.1/victim-targeting.json"
      }
     },
     "681fa973ec9d4812ab266170a059e323": {
      "model_module": "@jupyter-widgets/base",
      "model_module_version": "1.2.0",
      "model_name": "LayoutModel",
      "state": {}
     },
     "6922168d95ba41829161dc306384b140": {
      "model_module": "@jupyter-widgets/base",
      "model_module_version": "1.2.0",
      "model_name": "LayoutModel",
      "state": {}
     },
     "69300f0bc34c4ebe8f81649d37366d88": {
      "model_module": "jupyter-widget-stixview",
      "model_module_version": "^1.0.2",
      "model_name": "StixviewGraphModel",
      "state": {
       "_model_module_version": "^1.0.2",
       "_view_module_version": "^1.0.2",
       "bundle": {},
       "gist_file": "",
       "gist_id": "",
       "layout": "IPY_MODEL_52180f9f11114fb5a919ad797542c666",
       "properties": {
        "graphHeight": 300
       },
       "timeout": 0,
       "url": "https://raw.githubusercontent.com/oasis-open/cti-stix-elevator/master/idioms-json-2.1/block-network-traffic.json"
      }
     },
     "6965ea87f5804b79a65929aa60b71bdb": {
      "model_module": "@jupyter-widgets/base",
      "model_module_version": "1.2.0",
      "model_name": "LayoutModel",
      "state": {}
     },
     "69dab75ad831404891dfd63461cbf029": {
      "model_module": "jupyter-widget-stixview",
      "model_module_version": "^1.0.2",
      "model_name": "StixviewGraphModel",
      "state": {
       "_model_module_version": "^1.0.2",
       "_view_module_version": "^1.0.2",
       "bundle": {},
       "gist_file": "",
       "gist_id": "",
       "layout": "IPY_MODEL_d36cf22057224f539f14ac6bb510a0fb",
       "properties": {
        "graphHeight": 300
       },
       "timeout": 0,
       "url": "https://raw.githubusercontent.com/oasis-open/cti-stix-elevator/master/idioms-json-2.1/141-TLP-marking-structures.json"
      }
     },
     "6a5a63f925ed4f498b8e537ee0605e67": {
      "model_module": "@jupyter-widgets/base",
      "model_module_version": "1.2.0",
      "model_name": "LayoutModel",
      "state": {}
     },
     "6a5cd516b6064d27aa7a6ba56052dd36": {
      "model_module": "jupyter-widget-stixview",
      "model_module_version": "^1.0.2",
      "model_name": "StixviewGraphModel",
      "state": {
       "_model_module_version": "^1.0.2",
       "_view_module_version": "^1.0.2",
       "bundle": {},
       "gist_file": "",
       "gist_id": "",
       "layout": "IPY_MODEL_5a279e08d27344a68aea05c6b4121b84",
       "properties": {
        "graphHeight": 300
       },
       "timeout": 0,
       "url": "https://raw.githubusercontent.com/oasis-open/cti-stix-elevator/master/idioms-json-2.1/network-socket-observable.json"
      }
     },
     "6a967028bcfc454296e1d19052cd372e": {
      "model_module": "@jupyter-widgets/base",
      "model_module_version": "1.2.0",
      "model_name": "LayoutModel",
      "state": {}
     },
     "6acba81595784c359c4041bbd850b386": {
      "model_module": "jupyter-widget-stixview",
      "model_module_version": "^1.0.2",
      "model_name": "StixviewGraphModel",
      "state": {
       "_model_module_version": "^1.0.2",
       "_view_module_version": "^1.0.2",
       "bundle": {},
       "gist_file": "",
       "gist_id": "6a0fbb0f6e7faf063c748b23f9c7dc62",
       "layout": "IPY_MODEL_92249aa7495946109898eb7e3cdf240c",
       "properties": {
        "disableMouseZoom": true
       },
       "timeout": 0,
       "url": ""
      }
     },
     "6b05b540d84446919acb2121ebb3be44": {
      "model_module": "@jupyter-widgets/base",
      "model_module_version": "1.2.0",
      "model_name": "LayoutModel",
      "state": {}
     },
     "6c17d69202b3425b8fa5d0274235e035": {
      "model_module": "jupyter-widget-stixview",
      "model_module_version": "^1.0.2",
      "model_name": "StixviewGraphModel",
      "state": {
       "_model_module_version": "^1.0.2",
       "_view_module_version": "^1.0.2",
       "bundle": {},
       "gist_file": "",
       "gist_id": "",
       "layout": "IPY_MODEL_a355ec5ea1214b7385ef706686add595",
       "properties": {
        "graphHeight": 300
       },
       "timeout": 0,
       "url": "https://raw.githubusercontent.com/oasis-open/cti-stix-elevator/master/idioms-json-2.1/issue-162.json"
      }
     },
     "6c6f11c59f7d4afc9203d23fd5b38802": {
      "model_module": "@jupyter-widgets/base",
      "model_module_version": "1.2.0",
      "model_name": "LayoutModel",
      "state": {}
     },
     "6c8638fee2454b12bda73b473285e4d3": {
      "model_module": "jupyter-widget-stixview",
      "model_module_version": "^1.0.2",
      "model_name": "StixviewGraphModel",
      "state": {
       "_model_module_version": "^1.0.2",
       "_view_module_version": "^1.0.2",
       "bundle": {},
       "gist_file": "",
       "gist_id": "",
       "layout": "IPY_MODEL_609b458a029c48d4b83b51b673cc529f",
       "properties": {
        "graphHeight": 300
       },
       "timeout": 0,
       "url": "https://raw.githubusercontent.com/oasis-open/cti-stix-elevator/master/idioms-json-2.1/identifying-a-threat-actor-group.json"
      }
     },
     "6d54a4ff323b44b695281a6f049a67f1": {
      "model_module": "@jupyter-widgets/base",
      "model_module_version": "1.2.0",
      "model_name": "LayoutModel",
      "state": {}
     },
     "6db5e503afe748438f927dc88c8dddfc": {
      "model_module": "jupyter-widget-stixview",
      "model_module_version": "^1.0.2",
      "model_name": "StixviewGraphModel",
      "state": {
       "_model_module_version": "^1.0.2",
       "_view_module_version": "^1.0.2",
       "bundle": {},
       "gist_file": "",
       "gist_id": "",
       "layout": "IPY_MODEL_ae5478608e8240b6bc4f9b462b2b7f11",
       "properties": {},
       "timeout": 0,
       "url": "https://raw.githubusercontent.com/oasis-open/cti-stix-elevator/master/idioms-json-2.1/network-socket-pattern.json"
      }
     },
     "6ddf9942daeb4e89a28bc8581cd86245": {
      "model_module": "jupyter-widget-stixview",
      "model_module_version": "^1.0.3",
      "model_name": "StixviewGraphModel",
      "state": {
       "_model_module_version": "^1.0.3",
       "_view_module_version": "^1.0.3",
       "bundle": {},
       "gist_file": "",
       "gist_id": "",
       "layout": "IPY_MODEL_1bb31690b7554e858cf77fae91923fda",
       "properties": {
        "graphHeight": 300
       },
       "timeout": 0,
       "url": "https://raw.githubusercontent.com/oasis-open/cti-stix-elevator/master/idioms-json-2.1/observable-with-networkconnection-pattern.json"
      }
     },
     "6e6cacd7808f434f9dfecf1251987de3": {
      "model_module": "jupyter-widget-stixview",
      "model_module_version": "^1.0.3",
      "model_name": "StixviewGraphModel",
      "state": {
       "_model_module_version": "^1.0.3",
       "_view_module_version": "^1.0.3",
       "bundle": {},
       "gist_file": "",
       "gist_id": "",
       "layout": "IPY_MODEL_6922168d95ba41829161dc306384b140",
       "properties": {
        "graphHeight": 300
       },
       "timeout": 0,
       "url": "https://raw.githubusercontent.com/oasis-open/cti-stix-elevator/master/idioms-json-2.1/malicious-email-indicator-with-attachment.json"
      }
     },
     "6ecaf4f15ac34e24bcfe78105800383f": {
      "model_module": "jupyter-widget-stixview",
      "model_module_version": "^1.0.2",
      "model_name": "StixviewGraphModel",
      "state": {
       "_model_module_version": "^1.0.2",
       "_view_module_version": "^1.0.2",
       "bundle": {},
       "gist_file": "",
       "gist_id": "",
       "layout": "IPY_MODEL_16559dfa07b44d52af1ba6b95ea010ec",
       "properties": {
        "graphHeight": 300
       },
       "timeout": 0,
       "url": "https://raw.githubusercontent.com/oasis-open/cti-stix-elevator/master/idioms-json-2.1/fireeye-pivy-report-with-indicators.json"
      }
     },
     "6ed25c4041a24a10bd3563bb8f55f244": {
      "model_module": "jupyter-widget-stixview",
      "model_module_version": "^1.0.3",
      "model_name": "StixviewGraphModel",
      "state": {
       "_model_module_version": "^1.0.3",
       "_view_module_version": "^1.0.3",
       "bundle": {},
       "gist_file": "",
       "gist_id": "",
       "layout": "IPY_MODEL_763e99f5cc074293be16351c5bba243c",
       "properties": {
        "graphHeight": 300
       },
       "timeout": 0,
       "url": "https://raw.githubusercontent.com/oasis-open/cti-stix-elevator/master/idioms-json-2.1/network-socket-observable.json"
      }
     },
     "6efaf6d2d27f43f488800a2e23636f27": {
      "model_module": "jupyter-widget-stixview",
      "model_module_version": "^1.0.3",
      "model_name": "StixviewGraphModel",
      "state": {
       "_model_module_version": "^1.0.3",
       "_view_module_version": "^1.0.3",
       "bundle": {},
       "gist_file": "",
       "gist_id": "",
       "layout": "IPY_MODEL_cc13879555fc4263a761510f2e6b318e",
       "properties": {
        "graphHeight": 300
       },
       "timeout": 0,
       "url": "https://raw.githubusercontent.com/oasis-open/cti-stix-elevator/master/idioms-json-2.1/cve-in-exploit-target.json"
      }
     },
     "6f57339c266541a4a22fcfcaceda05f1": {
      "model_module": "jupyter-widget-stixview",
      "model_module_version": "^1.0.2",
      "model_name": "StixviewGraphModel",
      "state": {
       "_model_module_version": "^1.0.2",
       "_view_module_version": "^1.0.2",
       "bundle": {},
       "gist_file": "",
       "gist_id": "",
       "layout": "IPY_MODEL_883cfb174d9c4e3fbfb8c2db896e0f54",
       "properties": {},
       "timeout": 0,
       "url": "https://raw.githubusercontent.com/oasis-open/cti-stix-elevator/master/idioms-json-2.1/snort-test-mechanism.json"
      }
     },
     "6fe4c53f1e6147ccb699227abb04282d": {
      "model_module": "jupyter-widget-stixview",
      "model_module_version": "^1.0.2",
      "model_name": "StixviewGraphModel",
      "state": {
       "_model_module_version": "^1.0.2",
       "_view_module_version": "^1.0.2",
       "bundle": {},
       "gist_file": "",
       "gist_id": "",
       "layout": "IPY_MODEL_5d1d2e8c47254f098ea27760cc5037dc",
       "properties": {
        "graphHeight": 300
       },
       "timeout": 0,
       "url": "https://raw.githubusercontent.com/oasis-open/cti-stix-elevator/master/idioms-json-2.1/icmp_observable.json"
      }
     },
     "70bdebf1c6114155a5d1f7453b529211": {
      "model_module": "@jupyter-widgets/base",
      "model_module_version": "1.2.0",
      "model_name": "LayoutModel",
      "state": {}
     },
     "70f6a16e89c645fba5491764b75f0d4d": {
      "model_module": "jupyter-widget-stixview",
      "model_module_version": "^1.0.2",
      "model_name": "StixviewGraphModel",
      "state": {
       "_model_module_version": "^1.0.2",
       "_view_module_version": "^1.0.2",
       "bundle": {},
       "gist_file": "",
       "gist_id": "",
       "layout": "IPY_MODEL_6c6f11c59f7d4afc9203d23fd5b38802",
       "properties": {
        "graphHeight": 300
       },
       "timeout": 0,
       "url": "https://raw.githubusercontent.com/oasis-open/cti-stix-elevator/master/idioms-json-2.1/archive-file-pattern.json"
      }
     },
     "714908a65dd84cf1a16b762e4d2b47ba": {
      "model_module": "jupyter-widget-stixview",
      "model_module_version": "^1.0.2",
      "model_name": "StixviewGraphModel",
      "state": {
       "_model_module_version": "^1.0.2",
       "_view_module_version": "^1.0.2",
       "bundle": {},
       "gist_file": "",
       "gist_id": "",
       "layout": "IPY_MODEL_88c4b45c99f44ace904caf239a230c5d",
       "properties": {
        "graphHeight": 300
       },
       "timeout": 0,
       "url": "https://raw.githubusercontent.com/oasis-open/cti-stix-elevator/master/idioms-json-2.1/archive-file.json"
      }
     },
     "716d9c9dfb2c473aaa610e18c5425dd4": {
      "model_module": "@jupyter-widgets/base",
      "model_module_version": "1.2.0",
      "model_name": "LayoutModel",
      "state": {}
     },
     "73a737d36c474d2793329952929f5c48": {
      "model_module": "@jupyter-widgets/base",
      "model_module_version": "1.2.0",
      "model_name": "LayoutModel",
      "state": {}
     },
     "73dd81188ea24414abeb15b79642518f": {
      "model_module": "@jupyter-widgets/base",
      "model_module_version": "1.2.0",
      "model_name": "LayoutModel",
      "state": {}
     },
     "7424b1059e35473994de78655233de9c": {
      "model_module": "jupyter-widget-stixview",
      "model_module_version": "^1.0.2",
      "model_name": "StixviewGraphModel",
      "state": {
       "_model_module_version": "^1.0.2",
       "_view_module_version": "^1.0.2",
       "bundle": {},
       "gist_file": "",
       "gist_id": "",
       "layout": "IPY_MODEL_b6b1782eb03d44ff80ec73640e385ef8",
       "properties": {
        "graphHeight": 300
       },
       "timeout": 0,
       "url": "https://raw.githubusercontent.com/oasis-open/cti-stix-elevator/master/idioms-json-2.1/block-network-traffic.json"
      }
     },
     "7436eb3a550545b9bad3ff389b0110d1": {
      "model_module": "jupyter-widget-stixview",
      "model_module_version": "^1.0.3",
      "model_name": "StixviewGraphModel",
      "state": {
       "_model_module_version": "^1.0.3",
       "_view_module_version": "^1.0.3",
       "bundle": {},
       "gist_file": "",
       "gist_id": "",
       "layout": "IPY_MODEL_eae290d487fc4157a6a72ec1b19920a7",
       "properties": {
        "graphHeight": 300
       },
       "timeout": 0,
       "url": "https://raw.githubusercontent.com/oasis-open/cti-stix-elevator/master/idioms-json-2.1/observable_composition.json"
      }
     },
     "7605fc7bced94c3f813fbab4cdd4e0f5": {
      "model_module": "jupyter-widget-stixview",
      "model_module_version": "^1.0.2",
      "model_name": "StixviewGraphModel",
      "state": {
       "_model_module_version": "^1.0.2",
       "_view_module_version": "^1.0.2",
       "bundle": {},
       "gist_file": "",
       "gist_id": "",
       "layout": "IPY_MODEL_2da33cf725764a7aa23c1fe4c252b3c7",
       "properties": {
        "graphHeight": 200
       },
       "timeout": 0,
       "url": "https://raw.githubusercontent.com/oasis-open/cti-stix-elevator/master/idioms-json-2.1/141-TLP-marking-structures.json"
      }
     },
     "763e99f5cc074293be16351c5bba243c": {
      "model_module": "@jupyter-widgets/base",
      "model_module_version": "1.2.0",
      "model_name": "LayoutModel",
      "state": {}
     },
     "7689bef73e794fa1bb45b72bd48fd68e": {
      "model_module": "jupyter-widget-stixview",
      "model_module_version": "^1.0.2",
      "model_name": "StixviewGraphModel",
      "state": {
       "_model_module_version": "^1.0.2",
       "_view_module_version": "^1.0.2",
       "bundle": {},
       "gist_file": "",
       "gist_id": "",
       "layout": "IPY_MODEL_f1ce9adc3835448e94642c00e7ac403f",
       "properties": {},
       "timeout": 0,
       "url": "https://raw.githubusercontent.com/oasis-open/cti-stix-elevator/master/idioms-json-2.1/issue-148.json"
      }
     },
     "779bcf6731294b0aafaaccc4dc946f8b": {
      "model_module": "@jupyter-widgets/base",
      "model_module_version": "1.2.0",
      "model_name": "LayoutModel",
      "state": {}
     },
     "780eb2d598fb45749cfea70e45ed7fcc": {
      "model_module": "@jupyter-widgets/base",
      "model_module_version": "1.2.0",
      "model_name": "LayoutModel",
      "state": {}
     },
     "7821db3a04544269a03faaabe01e7c4c": {
      "model_module": "jupyter-widget-stixview",
      "model_module_version": "^1.0.2",
      "model_name": "StixviewGraphModel",
      "state": {
       "_model_module_version": "^1.0.2",
       "_view_module_version": "^1.0.2",
       "bundle": {},
       "gist_file": "",
       "gist_id": "",
       "layout": "IPY_MODEL_81b88a8132e44e5fafc631a6d7d19493",
       "properties": {},
       "timeout": 0,
       "url": "https://api.github.com/repos/oasis-open/cti-stix-elevator/contents/idioms-json-2.1/141-TLP-marking-structures.json?ref=master"
      }
     },
     "783a29d52c034d609fd7e67870402459": {
      "model_module": "jupyter-widget-stixview",
      "model_module_version": "^1.0.2",
      "model_name": "StixviewGraphModel",
      "state": {
       "_model_module_version": "^1.0.2",
       "_view_module_version": "^1.0.2",
       "bundle": {},
       "gist_file": "",
       "gist_id": "",
       "layout": "IPY_MODEL_a71adc96895143bfa4524d0f7bc3c1cd",
       "properties": {},
       "timeout": 0,
       "url": "https://raw.githubusercontent.com/oasis-open/cti-stix-elevator/master/idioms-json-2.1/file-and-directory.json"
      }
     },
     "7918b17a7a5446518c655efe6e3ddc5d": {
      "model_module": "@jupyter-widgets/base",
      "model_module_version": "1.2.0",
      "model_name": "LayoutModel",
      "state": {}
     },
     "793cfa90caba4369af432870851ad66b": {
      "model_module": "jupyter-widget-stixview",
      "model_module_version": "^1.0.2",
      "model_name": "StixviewGraphModel",
      "state": {
       "_model_module_version": "^1.0.2",
       "_view_module_version": "^1.0.2",
       "bundle": {},
       "gist_file": "",
       "gist_id": "",
       "layout": "IPY_MODEL_db47248412fe4befa0bc1dd5890d625b",
       "properties": {
        "graphHeight": 300
       },
       "timeout": 0,
       "url": "https://raw.githubusercontent.com/oasis-open/cti-stix-elevator/master/idioms-json-2.1/archive-file-pattern.json"
      }
     },
     "79c861bb87564354bcd2f324951d5f7e": {
      "model_module": "jupyter-widget-stixview",
      "model_module_version": "^1.0.2",
      "model_name": "StixviewGraphModel",
      "state": {
       "_model_module_version": "^1.0.2",
       "_view_module_version": "^1.0.2",
       "bundle": {},
       "gist_file": "",
       "gist_id": "",
       "layout": "IPY_MODEL_06f4dc73bcb64f08bd7dc8e11183c7fc",
       "properties": {},
       "timeout": 0,
       "url": "https://raw.githubusercontent.com/oasis-open/cti-stix-elevator/master/idioms-json-2.1/observable-with-networkconnection-pattern-advanced.json"
      }
     },
     "7a54f3ac591f4c36b0946ff2699a64c3": {
      "model_module": "@jupyter-widgets/base",
      "model_module_version": "1.2.0",
      "model_name": "LayoutModel",
      "state": {}
     },
     "7a6acb46fb4c409da3001b67b5d70f0e": {
      "model_module": "jupyter-widget-stixview",
      "model_module_version": "^1.0.2",
      "model_name": "StixviewGraphModel",
      "state": {
       "_model_module_version": "^1.0.2",
       "_view_module_version": "^1.0.2",
       "bundle": {},
       "gist_file": "",
       "gist_id": "",
       "layout": "IPY_MODEL_0d72e02f708747179a6382dc4e47c829",
       "properties": {},
       "timeout": 0,
       "url": "https://raw.githubusercontent.com/oasis-open/cti-stix-elevator/master/idioms-json-2.1/email-links-observable.json"
      }
     },
     "7b3d3422c70940e1939c0da1b794cb71": {
      "model_module": "@jupyter-widgets/base",
      "model_module_version": "1.2.0",
      "model_name": "LayoutModel",
      "state": {}
     },
     "7b69f952823f4dd086649ea22bfaacff": {
      "model_module": "@jupyter-widgets/base",
      "model_module_version": "1.2.0",
      "model_name": "LayoutModel",
      "state": {}
     },
     "7b9c0164ca7b476e984fd04f984b7f75": {
      "model_module": "@jupyter-widgets/base",
      "model_module_version": "1.2.0",
      "model_name": "LayoutModel",
      "state": {}
     },
     "7c370eadd6dd412db0ac48329024c1d2": {
      "model_module": "@jupyter-widgets/base",
      "model_module_version": "1.2.0",
      "model_name": "LayoutModel",
      "state": {}
     },
     "7d4ac7ff0d894460a229da154726e3b3": {
      "model_module": "@jupyter-widgets/base",
      "model_module_version": "1.2.0",
      "model_name": "LayoutModel",
      "state": {}
     },
     "7dda59a43d464ef9819f865efb8501c3": {
      "model_module": "@jupyter-widgets/base",
      "model_module_version": "1.2.0",
      "model_name": "LayoutModel",
      "state": {}
     },
     "7e82d6ce423946b1960c298614e82baf": {
      "model_module": "@jupyter-widgets/base",
      "model_module_version": "1.2.0",
      "model_name": "LayoutModel",
      "state": {}
     },
     "7eb0574f6b9e434ea4dbe8488fc448b9": {
      "model_module": "@jupyter-widgets/base",
      "model_module_version": "1.2.0",
      "model_name": "LayoutModel",
      "state": {}
     },
     "7fa01d7d915b481fadc6357b17c8d291": {
      "model_module": "@jupyter-widgets/base",
      "model_module_version": "1.2.0",
      "model_name": "LayoutModel",
      "state": {}
     },
     "80d7b4e538254b2c869a8789d5e80e48": {
      "model_module": "jupyter-widget-stixview",
      "model_module_version": "^1.0.3",
      "model_name": "StixviewGraphModel",
      "state": {
       "_model_module_version": "^1.0.3",
       "_view_module_version": "^1.0.3",
       "bundle": {},
       "gist_file": "",
       "gist_id": "",
       "layout": "IPY_MODEL_a4394b334fc544f8a84f92029069d279",
       "properties": {
        "graphHeight": 300
       },
       "timeout": 0,
       "url": "https://raw.githubusercontent.com/oasis-open/cti-stix-elevator/master/idioms-json-2.1/email-links-observable.json"
      }
     },
     "80e6c1ddeaca429b8f68fb6a4f07a0e3": {
      "model_module": "@jupyter-widgets/base",
      "model_module_version": "1.2.0",
      "model_name": "LayoutModel",
      "state": {}
     },
     "8183366c8ddb4aa0bdcafae5dc7a2460": {
      "model_module": "@jupyter-widgets/base",
      "model_module_version": "1.2.0",
      "model_name": "LayoutModel",
      "state": {}
     },
     "81b88a8132e44e5fafc631a6d7d19493": {
      "model_module": "@jupyter-widgets/base",
      "model_module_version": "1.2.0",
      "model_name": "LayoutModel",
      "state": {}
     },
     "81eafd84aa2b440e8d39e84b773a7477": {
      "model_module": "jupyter-widget-stixview",
      "model_module_version": "^1.0.2",
      "model_name": "StixviewGraphModel",
      "state": {
       "_model_module_version": "^1.0.2",
       "_view_module_version": "^1.0.2",
       "bundle": {},
       "gist_file": "",
       "gist_id": "",
       "layout": "IPY_MODEL_61f4beaf49d4495f8d8c264e5a5dfe88",
       "properties": {
        "graphHeight": 300
       },
       "timeout": 0,
       "url": "https://raw.githubusercontent.com/oasis-open/cti-stix-elevator/master/idioms-json-2.1/command-and-control-ip-list.json"
      }
     },
     "8264286f428b497688e2d0e1d49fae44": {
      "model_module": "@jupyter-widgets/base",
      "model_module_version": "1.2.0",
      "model_name": "LayoutModel",
      "state": {}
     },
     "83107dff9ede4f0fb697c81264a03471": {
      "model_module": "jupyter-widget-stixview",
      "model_module_version": "^1.0.3",
      "model_name": "StixviewGraphModel",
      "state": {
       "_model_module_version": "^1.0.3",
       "_view_module_version": "^1.0.3",
       "bundle": {},
       "gist_file": "",
       "gist_id": "",
       "layout": "IPY_MODEL_2bc1cc9decf74033bd6ccd7b4400df74",
       "properties": {
        "graphHeight": 300
       },
       "timeout": 0,
       "url": "https://raw.githubusercontent.com/oasis-open/cti-stix-elevator/master/idioms-json-2.1/account_indicator.json"
      }
     },
     "8354f786fee544a0a7a481f9b730eee0": {
      "model_module": "jupyter-widget-stixview",
      "model_module_version": "^1.0.2",
      "model_name": "StixviewGraphModel",
      "state": {
       "_model_module_version": "^1.0.2",
       "_view_module_version": "^1.0.2",
       "bundle": {},
       "gist_file": "",
       "gist_id": "",
       "layout": "IPY_MODEL_73a737d36c474d2793329952929f5c48",
       "properties": {
        "graphHeight": 300
       },
       "timeout": 0,
       "url": "https://raw.githubusercontent.com/oasis-open/cti-stix-elevator/master/idioms-json-2.1/malware-indicator-for-file-hash.json"
      }
     },
     "84242772109c4a66b03e4a4af29b33ea": {
      "model_module": "@jupyter-widgets/base",
      "model_module_version": "1.2.0",
      "model_name": "LayoutModel",
      "state": {}
     },
     "8425e0cc7a464defbc9b25c28b7982cc": {
      "model_module": "jupyter-widget-stixview",
      "model_module_version": "^1.0.3",
      "model_name": "StixviewGraphModel",
      "state": {
       "_model_module_version": "^1.0.3",
       "_view_module_version": "^1.0.3",
       "bundle": {},
       "gist_file": "",
       "gist_id": "",
       "layout": "IPY_MODEL_dc93f9dd934944d28a288af81dcdd780",
       "properties": {
        "graphHeight": 300
       },
       "timeout": 0,
       "url": "https://raw.githubusercontent.com/oasis-open/cti-stix-elevator/master/idioms-json-2.1/identifying-a-threat-actor-group.json"
      }
     },
     "848c0b55e44645f0878df98daedf5260": {
      "model_module": "@jupyter-widgets/base",
      "model_module_version": "1.2.0",
      "model_name": "LayoutModel",
      "state": {}
     },
     "84c5bddd18ef400ab472da1ac93e041e": {
      "model_module": "jupyter-widget-stixview",
      "model_module_version": "^1.0.3",
      "model_name": "StixviewGraphModel",
      "state": {
       "_model_module_version": "^1.0.3",
       "_view_module_version": "^1.0.3",
       "bundle": {},
       "gist_file": "",
       "gist_id": "",
       "layout": "IPY_MODEL_30c5b1670f414d3a9f276278b8d8dcbd",
       "properties": {
        "graphHeight": 300
       },
       "timeout": 0,
       "url": "https://raw.githubusercontent.com/oasis-open/cti-stix-elevator/master/idioms-json-2.1/observable-with-networkconnection-instance.json"
      }
     },
     "85397311e3334fd083c613c2dbe376b8": {
      "model_module": "jupyter-widget-stixview",
      "model_module_version": "^1.0.2",
      "model_name": "StixviewGraphModel",
      "state": {
       "_model_module_version": "^1.0.2",
       "_view_module_version": "^1.0.2",
       "bundle": {},
       "gist_file": "",
       "gist_id": "",
       "layout": "IPY_MODEL_65f1071baef24268b2bea0ebdafc5331",
       "properties": {
        "graphHeight": 300
       },
       "timeout": 0,
       "url": "https://raw.githubusercontent.com/oasis-open/cti-stix-elevator/master/idioms-json-2.1/command-and-control-ip-list.json"
      }
     },
     "858f0a49b1bb43339f0fd6d009f3dcfa": {
      "model_module": "@jupyter-widgets/base",
      "model_module_version": "1.2.0",
      "model_name": "LayoutModel",
      "state": {}
     },
     "85f71143b1c44fc39f438b12a72a3698": {
      "model_module": "@jupyter-widgets/base",
      "model_module_version": "1.2.0",
      "model_name": "LayoutModel",
      "state": {}
     },
     "8606a21d66aa4d74b2d49bd6ee5c0238": {
      "model_module": "jupyter-widget-stixview",
      "model_module_version": "^1.0.2",
      "model_name": "StixviewGraphModel",
      "state": {
       "_model_module_version": "^1.0.2",
       "_view_module_version": "^1.0.2",
       "bundle": {},
       "gist_file": "",
       "gist_id": "",
       "layout": "IPY_MODEL_30508d128ed1426ba266cc129560d313",
       "properties": {
        "graphHeight": 300
       },
       "timeout": 0,
       "url": "https://raw.githubusercontent.com/oasis-open/cti-stix-elevator/master/idioms-json-2.1/campaign-v-actors.json"
      }
     },
     "86e5df8f13b7491ab40267233b9d89b8": {
      "model_module": "@jupyter-widgets/base",
      "model_module_version": "1.2.0",
      "model_name": "LayoutModel",
      "state": {}
     },
     "86e79b6519f347a8b2b676d8a4c82b51": {
      "model_module": "@jupyter-widgets/base",
      "model_module_version": "1.2.0",
      "model_name": "LayoutModel",
      "state": {}
     },
     "879861d6f112434b8c7760f9f054d1cb": {
      "model_module": "jupyter-widget-stixview",
      "model_module_version": "^1.0.2",
      "model_name": "StixviewGraphModel",
      "state": {
       "_model_module_version": "^1.0.2",
       "_view_module_version": "^1.0.2",
       "bundle": {},
       "gist_file": "",
       "gist_id": "",
       "layout": "IPY_MODEL_86e79b6519f347a8b2b676d8a4c82b51",
       "properties": {},
       "timeout": 0,
       "url": "https://raw.githubusercontent.com/oasis-open/cti-stix-elevator/master/idioms-json-2.1/network-socket-observable.json"
      }
     },
     "883cfb174d9c4e3fbfb8c2db896e0f54": {
      "model_module": "@jupyter-widgets/base",
      "model_module_version": "1.2.0",
      "model_name": "LayoutModel",
      "state": {}
     },
     "88c4b45c99f44ace904caf239a230c5d": {
      "model_module": "@jupyter-widgets/base",
      "model_module_version": "1.2.0",
      "model_name": "LayoutModel",
      "state": {}
     },
     "893498a109cb48c196a6e5e118b8a0d5": {
      "model_module": "jupyter-widget-stixview",
      "model_module_version": "^1.0.2",
      "model_name": "StixviewGraphModel",
      "state": {
       "_model_module_version": "^1.0.2",
       "_view_module_version": "^1.0.2",
       "bundle": {},
       "gist_file": "",
       "gist_id": "",
       "layout": "IPY_MODEL_7d4ac7ff0d894460a229da154726e3b3",
       "properties": {
        "graphHeight": 300
       },
       "timeout": 0,
       "url": "https://raw.githubusercontent.com/oasis-open/cti-stix-elevator/master/idioms-json-2.1/file-and-directory-pattern.json"
      }
     },
     "8b5cb33efa1f4c80a45fc62df32aa733": {
      "model_module": "jupyter-widget-stixview",
      "model_module_version": "^1.0.2",
      "model_name": "StixviewGraphModel",
      "state": {
       "_model_module_version": "^1.0.2",
       "_view_module_version": "^1.0.2",
       "bundle": {},
       "gist_file": "",
       "gist_id": "",
       "layout": "IPY_MODEL_0d6355e96e6047089b66530d5f7d2646",
       "properties": {
        "graphHeight": 300
       },
       "timeout": 0,
       "url": "https://raw.githubusercontent.com/oasis-open/cti-stix-elevator/master/idioms-json-2.1/Mandiant_APT1_Report.json"
      }
     },
     "8ba59fa48cf34b5890f93d460ecbcec5": {
      "model_module": "jupyter-widget-stixview",
      "model_module_version": "^1.0.2",
      "model_name": "StixviewGraphModel",
      "state": {
       "_model_module_version": "^1.0.2",
       "_view_module_version": "^1.0.2",
       "bundle": {},
       "gist_file": "",
       "gist_id": "",
       "layout": "IPY_MODEL_7dda59a43d464ef9819f865efb8501c3",
       "properties": {
        "graphHeight": 300
       },
       "timeout": 0,
       "url": "https://raw.githubusercontent.com/oasis-open/cti-stix-elevator/master/idioms-json-2.1/email-links-observable.json"
      }
     },
     "8c65d86189994983b53bbb78bba36d29": {
      "model_module": "@jupyter-widgets/base",
      "model_module_version": "1.2.0",
      "model_name": "LayoutModel",
      "state": {}
     },
     "8d78735482b14b40925d3289f1c81772": {
      "model_module": "@jupyter-widgets/base",
      "model_module_version": "1.2.0",
      "model_name": "LayoutModel",
      "state": {}
     },
     "8d988ddfb1b34972a8782838ac97bc1e": {
      "model_module": "jupyter-widget-stixview",
      "model_module_version": "^1.0.2",
      "model_name": "StixviewGraphModel",
      "state": {
       "_model_module_version": "^1.0.2",
       "_view_module_version": "^1.0.2",
       "bundle": {},
       "gist_file": "",
       "gist_id": "",
       "layout": "IPY_MODEL_dd8bac75ac1f4fa1a073044a2a1c7613",
       "properties": {
        "graphHeight": 300
       },
       "timeout": 0,
       "url": "https://raw.githubusercontent.com/oasis-open/cti-stix-elevator/master/idioms-json-2.1/Mandiant_APT1_Report.json"
      }
     },
     "8e003cd9b55045c293e097914a203dd5": {
      "model_module": "jupyter-widget-stixview",
      "model_module_version": "^1.0.2",
      "model_name": "StixviewGraphModel",
      "state": {
       "_model_module_version": "^1.0.2",
       "_view_module_version": "^1.0.2",
       "bundle": {},
       "gist_file": "",
       "gist_id": "",
       "layout": "IPY_MODEL_17b32eea54754339aacb107f5f978a64",
       "properties": {
        "graphHeight": 300
       },
       "timeout": 0,
       "url": "https://raw.githubusercontent.com/oasis-open/cti-stix-elevator/master/idioms-json-2.1/identifying-a-threat-actor-group.json"
      }
     },
     "8ebaf505f00842ea96aae6d3a0694245": {
      "model_module": "jupyter-widget-stixview",
      "model_module_version": "^1.0.2",
      "model_name": "StixviewGraphModel",
      "state": {
       "_model_module_version": "^1.0.2",
       "_view_module_version": "^1.0.2",
       "bundle": {},
       "gist_file": "",
       "gist_id": "",
       "layout": "IPY_MODEL_7c370eadd6dd412db0ac48329024c1d2",
       "properties": {
        "graphHeight": 300
       },
       "timeout": 0,
       "url": "https://raw.githubusercontent.com/oasis-open/cti-stix-elevator/master/idioms-json-2.1/incident-malware.json"
      }
     },
     "8ecccba311c946608666b717a100a09e": {
      "model_module": "jupyter-widget-stixview",
      "model_module_version": "^1.0.2",
      "model_name": "StixviewGraphModel",
      "state": {
       "_model_module_version": "^1.0.2",
       "_view_module_version": "^1.0.2",
       "bundle": {},
       "gist_file": "",
       "gist_id": "",
       "layout": "IPY_MODEL_cdafb5a9bfba4c5081539843835a74eb",
       "properties": {},
       "timeout": 0,
       "url": "https://raw.githubusercontent.com/oasis-open/cti-stix-elevator/master/idioms-json-2.1/issue-162.json"
      }
     },
     "8ee1fcb2250848628a2782a2fd248801": {
      "model_module": "@jupyter-widgets/base",
      "model_module_version": "1.2.0",
      "model_name": "LayoutModel",
      "state": {}
     },
     "8f1a44e5860e4f88a194087b813cbabe": {
      "model_module": "@jupyter-widgets/base",
      "model_module_version": "1.2.0",
      "model_name": "LayoutModel",
      "state": {}
     },
     "8fb29780cf184695b704e445a6aefd23": {
      "model_module": "@jupyter-widgets/base",
      "model_module_version": "1.2.0",
      "model_name": "LayoutModel",
      "state": {}
     },
     "903ec8e73e554169be34a6ce5a8accd6": {
      "model_module": "@jupyter-widgets/base",
      "model_module_version": "1.2.0",
      "model_name": "LayoutModel",
      "state": {}
     },
     "90863eb2e64c4eb8b0d7597119a9fa70": {
      "model_module": "@jupyter-widgets/base",
      "model_module_version": "1.2.0",
      "model_name": "LayoutModel",
      "state": {}
     },
     "908c2c2dd0f94489abc9380a323687de": {
      "model_module": "@jupyter-widgets/base",
      "model_module_version": "1.2.0",
      "model_name": "LayoutModel",
      "state": {}
     },
     "90def0b6c5e94f10a07a4e410980b686": {
      "model_module": "jupyter-widget-stixview",
      "model_module_version": "^1.0.2",
      "model_name": "StixviewGraphModel",
      "state": {
       "_model_module_version": "^1.0.2",
       "_view_module_version": "^1.0.2",
       "bundle": {},
       "gist_file": "",
       "gist_id": "",
       "layout": "IPY_MODEL_7fa01d7d915b481fadc6357b17c8d291",
       "properties": {
        "graphHeight": 300
       },
       "timeout": 0,
       "url": "https://raw.githubusercontent.com/oasis-open/cti-stix-elevator/master/idioms-json-2.1/archive-file-pattern.json"
      }
     },
     "90f9cf43779d4ffb8db9d77f64df2b0e": {
      "model_module": "jupyter-widget-stixview",
      "model_module_version": "^1.0.2",
      "model_name": "StixviewGraphModel",
      "state": {
       "_model_module_version": "^1.0.2",
       "_view_module_version": "^1.0.2",
       "bundle": {},
       "gist_file": "",
       "gist_id": "",
       "layout": "IPY_MODEL_3ace8dba2e3f4f3c9ca0be16d3d0d1e8",
       "properties": {
        "graphHeight": 300
       },
       "timeout": 0,
       "url": "https://raw.githubusercontent.com/oasis-open/cti-stix-elevator/master/idioms-json-2.1/incident-malware.json"
      }
     },
     "910e31bc434a443abcdaf65cc8a3d0b0": {
      "model_module": "@jupyter-widgets/base",
      "model_module_version": "1.2.0",
      "model_name": "LayoutModel",
      "state": {}
     },
     "91307f0e192a41988352696ae746fa95": {
      "model_module": "@jupyter-widgets/base",
      "model_module_version": "1.2.0",
      "model_name": "LayoutModel",
      "state": {}
     },
     "91514dd1c8544ee2a761ad05ece7fe2a": {
      "model_module": "@jupyter-widgets/base",
      "model_module_version": "1.2.0",
      "model_name": "LayoutModel",
      "state": {}
     },
     "916a43293cb941bc83bac193779a6ef3": {
      "model_module": "@jupyter-widgets/base",
      "model_module_version": "1.2.0",
      "model_name": "LayoutModel",
      "state": {}
     },
     "916cb84905064868bcbdc6113b56332d": {
      "model_module": "jupyter-widget-stixview",
      "model_module_version": "^1.0.2",
      "model_name": "StixviewGraphModel",
      "state": {
       "_model_module_version": "^1.0.2",
       "_view_module_version": "^1.0.2",
       "bundle": {},
       "gist_file": "",
       "gist_id": "",
       "layout": "IPY_MODEL_36fcbb0d19c54ce493c6067a9451a386",
       "properties": {
        "graphHeight": 300
       },
       "timeout": 0,
       "url": "https://raw.githubusercontent.com/oasis-open/cti-stix-elevator/master/idioms-json-2.1/network-socket-pattern.json"
      }
     },
     "919d1f8fd3d34ce8b8cebee60047e4c3": {
      "model_module": "@jupyter-widgets/base",
      "model_module_version": "1.2.0",
      "model_name": "LayoutModel",
      "state": {}
     },
     "91a8304c0abf4e4d994072a7e6d0c859": {
      "model_module": "jupyter-widget-stixview",
      "model_module_version": "^1.0.2",
      "model_name": "StixviewGraphModel",
      "state": {
       "_model_module_version": "^1.0.2",
       "_view_module_version": "^1.0.2",
       "bundle": {},
       "gist_file": "",
       "gist_id": "",
       "layout": "IPY_MODEL_be07db05126e41529908097c4217d97a",
       "properties": {},
       "timeout": 0,
       "url": "https://raw.githubusercontent.com/oasis-open/cti-stix-elevator/master/idioms-json-2.1/archive-file-pattern.json"
      }
     },
     "91c74f95bbdf472c86a862aecd307450": {
      "model_module": "jupyter-widget-stixview",
      "model_module_version": "^1.0.2",
      "model_name": "StixviewGraphModel",
      "state": {
       "_model_module_version": "^1.0.2",
       "_view_module_version": "^1.0.2",
       "bundle": {},
       "gist_file": "",
       "gist_id": "",
       "layout": "IPY_MODEL_8fb29780cf184695b704e445a6aefd23",
       "properties": {
        "graphHeight": 300
       },
       "timeout": 0,
       "url": "https://raw.githubusercontent.com/oasis-open/cti-stix-elevator/master/idioms-json-2.1/Appendix_G_IOCs_Full.json"
      }
     },
     "922021c6a1084e5f85658047d256dc0b": {
      "model_module": "@jupyter-widgets/base",
      "model_module_version": "1.2.0",
      "model_name": "LayoutModel",
      "state": {}
     },
     "92249aa7495946109898eb7e3cdf240c": {
      "model_module": "@jupyter-widgets/base",
      "model_module_version": "1.2.0",
      "model_name": "LayoutModel",
      "state": {}
     },
     "932c505b394f4cd6aebdeec0d3955ac4": {
      "model_module": "@jupyter-widgets/base",
      "model_module_version": "1.2.0",
      "model_name": "LayoutModel",
      "state": {}
     },
     "938ac07d2e4c4117bea4022a410ea603": {
      "model_module": "@jupyter-widgets/base",
      "model_module_version": "1.2.0",
      "model_name": "LayoutModel",
      "state": {}
     },
     "9418f869b8a8444f8da9e06d75bfeeed": {
      "model_module": "jupyter-widget-stixview",
      "model_module_version": "^1.0.2",
      "model_name": "StixviewGraphModel",
      "state": {
       "_model_module_version": "^1.0.2",
       "_view_module_version": "^1.0.2",
       "bundle": {},
       "gist_file": "",
       "gist_id": "",
       "layout": "IPY_MODEL_16290e214e754360a7ae1151f8002912",
       "properties": {
        "graphHeight": 300
       },
       "timeout": 0,
       "url": "https://raw.githubusercontent.com/oasis-open/cti-stix-elevator/master/idioms-json-2.1/observable-with-networkconnection-instance.json"
      }
     },
     "9483177a3d044848b2183d5b9460dfa9": {
      "model_module": "jupyter-widget-stixview",
      "model_module_version": "^1.0.2",
      "model_name": "StixviewGraphModel",
      "state": {
       "_model_module_version": "^1.0.2",
       "_view_module_version": "^1.0.2",
       "bundle": {},
       "gist_file": "",
       "gist_id": "",
       "layout": "IPY_MODEL_f220cf0f2c3742f59cde14f4dbfaa24f",
       "properties": {},
       "timeout": 0,
       "url": "https://raw.githubusercontent.com/oasis-open/cti-stix-elevator/master/idioms-json-2.1/malware-characterization-using-maec.json"
      }
     },
     "94acb5e6bc5f4531b7238535348670b6": {
      "model_module": "jupyter-widget-stixview",
      "model_module_version": "^1.0.2",
      "model_name": "StixviewGraphModel",
      "state": {
       "_model_module_version": "^1.0.2",
       "_view_module_version": "^1.0.2",
       "bundle": {},
       "gist_file": "",
       "gist_id": "",
       "layout": "IPY_MODEL_dfc755f1e4d94d3482e21d7d6eda6e7f",
       "properties": {
        "graphHeight": 300
       },
       "timeout": 0,
       "url": "https://raw.githubusercontent.com/oasis-open/cti-stix-elevator/master/idioms-json-2.1/indicator-w-kill-chain.json"
      }
     },
     "94c8e4ff16ec4cc8b431522f317e575f": {
      "model_module": "@jupyter-widgets/base",
      "model_module_version": "1.2.0",
      "model_name": "LayoutModel",
      "state": {}
     },
     "951211b3a9664887bc0d81c04b1f087c": {
      "model_module": "jupyter-widget-stixview",
      "model_module_version": "^1.0.2",
      "model_name": "StixviewGraphModel",
      "state": {
       "_model_module_version": "^1.0.2",
       "_view_module_version": "^1.0.2",
       "bundle": {},
       "gist_file": "",
       "gist_id": "",
       "layout": "IPY_MODEL_abef04b55708487095afa5a7ccdd3f91",
       "properties": {
        "graphHeight": 300
       },
       "timeout": 0,
       "url": "https://raw.githubusercontent.com/oasis-open/cti-stix-elevator/master/idioms-json-2.1/icmp_pattern.json"
      }
     },
     "95263b36c572463d97947a413632d12b": {
      "model_module": "@jupyter-widgets/base",
      "model_module_version": "1.2.0",
      "model_name": "LayoutModel",
      "state": {}
     },
     "957a8871829c42659dfb89602207fd5d": {
      "model_module": "jupyter-widget-stixview",
      "model_module_version": "^1.0.2",
      "model_name": "StixviewGraphModel",
      "state": {
       "_model_module_version": "^1.0.2",
       "_view_module_version": "^1.0.2",
       "bundle": {},
       "gist_file": "",
       "gist_id": "",
       "layout": "IPY_MODEL_e4c22c64e83c46cdbb9936fa825c27f6",
       "properties": {
        "graphHeight": 300
       },
       "timeout": 0,
       "url": "https://raw.githubusercontent.com/oasis-open/cti-stix-elevator/master/idioms-json-2.1/incident-malware.json"
      }
     },
     "95b2fe07bed34d6c9bf5d16e724a9a4e": {
      "model_module": "jupyter-widget-stixview",
      "model_module_version": "^1.0.2",
      "model_name": "StixviewGraphModel",
      "state": {
       "_model_module_version": "^1.0.2",
       "_view_module_version": "^1.0.2",
       "bundle": {},
       "gist_file": "",
       "gist_id": "",
       "layout": "IPY_MODEL_ec904ceb53a1423e802fe638823f3f08",
       "properties": {
        "graphHeight": 300
       },
       "timeout": 0,
       "url": "https://raw.githubusercontent.com/oasis-open/cti-stix-elevator/master/idioms-json-2.1/archive-file-pattern.json"
      }
     },
     "95f91f00281e4b07bcabd27fac693940": {
      "model_module": "@jupyter-widgets/base",
      "model_module_version": "1.2.0",
      "model_name": "LayoutModel",
      "state": {}
     },
     "9691e8d333614a189bda5c88bf4c9390": {
      "model_module": "@jupyter-widgets/base",
      "model_module_version": "1.2.0",
      "model_name": "LayoutModel",
      "state": {}
     },
     "96fcf352da204457bb384a2416d9bc2d": {
      "model_module": "jupyter-widget-stixview",
      "model_module_version": "^1.0.2",
      "model_name": "StixviewGraphModel",
      "state": {
       "_model_module_version": "^1.0.2",
       "_view_module_version": "^1.0.2",
       "bundle": {},
       "gist_file": "",
       "gist_id": "",
       "layout": "IPY_MODEL_1d503845fda7422b9b8410f3ae6b5261",
       "properties": {},
       "timeout": 0,
       "url": "https://raw.githubusercontent.com/oasis-open/cti-stix-elevator/master/idioms-json-2.1/command-and-control-ip-list.json"
      }
     },
     "97db9b4cfcc84ff196ef817c13fe2359": {
      "model_module": "@jupyter-widgets/base",
      "model_module_version": "1.2.0",
      "model_name": "LayoutModel",
      "state": {}
     },
     "9898588029cd4c338950dca1de424b68": {
      "model_module": "jupyter-widget-stixview",
      "model_module_version": "^1.0.2",
      "model_name": "StixviewGraphModel",
      "state": {
       "_model_module_version": "^1.0.2",
       "_view_module_version": "^1.0.2",
       "bundle": {},
       "gist_file": "",
       "gist_id": "",
       "layout": "IPY_MODEL_8264286f428b497688e2d0e1d49fae44",
       "properties": {
        "graphHeight": 300
       },
       "timeout": 0,
       "url": "https://raw.githubusercontent.com/oasis-open/cti-stix-elevator/master/idioms-json-2.1/resolve_to.json"
      }
     },
     "98a146df8f18491c99900eeec27a9118": {
      "model_module": "@jupyter-widgets/base",
      "model_module_version": "1.2.0",
      "model_name": "LayoutModel",
      "state": {}
     },
     "9902dc23739146d4b6e18c867d268a66": {
      "model_module": "@jupyter-widgets/base",
      "model_module_version": "1.2.0",
      "model_name": "LayoutModel",
      "state": {}
     },
     "993ce0a369ef4986be7a2129641b3805": {
      "model_module": "jupyter-widget-stixview",
      "model_module_version": "^1.0.2",
      "model_name": "StixviewGraphModel",
      "state": {
       "_model_module_version": "^1.0.2",
       "_view_module_version": "^1.0.2",
       "bundle": {},
       "gist_file": "",
       "gist_id": "",
       "layout": "IPY_MODEL_908c2c2dd0f94489abc9380a323687de",
       "properties": {
        "graphHeight": 300
       },
       "timeout": 0,
       "url": "https://raw.githubusercontent.com/oasis-open/cti-stix-elevator/master/idioms-json-2.1/campaign-v-actors.json"
      }
     },
     "99e6d040a3bb46828f0e76ea4288872b": {
      "model_module": "@jupyter-widgets/base",
      "model_module_version": "1.2.0",
      "model_name": "LayoutModel",
      "state": {}
     },
     "9a3a7397b4914c7897bcc41eda7b64fe": {
      "model_module": "@jupyter-widgets/base",
      "model_module_version": "1.2.0",
      "model_name": "LayoutModel",
      "state": {}
     },
     "9b33210c2d054d24bcc415d395905c96": {
      "model_module": "jupyter-widget-stixview",
      "model_module_version": "^1.0.2",
      "model_name": "StixviewGraphModel",
      "state": {
       "_model_module_version": "^1.0.2",
       "_view_module_version": "^1.0.2",
       "bundle": {},
       "gist_file": "",
       "gist_id": "",
       "layout": "IPY_MODEL_088f542974ea49f88a52e15b07700c62",
       "properties": {},
       "timeout": 0,
       "url": "https://raw.githubusercontent.com/oasis-open/cti-stix-elevator/master/idioms-json-2.1/malicious-email-indicator-with-attachment.json"
      }
     },
     "9b5838ab7f5f4dcda98e3a07f05055ad": {
      "model_module": "jupyter-widget-stixview",
      "model_module_version": "^1.0.2",
      "model_name": "StixviewGraphModel",
      "state": {
       "_model_module_version": "^1.0.2",
       "_view_module_version": "^1.0.2",
       "bundle": {},
       "gist_file": "",
       "gist_id": "",
       "layout": "IPY_MODEL_b560c3afa87d47c0811d08ff029b6a29",
       "properties": {
        "graphHeight": 300
       },
       "timeout": 0,
       "url": "https://raw.githubusercontent.com/oasis-open/cti-stix-elevator/master/idioms-json-2.1/network-traffic-request-pattern.json"
      }
     },
     "9c0c8975aac245a7831799e3298b49c1": {
      "model_module": "jupyter-widget-stixview",
      "model_module_version": "^1.0.2",
      "model_name": "StixviewGraphModel",
      "state": {
       "_model_module_version": "^1.0.2",
       "_view_module_version": "^1.0.2",
       "bundle": {},
       "gist_file": "",
       "gist_id": "",
       "layout": "IPY_MODEL_d07a74812dca4eb0b1b1a7b8e79ab3a8",
       "properties": {
        "graphHeight": 300
       },
       "timeout": 0,
       "url": "https://raw.githubusercontent.com/oasis-open/cti-stix-elevator/master/idioms-json-2.1/indicator-and-observable.json"
      }
     },
     "9c6d548d08b64fafb1236dfc7583c8fe": {
      "model_module": "jupyter-widget-stixview",
      "model_module_version": "^1.0.2",
      "model_name": "StixviewGraphModel",
      "state": {
       "_model_module_version": "^1.0.2",
       "_view_module_version": "^1.0.2",
       "bundle": {},
       "gist_file": "",
       "gist_id": "",
       "layout": "IPY_MODEL_ad15bd2daccd49a8be1a747f74e14252",
       "properties": {
        "graphHeight": 300
       },
       "timeout": 0,
       "url": "https://raw.githubusercontent.com/oasis-open/cti-stix-elevator/master/idioms-json-2.1/observable-with-networkconnection-pattern.json"
      }
     },
     "9cd033811923461190a2c92b42c46f60": {
      "model_module": "jupyter-widget-stixview",
      "model_module_version": "^1.0.2",
      "model_name": "StixviewGraphModel",
      "state": {
       "_model_module_version": "^1.0.2",
       "_view_module_version": "^1.0.2",
       "bundle": {},
       "gist_file": "",
       "gist_id": "",
       "layout": "IPY_MODEL_86e5df8f13b7491ab40267233b9d89b8",
       "properties": {
        "graphHeight": 300
       },
       "timeout": 0,
       "url": "https://raw.githubusercontent.com/oasis-open/cti-stix-elevator/master/idioms-json-2.1/identifying-a-threat-actor-group.json"
      }
     },
     "9cf50540f6be44b2bc1331fe96112498": {
      "model_module": "jupyter-widget-stixview",
      "model_module_version": "^1.0.2",
      "model_name": "StixviewGraphModel",
      "state": {
       "_model_module_version": "^1.0.2",
       "_view_module_version": "^1.0.2",
       "bundle": {},
       "gist_file": "",
       "gist_id": "",
       "layout": "IPY_MODEL_1fb14e704310468b956358eebd290fdb",
       "properties": {
        "graphHeight": 300
       },
       "timeout": 0,
       "url": "https://raw.githubusercontent.com/oasis-open/cti-stix-elevator/master/idioms-json-2.1/cve-in-exploit-target.json"
      }
     },
     "9d0fa0e891834210b87e5e7ddd6efc3c": {
      "model_module": "jupyter-widget-stixview",
      "model_module_version": "^1.0.2",
      "model_name": "StixviewGraphModel",
      "state": {
       "_model_module_version": "^1.0.2",
       "_view_module_version": "^1.0.2",
       "bundle": {},
       "gist_file": "",
       "gist_id": "",
       "layout": "IPY_MODEL_df56f62850e741f399b1f30d54464272",
       "properties": {},
       "timeout": 0,
       "url": "https://raw.githubusercontent.com/oasis-open/cti-stix-elevator/master/idioms-json-2.1/yara-test-mechanism.json"
      }
     },
     "9daaea21f988478dbd06ededfb28e806": {
      "model_module": "jupyter-widget-stixview",
      "model_module_version": "^1.0.2",
      "model_name": "StixviewGraphModel",
      "state": {
       "_model_module_version": "^1.0.2",
       "_view_module_version": "^1.0.2",
       "bundle": {},
       "gist_file": "",
       "gist_id": "",
       "layout": "IPY_MODEL_58590d8d59d54c6084977bcee803e785",
       "properties": {
        "graphHeight": 300
       },
       "timeout": 0,
       "url": "https://raw.githubusercontent.com/oasis-open/cti-stix-elevator/master/idioms-json-2.1/observable-with-networkconnection-pattern-advanced.json"
      }
     },
     "a053ae8f74f14eabb8e363129ccbe386": {
      "model_module": "jupyter-widget-stixview",
      "model_module_version": "^1.0.3",
      "model_name": "StixviewGraphModel",
      "state": {
       "_model_module_version": "^1.0.3",
       "_view_module_version": "^1.0.3",
       "bundle": {},
       "gist_file": "",
       "gist_id": "",
       "layout": "IPY_MODEL_e3093788dda64864bf82d6391e06f6a0",
       "properties": {
        "graphHeight": 300
       },
       "timeout": 0,
       "url": "https://raw.githubusercontent.com/oasis-open/cti-stix-elevator/master/idioms-json-2.1/141-TLP-marking-structures.json"
      }
     },
     "a0b0571600b84264a4a82b0dac8d947a": {
      "model_module": "jupyter-widget-stixview",
      "model_module_version": "^1.0.2",
      "model_name": "StixviewGraphModel",
      "state": {
       "_model_module_version": "^1.0.2",
       "_view_module_version": "^1.0.2",
       "bundle": {},
       "gist_file": "",
       "gist_id": "",
       "layout": "IPY_MODEL_440871fe7e3a47918b068d5f42ce6c8c",
       "properties": {
        "graphHeight": 300
       },
       "timeout": 0,
       "url": "https://raw.githubusercontent.com/oasis-open/cti-stix-elevator/master/idioms-json-2.1/file-and-directory.json"
      }
     },
     "a1119e3812e74f15a64a4cc7e30be2ed": {
      "model_module": "jupyter-widget-stixview",
      "model_module_version": "^1.0.2",
      "model_name": "StixviewGraphModel",
      "state": {
       "_model_module_version": "^1.0.2",
       "_view_module_version": "^1.0.2",
       "bundle": {},
       "gist_file": "",
       "gist_id": "",
       "layout": "IPY_MODEL_f6c1c202ebfa4306abf72645971e51a4",
       "properties": {
        "graphHeight": 300
       },
       "timeout": 0,
       "url": "https://raw.githubusercontent.com/oasis-open/cti-stix-elevator/master/idioms-json-2.1/command-and-control-ip-list.json"
      }
     },
     "a11e14d885504288ac4ede6a3cc01855": {
      "model_module": "jupyter-widget-stixview",
      "model_module_version": "^1.0.2",
      "model_name": "StixviewGraphModel",
      "state": {
       "_model_module_version": "^1.0.2",
       "_view_module_version": "^1.0.2",
       "bundle": {},
       "gist_file": "",
       "gist_id": "",
       "layout": "IPY_MODEL_6d54a4ff323b44b695281a6f049a67f1",
       "properties": {
        "graphHeight": 300
       },
       "timeout": 0,
       "url": "https://raw.githubusercontent.com/oasis-open/cti-stix-elevator/master/idioms-json-2.1/yara-test-mechanism.json"
      }
     },
     "a2656345317544ab8056570cefa939e4": {
      "model_module": "@jupyter-widgets/base",
      "model_module_version": "1.2.0",
      "model_name": "LayoutModel",
      "state": {}
     },
     "a355ec5ea1214b7385ef706686add595": {
      "model_module": "@jupyter-widgets/base",
      "model_module_version": "1.2.0",
      "model_name": "LayoutModel",
      "state": {}
     },
     "a389862c32f7406a875fc1c99d123b3a": {
      "model_module": "@jupyter-widgets/base",
      "model_module_version": "1.2.0",
      "model_name": "LayoutModel",
      "state": {}
     },
     "a3bbbb6e42094ca99d19490ef11a9e5a": {
      "model_module": "jupyter-widget-stixview",
      "model_module_version": "^1.0.2",
      "model_name": "StixviewGraphModel",
      "state": {
       "_model_module_version": "^1.0.2",
       "_view_module_version": "^1.0.2",
       "bundle": {},
       "gist_file": "",
       "gist_id": "",
       "layout": "IPY_MODEL_e096671b69b84186a4e218384d6eb1f3",
       "properties": {
        "graphHeight": 300
       },
       "timeout": 0,
       "url": "https://raw.githubusercontent.com/oasis-open/cti-stix-elevator/master/idioms-json-2.1/file-and-directory.json"
      }
     },
     "a417ce7e6177436e93b915d8ec4da5bb": {
      "model_module": "jupyter-widget-stixview",
      "model_module_version": "^1.0.2",
      "model_name": "StixviewGraphModel",
      "state": {
       "_model_module_version": "^1.0.2",
       "_view_module_version": "^1.0.2",
       "bundle": {},
       "gist_file": "",
       "gist_id": "",
       "layout": "IPY_MODEL_64a742cf1f1b40fe96b8ec282eb3fca1",
       "properties": {
        "graphHeight": 300
       },
       "timeout": 0,
       "url": "https://raw.githubusercontent.com/oasis-open/cti-stix-elevator/master/idioms-json-2.1/command-and-control-ip-list.json"
      }
     },
     "a4394b334fc544f8a84f92029069d279": {
      "model_module": "@jupyter-widgets/base",
      "model_module_version": "1.2.0",
      "model_name": "LayoutModel",
      "state": {}
     },
     "a4d57045c33c489187c4f1451161cedc": {
      "model_module": "jupyter-widget-stixview",
      "model_module_version": "^1.0.2",
      "model_name": "StixviewGraphModel",
      "state": {
       "_model_module_version": "^1.0.2",
       "_view_module_version": "^1.0.2",
       "bundle": {},
       "gist_file": "",
       "gist_id": "",
       "layout": "IPY_MODEL_8d78735482b14b40925d3289f1c81772",
       "properties": {
        "graphHeight": 300
       },
       "timeout": 0,
       "url": "https://raw.githubusercontent.com/oasis-open/cti-stix-elevator/master/idioms-json-2.1/cve-in-exploit-target.json"
      }
     },
     "a5b2428ea1da40fbb5f3ecdac0911c1d": {
      "model_module": "jupyter-widget-stixview",
      "model_module_version": "^1.0.2",
      "model_name": "StixviewGraphModel",
      "state": {
       "_model_module_version": "^1.0.2",
       "_view_module_version": "^1.0.2",
       "bundle": {},
       "gist_file": "",
       "gist_id": "",
       "layout": "IPY_MODEL_dce28df5c9304b6e8a56e9181e6cd196",
       "properties": {
        "graphHeight": 300
       },
       "timeout": 0,
       "url": "https://raw.githubusercontent.com/oasis-open/cti-stix-elevator/master/idioms-json-2.1/icmp_observable.json"
      }
     },
     "a620e4437e5549d1abf6d2875b4ccc37": {
      "model_module": "jupyter-widget-stixview",
      "model_module_version": "^1.0.2",
      "model_name": "StixviewGraphModel",
      "state": {
       "_model_module_version": "^1.0.2",
       "_view_module_version": "^1.0.2",
       "bundle": {},
       "gist_file": "",
       "gist_id": "",
       "layout": "IPY_MODEL_27ee9950afc54eb0a9f62cc292d189fc",
       "properties": {
        "graphHeight": 300
       },
       "timeout": 0,
       "url": "https://raw.githubusercontent.com/oasis-open/cti-stix-elevator/master/idioms-json-2.1/indicator-for-malicious-url.json"
      }
     },
     "a6520ce1a8d7409a8b789c20675ff6b6": {
      "model_module": "@jupyter-widgets/base",
      "model_module_version": "1.2.0",
      "model_name": "LayoutModel",
      "state": {}
     },
     "a6e30d4e953c46c4b34cd300e0cc2054": {
      "model_module": "jupyter-widget-stixview",
      "model_module_version": "^1.0.2",
      "model_name": "StixviewGraphModel",
      "state": {
       "_model_module_version": "^1.0.2",
       "_view_module_version": "^1.0.2",
       "bundle": {},
       "gist_file": "",
       "gist_id": "",
       "layout": "IPY_MODEL_95f91f00281e4b07bcabd27fac693940",
       "properties": {
        "graphHeight": 300
       },
       "timeout": 0,
       "url": "https://raw.githubusercontent.com/oasis-open/cti-stix-elevator/master/idioms-json-2.1/Appendix_G_IOCs_Full.json"
      }
     },
     "a71adc96895143bfa4524d0f7bc3c1cd": {
      "model_module": "@jupyter-widgets/base",
      "model_module_version": "1.2.0",
      "model_name": "LayoutModel",
      "state": {}
     },
     "a72ab7d218dd4defbb7c57f7ea3961b4": {
      "model_module": "jupyter-widget-stixview",
      "model_module_version": "^1.0.2",
      "model_name": "StixviewGraphModel",
      "state": {
       "_model_module_version": "^1.0.2",
       "_view_module_version": "^1.0.2",
       "bundle": {},
       "gist_file": "",
       "gist_id": "",
       "layout": "IPY_MODEL_848c0b55e44645f0878df98daedf5260",
       "properties": {
        "graphHeight": 300
       },
       "timeout": 0,
       "url": "https://raw.githubusercontent.com/oasis-open/cti-stix-elevator/master/idioms-json-2.1/multiple-reports-in-package.json"
      }
     },
     "a73229b52c2e4b0ab6579805e7b94a89": {
      "model_module": "@jupyter-widgets/base",
      "model_module_version": "1.2.0",
      "model_name": "LayoutModel",
      "state": {}
     },
     "a79e8c908fa64a35ae537e7d29473a29": {
      "model_module": "jupyter-widget-stixview",
      "model_module_version": "^1.0.2",
      "model_name": "StixviewGraphModel",
      "state": {
       "_model_module_version": "^1.0.2",
       "_view_module_version": "^1.0.2",
       "bundle": {},
       "gist_file": "",
       "gist_id": "",
       "layout": "IPY_MODEL_b85b3305d7504cca9115ca3e00622f7f",
       "properties": {},
       "timeout": 0,
       "url": "https://raw.githubusercontent.com/oasis-open/cti-stix-elevator/master/idioms-json-2.1/network-traffic-request-pattern.json"
      }
     },
     "a85de1a1efbe4d5e9d5c9f44b29c2eed": {
      "model_module": "jupyter-widget-stixview",
      "model_module_version": "^1.0.2",
      "model_name": "StixviewGraphModel",
      "state": {
       "_model_module_version": "^1.0.2",
       "_view_module_version": "^1.0.2",
       "bundle": {},
       "gist_file": "",
       "gist_id": "",
       "layout": "IPY_MODEL_f60d0dcedd3d4f518473da53b635397c",
       "properties": {
        "graphHeight": 300
       },
       "timeout": 0,
       "url": "https://raw.githubusercontent.com/oasis-open/cti-stix-elevator/master/idioms-json-2.1/141-TLP-marking-structures.json"
      }
     },
     "a90ab9a3301040059de6e721aa797cfb": {
      "model_module": "@jupyter-widgets/base",
      "model_module_version": "1.2.0",
      "model_name": "LayoutModel",
      "state": {}
     },
     "aa68c4b2c76249c587e40993f1c4cfb6": {
      "model_module": "jupyter-widget-stixview",
      "model_module_version": "^1.0.2",
      "model_name": "StixviewGraphModel",
      "state": {
       "_model_module_version": "^1.0.2",
       "_view_module_version": "^1.0.2",
       "bundle": {},
       "gist_file": "",
       "gist_id": "",
       "layout": "IPY_MODEL_6735e72fe15b4976a6b6802558b65bbf",
       "properties": {},
       "timeout": 0,
       "url": "https://raw.githubusercontent.com/oasis-open/cti-stix-elevator/master/idioms-json-2.1/Mandiant_APT1_Report.json"
      }
     },
     "aa97f805b6fd4124928747c3c94b98f6": {
      "model_module": "jupyter-widget-stixview",
      "model_module_version": "^1.0.2",
      "model_name": "StixviewGraphModel",
      "state": {
       "_model_module_version": "^1.0.2",
       "_view_module_version": "^1.0.2",
       "bundle": {},
       "gist_file": "",
       "gist_id": "",
       "layout": "IPY_MODEL_f66f8f99bb6a423593a4ad71fea8e139",
       "properties": {
        "graphHeight": 300
       },
       "timeout": 0,
       "url": "https://raw.githubusercontent.com/oasis-open/cti-stix-elevator/master/idioms-json-2.1/file-hash-reputation.json"
      }
     },
     "ab37f5c11477494381d52a973eaeb38f": {
      "model_module": "@jupyter-widgets/base",
      "model_module_version": "1.2.0",
      "model_name": "LayoutModel",
      "state": {}
     },
     "ab454754c1c148cf82027a0c3c8d7d03": {
      "model_module": "jupyter-widget-stixview",
      "model_module_version": "^1.0.2",
      "model_name": "StixviewGraphModel",
      "state": {
       "_model_module_version": "^1.0.2",
       "_view_module_version": "^1.0.2",
       "bundle": {},
       "gist_file": "",
       "gist_id": "",
       "layout": "IPY_MODEL_572dfab8c6924e45b11e240ee8b044aa",
       "properties": {},
       "timeout": 0,
       "url": "https://raw.githubusercontent.com/oasis-open/cti-stix-elevator/master/idioms-json-2.1/malicious-email-indicator-with-addresses.json"
      }
     },
     "abef04b55708487095afa5a7ccdd3f91": {
      "model_module": "@jupyter-widgets/base",
      "model_module_version": "1.2.0",
      "model_name": "LayoutModel",
      "state": {}
     },
     "ac6d32a9fce64cb192b5efc111acecf9": {
      "model_module": "jupyter-widget-stixview",
      "model_module_version": "^1.0.2",
      "model_name": "StixviewGraphModel",
      "state": {
       "_model_module_version": "^1.0.2",
       "_view_module_version": "^1.0.2",
       "bundle": {},
       "gist_file": "",
       "gist_id": "",
       "layout": "IPY_MODEL_d0911ba8590b41eeb66c85cebc919b91",
       "properties": {
        "graphHeight": 300
       },
       "timeout": 0,
       "url": "https://raw.githubusercontent.com/oasis-open/cti-stix-elevator/master/idioms-json-2.1/issue62.json"
      }
     },
     "acb73201dc154561be4a81506f68ab5e": {
      "model_module": "@jupyter-widgets/base",
      "model_module_version": "1.2.0",
      "model_name": "LayoutModel",
      "state": {}
     },
     "ace89c00e7a3464b8dbc8ed2a51d8379": {
      "model_module": "jupyter-widget-stixview",
      "model_module_version": "^1.0.2",
      "model_name": "StixviewGraphModel",
      "state": {
       "_model_module_version": "^1.0.2",
       "_view_module_version": "^1.0.2",
       "bundle": {},
       "gist_file": "",
       "gist_id": "6a0fbb0f6e7faf063c748b23f9c7dc62",
       "layout": "IPY_MODEL_ecbc90819272416a9b65cde13a465b7a",
       "properties": {
        "disableMouseZoom": true
       },
       "timeout": 0,
       "url": ""
      }
     },
     "acf758cc6e3740c793bdd5750ceb89b0": {
      "model_module": "jupyter-widget-stixview",
      "model_module_version": "^1.0.2",
      "model_name": "StixviewGraphModel",
      "state": {
       "_model_module_version": "^1.0.2",
       "_view_module_version": "^1.0.2",
       "bundle": {},
       "gist_file": "",
       "gist_id": "",
       "layout": "IPY_MODEL_fbf84e2dbdc84763a8e511f5db8404de",
       "properties": {
        "graphHeight": 300
       },
       "timeout": 0,
       "url": "https://raw.githubusercontent.com/oasis-open/cti-stix-elevator/master/idioms-json-2.1/archive-file.json"
      }
     },
     "ad15bd2daccd49a8be1a747f74e14252": {
      "model_module": "@jupyter-widgets/base",
      "model_module_version": "1.2.0",
      "model_name": "LayoutModel",
      "state": {}
     },
     "ad3fc3e32c384991b89b56173cb0fe1b": {
      "model_module": "@jupyter-widgets/base",
      "model_module_version": "1.2.0",
      "model_name": "LayoutModel",
      "state": {}
     },
     "ad4db508798342818291c3c77054f4e2": {
      "model_module": "jupyter-widget-stixview",
      "model_module_version": "^1.0.2",
      "model_name": "StixviewGraphModel",
      "state": {
       "_model_module_version": "^1.0.2",
       "_view_module_version": "^1.0.2",
       "bundle": {},
       "gist_file": "",
       "gist_id": "",
       "layout": "IPY_MODEL_b7bbe761f81e4135ba297d6917605dca",
       "properties": {
        "graphHeight": 300
       },
       "timeout": 0,
       "url": "https://raw.githubusercontent.com/oasis-open/cti-stix-elevator/master/idioms-json-2.1/issue-148.json"
      }
     },
     "addff3bb17414b94a87b21b1c2588767": {
      "model_module": "jupyter-widget-stixview",
      "model_module_version": "^1.0.2",
      "model_name": "StixviewGraphModel",
      "state": {
       "_model_module_version": "^1.0.2",
       "_view_module_version": "^1.0.2",
       "bundle": {},
       "gist_file": "",
       "gist_id": "",
       "layout": "IPY_MODEL_0fe3089412a1443f9596765c2b101955",
       "properties": {
        "graphHeight": 300
       },
       "timeout": 0,
       "url": "https://raw.githubusercontent.com/oasis-open/cti-stix-elevator/master/idioms-json-2.1/campaign-v-actors.json"
      }
     },
     "adf5874667004d3684e08af20e191b34": {
      "model_module": "jupyter-widget-stixview",
      "model_module_version": "^1.0.3",
      "model_name": "StixviewGraphModel",
      "state": {
       "_model_module_version": "^1.0.3",
       "_view_module_version": "^1.0.3",
       "bundle": {},
       "gist_file": "",
       "gist_id": "",
       "layout": "IPY_MODEL_94c8e4ff16ec4cc8b431522f317e575f",
       "properties": {
        "graphHeight": 300
       },
       "timeout": 0,
       "url": "https://raw.githubusercontent.com/oasis-open/cti-stix-elevator/master/idioms-json-2.1/file-and-directory.json"
      }
     },
     "ae344f843ce4485dbbf52f88db6aeb3f": {
      "model_module": "@jupyter-widgets/base",
      "model_module_version": "1.2.0",
      "model_name": "LayoutModel",
      "state": {}
     },
     "ae5478608e8240b6bc4f9b462b2b7f11": {
      "model_module": "@jupyter-widgets/base",
      "model_module_version": "1.2.0",
      "model_name": "LayoutModel",
      "state": {}
     },
     "aeae5e14a14b4c7fb268750ddd9c2f14": {
      "model_module": "jupyter-widget-stixview",
      "model_module_version": "^1.0.2",
      "model_name": "StixviewGraphModel",
      "state": {
       "_model_module_version": "^1.0.2",
       "_view_module_version": "^1.0.2",
       "bundle": {},
       "gist_file": "",
       "gist_id": "",
       "layout": "IPY_MODEL_bab12064ee834112a0e4a1a6e32bef28",
       "properties": {
        "graphHeight": 300
       },
       "timeout": 0,
       "url": "https://raw.githubusercontent.com/oasis-open/cti-stix-elevator/master/idioms-json-2.1/malware-characterization-using-maec.json"
      }
     },
     "aebb2823157243ea9e4a4b2d414039be": {
      "model_module": "@jupyter-widgets/base",
      "model_module_version": "1.2.0",
      "model_name": "LayoutModel",
      "state": {}
     },
     "af78749606054777a89525a18743229b": {
      "model_module": "@jupyter-widgets/base",
      "model_module_version": "1.2.0",
      "model_name": "LayoutModel",
      "state": {}
     },
     "afd3bd0ebce7441a99faea77f5aa0a47": {
      "model_module": "jupyter-widget-stixview",
      "model_module_version": "^1.0.2",
      "model_name": "StixviewGraphModel",
      "state": {
       "_model_module_version": "^1.0.2",
       "_view_module_version": "^1.0.2",
       "bundle": {},
       "gist_file": "",
       "gist_id": "",
       "layout": "IPY_MODEL_922021c6a1084e5f85658047d256dc0b",
       "properties": {
        "graphHeight": 300
       },
       "timeout": 0,
       "url": "https://raw.githubusercontent.com/oasis-open/cti-stix-elevator/master/idioms-json-2.1/network-socket-pattern.json"
      }
     },
     "b0847071b5824191901989a6b7329fad": {
      "model_module": "jupyter-widget-stixview",
      "model_module_version": "^1.0.2",
      "model_name": "StixviewGraphModel",
      "state": {
       "_model_module_version": "^1.0.2",
       "_view_module_version": "^1.0.2",
       "bundle": {},
       "gist_file": "",
       "gist_id": "",
       "layout": "IPY_MODEL_cbe164f840b04a8eadae848cbc126b15",
       "properties": {
        "graphHeight": 300
       },
       "timeout": 0,
       "url": "https://raw.githubusercontent.com/oasis-open/cti-stix-elevator/master/idioms-json-2.1/141-TLP-marking-structures.json"
      }
     },
     "b0ced737409440908a9643b36c131054": {
      "model_module": "@jupyter-widgets/base",
      "model_module_version": "1.2.0",
      "model_name": "LayoutModel",
      "state": {}
     },
     "b107defb02954d899786a7a1ccbb4a14": {
      "model_module": "@jupyter-widgets/base",
      "model_module_version": "1.2.0",
      "model_name": "LayoutModel",
      "state": {}
     },
     "b1bf6231ff4743f5bf9c7d8756856977": {
      "model_module": "@jupyter-widgets/base",
      "model_module_version": "1.2.0",
      "model_name": "LayoutModel",
      "state": {}
     },
     "b20cd2c5f09849ac87185929973910bf": {
      "model_module": "@jupyter-widgets/base",
      "model_module_version": "1.2.0",
      "model_name": "LayoutModel",
      "state": {}
     },
     "b21cea06c2e64a4bb6d00a7ad33956ee": {
      "model_module": "@jupyter-widgets/base",
      "model_module_version": "1.2.0",
      "model_name": "LayoutModel",
      "state": {}
     },
     "b239f3344bc44528b1719f5677b84ea3": {
      "model_module": "@jupyter-widgets/base",
      "model_module_version": "1.2.0",
      "model_name": "LayoutModel",
      "state": {}
     },
     "b2a68df91b334aa688bd5c76079e2445": {
      "model_module": "@jupyter-widgets/base",
      "model_module_version": "1.2.0",
      "model_name": "LayoutModel",
      "state": {}
     },
     "b2b485d95f944db989ab4609c118509b": {
      "model_module": "jupyter-widget-stixview",
      "model_module_version": "^1.0.2",
      "model_name": "StixviewGraphModel",
      "state": {
       "_model_module_version": "^1.0.2",
       "_view_module_version": "^1.0.2",
       "bundle": {},
       "gist_file": "",
       "gist_id": "",
       "layout": "IPY_MODEL_af78749606054777a89525a18743229b",
       "properties": {
        "graphHeight": 300
       },
       "timeout": 0,
       "url": "https://raw.githubusercontent.com/oasis-open/cti-stix-elevator/master/idioms-json-2.1/fix-embedded-relationship-example.json"
      }
     },
     "b3fa885aee0a481f8f0c2e3a831a201f": {
      "model_module": "@jupyter-widgets/base",
      "model_module_version": "1.2.0",
      "model_name": "LayoutModel",
      "state": {}
     },
     "b4d363d2eb764e7fa166558726a3e7b0": {
      "model_module": "jupyter-widget-stixview",
      "model_module_version": "^1.0.2",
      "model_name": "StixviewGraphModel",
      "state": {
       "_model_module_version": "^1.0.2",
       "_view_module_version": "^1.0.2",
       "bundle": {},
       "gist_file": "",
       "gist_id": "",
       "layout": "IPY_MODEL_8f1a44e5860e4f88a194087b813cbabe",
       "properties": {},
       "timeout": 0,
       "url": "https://raw.githubusercontent.com/oasis-open/cti-stix-elevator/master/idioms-json-2.1/archive-file.json"
      }
     },
     "b4e91b17f80745b497f2d871a45713a1": {
      "model_module": "jupyter-widget-stixview",
      "model_module_version": "^1.0.2",
      "model_name": "StixviewGraphModel",
      "state": {
       "_model_module_version": "^1.0.2",
       "_view_module_version": "^1.0.2",
       "bundle": {},
       "gist_file": "",
       "gist_id": "",
       "layout": "IPY_MODEL_210daf334aba46419f30b6a471148aca",
       "properties": {
        "graphHeight": 300
       },
       "timeout": 0,
       "url": "https://raw.githubusercontent.com/oasis-open/cti-stix-elevator/master/idioms-json-2.1/archive-file.json"
      }
     },
     "b4f9ee9b20f34b3c829a10c148dacbf3": {
      "model_module": "@jupyter-widgets/base",
      "model_module_version": "1.2.0",
      "model_name": "LayoutModel",
      "state": {}
     },
     "b547ea7116a14aa6865deec70e3f8751": {
      "model_module": "jupyter-widget-stixview",
      "model_module_version": "^1.0.2",
      "model_name": "StixviewGraphModel",
      "state": {
       "_model_module_version": "^1.0.2",
       "_view_module_version": "^1.0.2",
       "bundle": {},
       "gist_file": "",
       "gist_id": "",
       "layout": "IPY_MODEL_9902dc23739146d4b6e18c867d268a66",
       "properties": {},
       "timeout": 0,
       "url": "https://raw.githubusercontent.com/oasis-open/cti-stix-elevator/master/idioms-json-2.1/cve-in-exploit-target.json"
      }
     },
     "b560c3afa87d47c0811d08ff029b6a29": {
      "model_module": "@jupyter-widgets/base",
      "model_module_version": "1.2.0",
      "model_name": "LayoutModel",
      "state": {}
     },
     "b57e81c13a4241faa4edc3cb6f2efab5": {
      "model_module": "jupyter-widget-stixview",
      "model_module_version": "^1.0.3",
      "model_name": "StixviewGraphModel",
      "state": {
       "_model_module_version": "^1.0.3",
       "_view_module_version": "^1.0.3",
       "bundle": {},
       "gist_file": "",
       "gist_id": "",
       "layout": "IPY_MODEL_ed1dd1753cab481583cbb2b6b4142618",
       "properties": {
        "graphHeight": 300
       },
       "timeout": 0,
       "url": "https://raw.githubusercontent.com/oasis-open/cti-stix-elevator/master/idioms-json-2.1/indicator-and-observable.json"
      }
     },
     "b5db1d0e276b4ac89468e68426612c1f": {
      "model_module": "jupyter-widget-stixview",
      "model_module_version": "^1.0.3",
      "model_name": "StixviewGraphModel",
      "state": {
       "_model_module_version": "^1.0.3",
       "_view_module_version": "^1.0.3",
       "bundle": {},
       "gist_file": "",
       "gist_id": "",
       "layout": "IPY_MODEL_293f825d4ec449b3805a4f8e9d2c34d3",
       "properties": {
        "graphHeight": 300
       },
       "timeout": 0,
       "url": "https://raw.githubusercontent.com/oasis-open/cti-stix-elevator/master/idioms-json-2.1/file-hash-reputation.json"
      }
     },
     "b65c55f2957a4e69bf140ec1edcea955": {
      "model_module": "@jupyter-widgets/base",
      "model_module_version": "1.2.0",
      "model_name": "LayoutModel",
      "state": {}
     },
     "b66705d012f74ee19ab567e8ca1eb364": {
      "model_module": "jupyter-widget-stixview",
      "model_module_version": "^1.0.2",
      "model_name": "StixviewGraphModel",
      "state": {
       "_model_module_version": "^1.0.2",
       "_view_module_version": "^1.0.2",
       "bundle": {},
       "gist_file": "",
       "gist_id": "",
       "layout": "IPY_MODEL_b4f9ee9b20f34b3c829a10c148dacbf3",
       "properties": {
        "graphHeight": 300
       },
       "timeout": 0,
       "url": "https://raw.githubusercontent.com/oasis-open/cti-stix-elevator/master/idioms-json-2.1/command-and-control-ip-list.json"
      }
     },
     "b6adc53c5fa44192997374e7edd8694b": {
      "model_module": "jupyter-widget-stixview",
      "model_module_version": "^1.0.2",
      "model_name": "StixviewGraphModel",
      "state": {
       "_model_module_version": "^1.0.2",
       "_view_module_version": "^1.0.2",
       "bundle": {},
       "gist_file": "",
       "gist_id": "",
       "layout": "IPY_MODEL_b2a68df91b334aa688bd5c76079e2445",
       "properties": {},
       "timeout": 0,
       "url": "https://raw.githubusercontent.com/oasis-open/cti-stix-elevator/master/idioms-json-2.1/observable-with-networkconnection-instance.json"
      }
     },
     "b6b1782eb03d44ff80ec73640e385ef8": {
      "model_module": "@jupyter-widgets/base",
      "model_module_version": "1.2.0",
      "model_name": "LayoutModel",
      "state": {}
     },
     "b726818148384e09bc89b57b7ff52e04": {
      "model_module": "@jupyter-widgets/base",
      "model_module_version": "1.2.0",
      "model_name": "LayoutModel",
      "state": {}
     },
     "b7bbe761f81e4135ba297d6917605dca": {
      "model_module": "@jupyter-widgets/base",
      "model_module_version": "1.2.0",
      "model_name": "LayoutModel",
      "state": {}
     },
     "b85b3305d7504cca9115ca3e00622f7f": {
      "model_module": "@jupyter-widgets/base",
      "model_module_version": "1.2.0",
      "model_name": "LayoutModel",
      "state": {}
     },
     "b86fcb3f4ed74a478addefd9965217eb": {
      "model_module": "@jupyter-widgets/base",
      "model_module_version": "1.2.0",
      "model_name": "LayoutModel",
      "state": {}
     },
     "b9ba2388b66b445fb4907a975337c8e7": {
      "model_module": "jupyter-widget-stixview",
      "model_module_version": "^1.0.2",
      "model_name": "StixviewGraphModel",
      "state": {
       "_model_module_version": "^1.0.2",
       "_view_module_version": "^1.0.2",
       "bundle": {},
       "gist_file": "",
       "gist_id": "",
       "layout": "IPY_MODEL_8183366c8ddb4aa0bdcafae5dc7a2460",
       "properties": {},
       "timeout": 0,
       "url": "https://raw.githubusercontent.com/oasis-open/cti-stix-elevator/master/idioms-json-2.1/resolve_to.json"
      }
     },
     "b9f9b4acf2b545809c8c8cec94c71107": {
      "model_module": "jupyter-widget-stixview",
      "model_module_version": "^1.0.2",
      "model_name": "StixviewGraphModel",
      "state": {
       "_model_module_version": "^1.0.2",
       "_view_module_version": "^1.0.2",
       "bundle": {},
       "gist_file": "",
       "gist_id": "",
       "layout": "IPY_MODEL_337d7df063974303855420720a62cab3",
       "properties": {},
       "timeout": 0,
       "url": "https://raw.githubusercontent.com/oasis-open/cti-stix-elevator/master/idioms-json-2.1/threat-actor-leveraging-attack-patterns-and-malware.json"
      }
     },
     "ba45d47c2da146b78a7688e44920631e": {
      "model_module": "jupyter-widget-stixview",
      "model_module_version": "^1.0.2",
      "model_name": "StixviewGraphModel",
      "state": {
       "_model_module_version": "^1.0.2",
       "_view_module_version": "^1.0.2",
       "bundle": {},
       "gist_file": "",
       "gist_id": "",
       "layout": "IPY_MODEL_fdf19546c4ce4ea4806e545612bf59ea",
       "properties": {},
       "timeout": 0,
       "url": "https://api.github.com/repos/oasis-open/cti-stix-elevator/contents/idioms-json-2.1/141-TLP-marking-structures.json"
      }
     },
     "bab12064ee834112a0e4a1a6e32bef28": {
      "model_module": "@jupyter-widgets/base",
      "model_module_version": "1.2.0",
      "model_name": "LayoutModel",
      "state": {}
     },
     "bc5418b01ed04326bde658d131e63d5d": {
      "model_module": "@jupyter-widgets/base",
      "model_module_version": "1.2.0",
      "model_name": "LayoutModel",
      "state": {}
     },
     "bcf09b7bb7004105a8fbd5deebd29826": {
      "model_module": "@jupyter-widgets/base",
      "model_module_version": "1.2.0",
      "model_name": "LayoutModel",
      "state": {}
     },
     "be07db05126e41529908097c4217d97a": {
      "model_module": "@jupyter-widgets/base",
      "model_module_version": "1.2.0",
      "model_name": "LayoutModel",
      "state": {}
     },
     "c0938e417ad0401593a4926f3886d657": {
      "model_module": "@jupyter-widgets/base",
      "model_module_version": "1.2.0",
      "model_name": "LayoutModel",
      "state": {}
     },
     "c098775cefd547f89ed597d4d2938e46": {
      "model_module": "jupyter-widget-stixview",
      "model_module_version": "^1.0.2",
      "model_name": "StixviewGraphModel",
      "state": {
       "_model_module_version": "^1.0.2",
       "_view_module_version": "^1.0.2",
       "bundle": {},
       "gist_file": "",
       "gist_id": "",
       "layout": "IPY_MODEL_fd45e55f55bd462190b75a31373b20d7",
       "properties": {
        "graphHeight": 300
       },
       "timeout": 0,
       "url": "https://raw.githubusercontent.com/oasis-open/cti-stix-elevator/master/idioms-json-2.1/icmp_pattern.json"
      }
     },
     "c10b901e61e547998def43ab7bb317fb": {
      "model_module": "@jupyter-widgets/base",
      "model_module_version": "1.2.0",
      "model_name": "LayoutModel",
      "state": {}
     },
     "c1103f870cd04cc5aa0d57ef43de1545": {
      "model_module": "jupyter-widget-stixview",
      "model_module_version": "^1.0.2",
      "model_name": "StixviewGraphModel",
      "state": {
       "_model_module_version": "^1.0.2",
       "_view_module_version": "^1.0.2",
       "bundle": {},
       "gist_file": "",
       "gist_id": "",
       "layout": "IPY_MODEL_3804fa42507440d980212fa2331a395b",
       "properties": {
        "graphHeight": 300
       },
       "timeout": 0,
       "url": "https://raw.githubusercontent.com/oasis-open/cti-stix-elevator/master/idioms-json-2.1/cve-in-exploit-target.json"
      }
     },
     "c1278a74af2e4bdfb6f693e5e3da409e": {
      "model_module": "@jupyter-widgets/base",
      "model_module_version": "1.2.0",
      "model_name": "LayoutModel",
      "state": {}
     },
     "c27729b1b3f046e0802f09d8a035870f": {
      "model_module": "jupyter-widget-stixview",
      "model_module_version": "^1.0.2",
      "model_name": "StixviewGraphModel",
      "state": {
       "_model_module_version": "^1.0.2",
       "_view_module_version": "^1.0.2",
       "bundle": {},
       "gist_file": "",
       "gist_id": "",
       "layout": "IPY_MODEL_916a43293cb941bc83bac193779a6ef3",
       "properties": {
        "graphHeight": 300
       },
       "timeout": 0,
       "url": "https://raw.githubusercontent.com/oasis-open/cti-stix-elevator/master/idioms-json-2.1/icmp_observable.json"
      }
     },
     "c3495aaff94e4cea95d7586954343173": {
      "model_module": "jupyter-widget-stixview",
      "model_module_version": "^1.0.2",
      "model_name": "StixviewGraphModel",
      "state": {
       "_model_module_version": "^1.0.2",
       "_view_module_version": "^1.0.2",
       "bundle": {},
       "gist_file": "",
       "gist_id": "",
       "layout": "IPY_MODEL_37300ed801344e80ba9dea274f930b4a",
       "properties": {
        "graphHeight": 300
       },
       "timeout": 0,
       "url": "https://raw.githubusercontent.com/oasis-open/cti-stix-elevator/master/idioms-json-2.1/email-links-observable.json"
      }
     },
     "c4362b38ce7640b2afd152a74f232d80": {
      "model_module": "@jupyter-widgets/base",
      "model_module_version": "1.2.0",
      "model_name": "LayoutModel",
      "state": {}
     },
     "c50eee11e1f545499bf8c29bf0a45e48": {
      "model_module": "jupyter-widget-stixview",
      "model_module_version": "^1.0.2",
      "model_name": "StixviewGraphModel",
      "state": {
       "_model_module_version": "^1.0.2",
       "_view_module_version": "^1.0.2",
       "bundle": {},
       "gist_file": "",
       "gist_id": "",
       "layout": "IPY_MODEL_8ee1fcb2250848628a2782a2fd248801",
       "properties": {
        "graphHeight": 300
       },
       "timeout": 0,
       "url": "https://raw.githubusercontent.com/oasis-open/cti-stix-elevator/master/idioms-json-2.1/observable_composition.json"
      }
     },
     "c55b8decd01c492eb4e7b4345cd217e4": {
      "model_module": "jupyter-widget-stixview",
      "model_module_version": "^1.0.2",
      "model_name": "StixviewGraphModel",
      "state": {
       "_model_module_version": "^1.0.2",
       "_view_module_version": "^1.0.2",
       "bundle": {
        "id": "bundle--ac946f1d-6a0e-4a9d-bc83-3f1f3bfda6ba",
        "objects": [
         {
          "created": "2015-05-15T09:12:16.432Z",
          "description": "Poison Ivy is a remote access tool, first released in 2005 but unchanged since 2008. It includes features common to most Windows-based RATs, including key logging, screen capturing, video capturing, file transfers, system administration, password theft, and traffic relaying.",
          "id": "malware--591f0cb7-d66f-4e14-a8e6-5927b597f920",
          "labels": [
           "remote-access-trojan"
          ],
          "modified": "2015-05-15T09:12:16.432Z",
          "name": "Poison Ivy",
          "type": "malware"
         },
         {
          "created": "2015-05-15T09:12:16.432Z",
          "id": "relationship--134c393e-cbe0-433c-9a7a-95263ed8578f",
          "modified": "2015-05-15T09:12:16.432Z",
          "relationship_type": "mitigates",
          "source_ref": "course-of-action--70b3d5f6-374b-4488-8688-729b6eedac5b",
          "target_ref": "malware--591f0cb7-d66f-4e14-a8e6-5927b597f920",
          "type": "relationship"
         },
         {
          "created": "2015-05-15T09:12:16.432Z",
          "created_by_ref": "identity--81cade27-7df8-4730-836b-62d880e6d9d3",
          "description": "Calamine is a set of free tools to help organizations detect and examine Poison Ivy infections on their systems. The package includes these components: PIVY callback-decoding tool (ChopShop Module) and PIVY memory-decoding tool (PIVY PyCommand Script).",
          "external_references": [],
          "id": "course-of-action--70b3d5f6-374b-4488-8688-729b6eedac5b",
          "modified": "2015-05-15T09:12:16.432Z",
          "name": "Analyze with FireEye Calamine Toolset",
          "type": "course-of-action"
         },
         {
          "created": "2015-05-15T09:12:16.432Z",
          "id": "identity--81cade27-7df8-4730-836b-62d880e6d9d3",
          "identity_class": "organization",
          "modified": "2015-05-15T09:12:16.432Z",
          "name": "FireEye, Inc.",
          "sectors": [
           "technology"
          ],
          "type": "identity"
         }
        ],
        "spec_version": "2.0",
        "type": "bundle"
       },
       "gist_file": "",
       "gist_id": "",
       "layout": "IPY_MODEL_8c65d86189994983b53bbb78bba36d29",
       "properties": {
        "caption": "Custom STIX2 bundle",
        "graphHeight": 400
       },
       "timeout": 0,
       "url": ""
      }
     },
     "c67a6891d9f64612a5608cf9845db3c5": {
      "model_module": "jupyter-widget-stixview",
      "model_module_version": "^1.0.2",
      "model_name": "StixviewGraphModel",
      "state": {
       "_model_module_version": "^1.0.2",
       "_view_module_version": "^1.0.2",
       "bundle": {},
       "gist_file": "",
       "gist_id": "",
       "layout": "IPY_MODEL_b21cea06c2e64a4bb6d00a7ad33956ee",
       "properties": {
        "graphHeight": 300
       },
       "timeout": 0,
       "url": "https://raw.githubusercontent.com/oasis-open/cti-stix-elevator/master/idioms-json-2.1/archive-file.json"
      }
     },
     "c6a4502459504c94aea56a54ee46d4f3": {
      "model_module": "jupyter-widget-stixview",
      "model_module_version": "^1.0.2",
      "model_name": "StixviewGraphModel",
      "state": {
       "_model_module_version": "^1.0.2",
       "_view_module_version": "^1.0.2",
       "bundle": {},
       "gist_file": "",
       "gist_id": "",
       "layout": "IPY_MODEL_38f965136e724da08af92501dbca4447",
       "properties": {
        "graphHeight": 300
       },
       "timeout": 0,
       "url": "https://raw.githubusercontent.com/oasis-open/cti-stix-elevator/master/idioms-json-2.1/141-TLP-marking-structures.json"
      }
     },
     "c7551ee1e363482ea6e685b1cc3f3895": {
      "model_module": "@jupyter-widgets/base",
      "model_module_version": "1.2.0",
      "model_name": "LayoutModel",
      "state": {}
     },
     "c7ac1b4f4556489e9f13d21e162b3fb2": {
      "model_module": "@jupyter-widgets/base",
      "model_module_version": "1.2.0",
      "model_name": "LayoutModel",
      "state": {}
     },
     "c83fcf95148f49a1973a754aea512700": {
      "model_module": "@jupyter-widgets/base",
      "model_module_version": "1.2.0",
      "model_name": "LayoutModel",
      "state": {}
     },
     "c8504342a37348a1aa3c0a53f6662d89": {
      "model_module": "@jupyter-widgets/base",
      "model_module_version": "1.2.0",
      "model_name": "LayoutModel",
      "state": {}
     },
     "c88f28ae3fd040d38cc2453808ea9233": {
      "model_module": "@jupyter-widgets/base",
      "model_module_version": "1.2.0",
      "model_name": "LayoutModel",
      "state": {}
     },
     "c97fbda360314707ae067094f0c0c618": {
      "model_module": "jupyter-widget-stixview",
      "model_module_version": "^1.0.3",
      "model_name": "StixviewGraphModel",
      "state": {
       "_model_module_version": "^1.0.3",
       "_view_module_version": "^1.0.3",
       "bundle": {},
       "gist_file": "",
       "gist_id": "",
       "layout": "IPY_MODEL_26dd187d2d62497993483b012a451ac7",
       "properties": {
        "graphHeight": 300
       },
       "timeout": 0,
       "url": "https://raw.githubusercontent.com/oasis-open/cti-stix-elevator/master/idioms-json-2.1/indicator-for-c2-ip-address.json"
      }
     },
     "c9b06d1475cc4174a56b5254856c7fc2": {
      "model_module": "jupyter-widget-stixview",
      "model_module_version": "^1.0.2",
      "model_name": "StixviewGraphModel",
      "state": {
       "_model_module_version": "^1.0.2",
       "_view_module_version": "^1.0.2",
       "bundle": {},
       "gist_file": "",
       "gist_id": "",
       "layout": "IPY_MODEL_d7ab83d676624007b64372084843da7a",
       "properties": {},
       "timeout": 0,
       "url": "https://raw.githubusercontent.com/oasis-open/cti-stix-elevator/master/idioms-json-2.1/fix-embedded-relationship-example.json"
      }
     },
     "cbe164f840b04a8eadae848cbc126b15": {
      "model_module": "@jupyter-widgets/base",
      "model_module_version": "1.2.0",
      "model_name": "LayoutModel",
      "state": {}
     },
     "cc13879555fc4263a761510f2e6b318e": {
      "model_module": "@jupyter-widgets/base",
      "model_module_version": "1.2.0",
      "model_name": "LayoutModel",
      "state": {}
     },
     "cc1a87374ad0440eb0517b1af2e9cf86": {
      "model_module": "jupyter-widget-stixview",
      "model_module_version": "^1.0.2",
      "model_name": "StixviewGraphModel",
      "state": {
       "_model_module_version": "^1.0.2",
       "_view_module_version": "^1.0.2",
       "bundle": {},
       "gist_file": "",
       "gist_id": "",
       "layout": "IPY_MODEL_1285cf7949bf469dbacb3f8e4b63bd15",
       "properties": {
        "caption": "Showing a selection of data loaded from URL, without a footer",
        "graphHeight": 600,
        "hideFooter": true,
        "highlightedObjects": [
         "course-of-action--70b3d5f6-374b-4488-8688-729b6eedac5b",
         "identity--81cade27-7df8-4730-836b-62d880e6d9d3",
         "malware--591f0cb7-d66f-4e14-a8e6-5927b597f920",
         "report--f2b63e80-b523-4747-a069-35c002c690db",
         "malware--40e15fa5-df8d-4771-a682-21dab0a024fd"
        ]
       },
       "timeout": 0,
       "url": "https://raw.githubusercontent.com/oasis-open/cti-stix2-json-schemas/master/examples/threat-reports/poisonivy.json"
      }
     },
     "cc4171f334dc4091a1d29ad4f623ec6b": {
      "model_module": "@jupyter-widgets/base",
      "model_module_version": "1.2.0",
      "model_name": "LayoutModel",
      "state": {}
     },
     "cc464b68d29e40aab29e4b2320c51bbc": {
      "model_module": "@jupyter-widgets/base",
      "model_module_version": "1.2.0",
      "model_name": "LayoutModel",
      "state": {}
     },
     "ccf7d41332db4dae97fbc0ff84ca7772": {
      "model_module": "jupyter-widget-stixview",
      "model_module_version": "^1.0.2",
      "model_name": "StixviewGraphModel",
      "state": {
       "_model_module_version": "^1.0.2",
       "_view_module_version": "^1.0.2",
       "bundle": {},
       "gist_file": "",
       "gist_id": "",
       "layout": "IPY_MODEL_4eef2daf95f64aa0b820f907235d0832",
       "properties": {},
       "timeout": 0,
       "url": "https://raw.githubusercontent.com/oasis-open/cti-stix-elevator/master/idioms-json-2.1/kill-chain.json"
      }
     },
     "cdafb5a9bfba4c5081539843835a74eb": {
      "model_module": "@jupyter-widgets/base",
      "model_module_version": "1.2.0",
      "model_name": "LayoutModel",
      "state": {}
     },
     "ce5933e43fea4c8ca2a80a9b6f9e51fd": {
      "model_module": "jupyter-widget-stixview",
      "model_module_version": "^1.0.3",
      "model_name": "StixviewGraphModel",
      "state": {
       "_model_module_version": "^1.0.3",
       "_view_module_version": "^1.0.3",
       "bundle": {},
       "gist_file": "",
       "gist_id": "",
       "layout": "IPY_MODEL_c0938e417ad0401593a4926f3886d657",
       "properties": {
        "graphHeight": 300
       },
       "timeout": 0,
       "url": "https://raw.githubusercontent.com/oasis-open/cti-stix-elevator/master/idioms-json-2.1/network-traffic-request-pattern.json"
      }
     },
     "cf2f537e0b2a4ba4b720a0b4c01167bf": {
      "model_module": "@jupyter-widgets/base",
      "model_module_version": "1.2.0",
      "model_name": "LayoutModel",
      "state": {}
     },
     "cfd26f459e95461d9ad845138f62f59c": {
      "model_module": "jupyter-widget-stixview",
      "model_module_version": "^1.0.2",
      "model_name": "StixviewGraphModel",
      "state": {
       "_model_module_version": "^1.0.2",
       "_view_module_version": "^1.0.2",
       "bundle": {},
       "gist_file": "",
       "gist_id": "",
       "layout": "IPY_MODEL_c1278a74af2e4bdfb6f693e5e3da409e",
       "properties": {
        "graphHeight": 300
       },
       "timeout": 0,
       "url": "https://raw.githubusercontent.com/oasis-open/cti-stix-elevator/master/idioms-json-2.1/file-hash-reputation.json"
      }
     },
     "d07a74812dca4eb0b1b1a7b8e79ab3a8": {
      "model_module": "@jupyter-widgets/base",
      "model_module_version": "1.2.0",
      "model_name": "LayoutModel",
      "state": {}
     },
     "d0911ba8590b41eeb66c85cebc919b91": {
      "model_module": "@jupyter-widgets/base",
      "model_module_version": "1.2.0",
      "model_name": "LayoutModel",
      "state": {}
     },
     "d0f4d67b1c864898b3c494f8404954b5": {
      "model_module": "@jupyter-widgets/base",
      "model_module_version": "1.2.0",
      "model_name": "LayoutModel",
      "state": {}
     },
     "d1717e474f244710be18282e308dc573": {
      "model_module": "jupyter-widget-stixview",
      "model_module_version": "^1.0.2",
      "model_name": "StixviewGraphModel",
      "state": {
       "_model_module_version": "^1.0.2",
       "_view_module_version": "^1.0.2",
       "bundle": {},
       "gist_file": "",
       "gist_id": "",
       "layout": "IPY_MODEL_d60272f133b74b52a5e82a7b677070b4",
       "properties": {
        "graphHeight": 300
       },
       "timeout": 0,
       "url": "https://raw.githubusercontent.com/oasis-open/cti-stix-elevator/master/idioms-json-2.1/block-network-traffic.json"
      }
     },
     "d1ae648b85d14003b56b9caf4fc8e0a9": {
      "model_module": "@jupyter-widgets/base",
      "model_module_version": "1.2.0",
      "model_name": "LayoutModel",
      "state": {}
     },
     "d1b3f3848e2e4e26a4acac725c3ca970": {
      "model_module": "jupyter-widget-stixview",
      "model_module_version": "^1.0.2",
      "model_name": "StixviewGraphModel",
      "state": {
       "_model_module_version": "^1.0.2",
       "_view_module_version": "^1.0.2",
       "bundle": {},
       "gist_file": "",
       "gist_id": "",
       "layout": "IPY_MODEL_c4362b38ce7640b2afd152a74f232d80",
       "properties": {
        "graphHeight": 300
       },
       "timeout": 0,
       "url": "https://raw.githubusercontent.com/oasis-open/cti-stix-elevator/master/idioms-json-2.1/issue62.json"
      }
     },
     "d21e710220bf419fa1410e97339aa977": {
      "model_module": "@jupyter-widgets/base",
      "model_module_version": "1.2.0",
      "model_name": "LayoutModel",
      "state": {}
     },
     "d33ecc44b733413f8e5e2fb2c770e632": {
      "model_module": "jupyter-widget-stixview",
      "model_module_version": "^1.0.2",
      "model_name": "StixviewGraphModel",
      "state": {
       "_model_module_version": "^1.0.2",
       "_view_module_version": "^1.0.2",
       "bundle": {},
       "gist_file": "",
       "gist_id": "",
       "layout": "IPY_MODEL_a90ab9a3301040059de6e721aa797cfb",
       "properties": {
        "graphHeight": 300
       },
       "timeout": 0,
       "url": "https://raw.githubusercontent.com/oasis-open/cti-stix-elevator/master/idioms-json-2.1/block-network-traffic.json"
      }
     },
     "d36cf22057224f539f14ac6bb510a0fb": {
      "model_module": "@jupyter-widgets/base",
      "model_module_version": "1.2.0",
      "model_name": "LayoutModel",
      "state": {}
     },
     "d3757a538ef042aea0cecf65fd530fe7": {
      "model_module": "jupyter-widget-stixview",
      "model_module_version": "^1.0.3",
      "model_name": "StixviewGraphModel",
      "state": {
       "_model_module_version": "^1.0.3",
       "_view_module_version": "^1.0.3",
       "bundle": {},
       "gist_file": "",
       "gist_id": "",
       "layout": "IPY_MODEL_d9f122667db048e3aa5cb73c02e6e619",
       "properties": {
        "graphHeight": 300
       },
       "timeout": 0,
       "url": "https://raw.githubusercontent.com/oasis-open/cti-stix-elevator/master/idioms-json-2.1/malware-characterization-using-maec.json"
      }
     },
     "d3b4758779404585a2dc26bc50b4e25b": {
      "model_module": "jupyter-widget-stixview",
      "model_module_version": "^1.0.2",
      "model_name": "StixviewGraphModel",
      "state": {
       "_model_module_version": "^1.0.2",
       "_view_module_version": "^1.0.2",
       "bundle": {},
       "gist_file": "",
       "gist_id": "",
       "layout": "IPY_MODEL_b239f3344bc44528b1719f5677b84ea3",
       "properties": {},
       "timeout": 0,
       "url": "https://raw.githubusercontent.com/oasis-open/cti-stix-elevator/master/idioms-json-2.1/issue62.json"
      }
     },
     "d48d3495e5a6428c848e70613d156f7b": {
      "model_module": "@jupyter-widgets/base",
      "model_module_version": "1.2.0",
      "model_name": "LayoutModel",
      "state": {}
     },
     "d567f12b8ca3439481407ff7faa74064": {
      "model_module": "jupyter-widget-stixview",
      "model_module_version": "^1.0.2",
      "model_name": "StixviewGraphModel",
      "state": {
       "_model_module_version": "^1.0.2",
       "_view_module_version": "^1.0.2",
       "bundle": {},
       "gist_file": "",
       "gist_id": "",
       "layout": "IPY_MODEL_47815622221941fa86b8b8f1ede761bd",
       "properties": {
        "graphHeight": 300
       },
       "timeout": 0,
       "url": "https://raw.githubusercontent.com/oasis-open/cti-stix-elevator/master/idioms-json-2.1/account_indicator.json"
      }
     },
     "d5f1ea3da99d424d9c71674857c13eb4": {
      "model_module": "jupyter-widget-stixview",
      "model_module_version": "^1.0.2",
      "model_name": "StixviewGraphModel",
      "state": {
       "_model_module_version": "^1.0.2",
       "_view_module_version": "^1.0.2",
       "bundle": {},
       "gist_file": "",
       "gist_id": "",
       "layout": "IPY_MODEL_42b1054196bf4811b2cdfba2fecf74f9",
       "properties": {
        "graphHeight": 300
       },
       "timeout": 0,
       "url": "https://raw.githubusercontent.com/oasis-open/cti-stix-elevator/master/idioms-json-2.1/malicious-email-indicator-with-addresses.json"
      }
     },
     "d60272f133b74b52a5e82a7b677070b4": {
      "model_module": "@jupyter-widgets/base",
      "model_module_version": "1.2.0",
      "model_name": "LayoutModel",
      "state": {}
     },
     "d638ab98db4d4052b79e9b6c3b42b424": {
      "model_module": "jupyter-widget-stixview",
      "model_module_version": "^1.0.2",
      "model_name": "StixviewGraphModel",
      "state": {
       "_model_module_version": "^1.0.2",
       "_view_module_version": "^1.0.2",
       "bundle": {},
       "gist_file": "",
       "gist_id": "",
       "layout": "IPY_MODEL_de739ab4ebfe44d594590f983211e574",
       "properties": {
        "graphHeight": 300
       },
       "timeout": 0,
       "url": "https://raw.githubusercontent.com/oasis-open/cti-stix-elevator/master/idioms-json-2.1/file-and-directory.json"
      }
     },
     "d7ab83d676624007b64372084843da7a": {
      "model_module": "@jupyter-widgets/base",
      "model_module_version": "1.2.0",
      "model_name": "LayoutModel",
      "state": {}
     },
     "d7e1e9adb6804afea33c97d73e227387": {
      "model_module": "jupyter-widget-stixview",
      "model_module_version": "^1.0.2",
      "model_name": "StixviewGraphModel",
      "state": {
       "_model_module_version": "^1.0.2",
       "_view_module_version": "^1.0.2",
       "bundle": {},
       "gist_file": "",
       "gist_id": "",
       "layout": "IPY_MODEL_dc984054f2cc4f1aa3ba5e09c79a818f",
       "properties": {
        "graphHeight": 300
       },
       "timeout": 0,
       "url": "https://raw.githubusercontent.com/oasis-open/cti-stix-elevator/master/idioms-json-2.1/block-network-traffic.json"
      }
     },
     "d80da82d1c1b46debface096583dce94": {
      "model_module": "@jupyter-widgets/base",
      "model_module_version": "1.2.0",
      "model_name": "LayoutModel",
      "state": {}
     },
     "d901cae6bd604746ac0148c9460cca4b": {
      "model_module": "jupyter-widget-stixview",
      "model_module_version": "^1.0.2",
      "model_name": "StixviewGraphModel",
      "state": {
       "_model_module_version": "^1.0.2",
       "_view_module_version": "^1.0.2",
       "bundle": {},
       "gist_file": "",
       "gist_id": "",
       "layout": "IPY_MODEL_13b2dffb5c5b44f8bd8fd378beb6b281",
       "properties": {
        "graphHeight": 300
       },
       "timeout": 0,
       "url": "https://raw.githubusercontent.com/oasis-open/cti-stix-elevator/master/idioms-json-2.1/icmp_observable.json"
      }
     },
     "d90f3bc2c6b6479e8364e8e78e56004f": {
      "model_module": "jupyter-widget-stixview",
      "model_module_version": "^1.0.3",
      "model_name": "StixviewGraphModel",
      "state": {
       "_model_module_version": "^1.0.3",
       "_view_module_version": "^1.0.3",
       "bundle": {},
       "gist_file": "",
       "gist_id": "",
       "layout": "IPY_MODEL_44181794b4ab465fa45f3540a44c0cee",
       "properties": {
        "graphHeight": 300
       },
       "timeout": 0,
       "url": "https://raw.githubusercontent.com/oasis-open/cti-stix-elevator/master/idioms-json-2.1/issue-148.json"
      }
     },
     "d9f122667db048e3aa5cb73c02e6e619": {
      "model_module": "@jupyter-widgets/base",
      "model_module_version": "1.2.0",
      "model_name": "LayoutModel",
      "state": {}
     },
     "da278c382dda408a88c27ced0a4bb167": {
      "model_module": "@jupyter-widgets/base",
      "model_module_version": "1.2.0",
      "model_name": "LayoutModel",
      "state": {}
     },
     "da312a26193543d8ae4bd49128931a33": {
      "model_module": "jupyter-widget-stixview",
      "model_module_version": "^1.0.2",
      "model_name": "StixviewGraphModel",
      "state": {
       "_model_module_version": "^1.0.2",
       "_view_module_version": "^1.0.2",
       "bundle": {},
       "gist_file": "",
       "gist_id": "",
       "layout": "IPY_MODEL_0fc11541a1ca4f2a95dcb38d7d7a4623",
       "properties": {
        "graphHeight": 300
       },
       "timeout": 0,
       "url": "https://raw.githubusercontent.com/oasis-open/cti-stix-elevator/master/idioms-json-2.1/multiple-reports-in-package.json"
      }
     },
     "da5ea61efa1348a4bb339bcb902f076b": {
      "model_module": "@jupyter-widgets/base",
      "model_module_version": "1.2.0",
      "model_name": "LayoutModel",
      "state": {}
     },
     "dad90d477e374715b00bc2c9a8c5dde5": {
      "model_module": "jupyter-widget-stixview",
      "model_module_version": "^1.0.2",
      "model_name": "StixviewGraphModel",
      "state": {
       "_model_module_version": "^1.0.2",
       "_view_module_version": "^1.0.2",
       "bundle": {},
       "gist_file": "",
       "gist_id": "",
       "layout": "IPY_MODEL_1e6df8e9f78a4a4cae059c3c23148b8b",
       "properties": {
        "graphHeight": 300
       },
       "timeout": 0,
       "url": "https://raw.githubusercontent.com/oasis-open/cti-stix-elevator/master/idioms-json-2.1/Mandiant_APT1_Report.json"
      }
     },
     "db47248412fe4befa0bc1dd5890d625b": {
      "model_module": "@jupyter-widgets/base",
      "model_module_version": "1.2.0",
      "model_name": "LayoutModel",
      "state": {}
     },
     "db4febb56d6e405eb0b99d1b65ae366f": {
      "model_module": "jupyter-widget-stixview",
      "model_module_version": "^1.0.2",
      "model_name": "StixviewGraphModel",
      "state": {
       "_model_module_version": "^1.0.2",
       "_view_module_version": "^1.0.2",
       "bundle": {},
       "gist_file": "",
       "gist_id": "6a0fbb0f6e7faf063c748b23f9c7dc62",
       "layout": "IPY_MODEL_32d516efd25b4395a51f4748cbef372b",
       "properties": {
        "disableMouseZoom": true
       },
       "timeout": 0,
       "url": ""
      }
     },
     "db7132980bf4424e83d208a1b3958442": {
      "model_module": "jupyter-widget-stixview",
      "model_module_version": "^1.0.2",
      "model_name": "StixviewGraphModel",
      "state": {
       "_model_module_version": "^1.0.2",
       "_view_module_version": "^1.0.2",
       "bundle": {},
       "gist_file": "",
       "gist_id": "",
       "layout": "IPY_MODEL_3457c5d83f9743d483c301ab669fb1a4",
       "properties": {
        "graphHeight": 300
       },
       "timeout": 0,
       "url": "https://raw.githubusercontent.com/oasis-open/cti-stix-elevator/master/idioms-json-2.1/network-traffic-request-pattern.json"
      }
     },
     "dbb66a66fd8a43f08c4b8cba803ca484": {
      "model_module": "jupyter-widget-stixview",
      "model_module_version": "^1.0.2",
      "model_name": "StixviewGraphModel",
      "state": {
       "_model_module_version": "^1.0.2",
       "_view_module_version": "^1.0.2",
       "bundle": {
        "id": "bundle--ac946f1d-6a0e-4a9d-bc83-3f1f3bfda6ba",
        "objects": [
         {
          "created": "2015-05-15T09:12:16.432Z",
          "description": "Poison Ivy is a remote access tool, first released in 2005 but unchanged since 2008. It includes features common to most Windows-based RATs, including key logging, screen capturing, video capturing, file transfers, system administration, password theft, and traffic relaying.",
          "id": "malware--591f0cb7-d66f-4e14-a8e6-5927b597f920",
          "labels": [
           "remote-access-trojan"
          ],
          "modified": "2015-05-15T09:12:16.432Z",
          "name": "Poison Ivy",
          "type": "malware"
         },
         {
          "created": "2015-05-15T09:12:16.432Z",
          "id": "relationship--134c393e-cbe0-433c-9a7a-95263ed8578f",
          "modified": "2015-05-15T09:12:16.432Z",
          "relationship_type": "mitigates",
          "source_ref": "course-of-action--70b3d5f6-374b-4488-8688-729b6eedac5b",
          "target_ref": "malware--591f0cb7-d66f-4e14-a8e6-5927b597f920",
          "type": "relationship"
         },
         {
          "created": "2015-05-15T09:12:16.432Z",
          "created_by_ref": "identity--81cade27-7df8-4730-836b-62d880e6d9d3",
          "description": "Calamine is a set of free tools to help organizations detect and examine Poison Ivy infections on their systems. The package includes these components: PIVY callback-decoding tool (ChopShop Module) and PIVY memory-decoding tool (PIVY PyCommand Script).",
          "external_references": [],
          "id": "course-of-action--70b3d5f6-374b-4488-8688-729b6eedac5b",
          "modified": "2015-05-15T09:12:16.432Z",
          "name": "Analyze with FireEye Calamine Toolset",
          "type": "course-of-action"
         },
         {
          "created": "2015-05-15T09:12:16.432Z",
          "id": "identity--81cade27-7df8-4730-836b-62d880e6d9d3",
          "identity_class": "organization",
          "modified": "2015-05-15T09:12:16.432Z",
          "name": "FireEye, Inc.",
          "sectors": [
           "technology"
          ],
          "type": "identity"
         }
        ],
        "spec_version": "2.0",
        "type": "bundle"
       },
       "gist_file": "",
       "gist_id": "",
       "layout": "IPY_MODEL_e43be8302eed444eba0cf4922d328d04",
       "properties": {
        "caption": "Custom STIX2 bundle",
        "graphHeight": 400
       },
       "timeout": 0,
       "url": ""
      }
     },
     "dbfc8dafe5724aacb64dcf5ac0a57ef0": {
      "model_module": "jupyter-widget-stixview",
      "model_module_version": "^1.0.3",
      "model_name": "StixviewGraphModel",
      "state": {
       "_model_module_version": "^1.0.3",
       "_view_module_version": "^1.0.3",
       "bundle": {},
       "gist_file": "",
       "gist_id": "",
       "layout": "IPY_MODEL_0a828a840ffe41b883fc9118cd8b4115",
       "properties": {
        "graphHeight": 300
       },
       "timeout": 0,
       "url": "https://raw.githubusercontent.com/oasis-open/cti-stix-elevator/master/idioms-json-2.1/victim-targeting-sector.json"
      }
     },
     "dc4a12475c4b4ccf8167c61952334079": {
      "model_module": "jupyter-widget-stixview",
      "model_module_version": "^1.0.2",
      "model_name": "StixviewGraphModel",
      "state": {
       "_model_module_version": "^1.0.2",
       "_view_module_version": "^1.0.2",
       "bundle": {},
       "gist_file": "",
       "gist_id": "",
       "layout": "IPY_MODEL_7b3d3422c70940e1939c0da1b794cb71",
       "properties": {},
       "timeout": 0,
       "url": "https://raw.githubusercontent.com/oasis-open/cti-stix-elevator/master/idioms-json-2.1/identifying-a-threat-actor-group.json"
      }
     },
     "dc63e5ab71874baab6f7cf70423707bb": {
      "model_module": "jupyter-widget-stixview",
      "model_module_version": "^1.0.2",
      "model_name": "StixviewGraphModel",
      "state": {
       "_model_module_version": "^1.0.2",
       "_view_module_version": "^1.0.2",
       "bundle": {},
       "gist_file": "",
       "gist_id": "",
       "layout": "IPY_MODEL_4396710c5e164a4ab03f441b52f54455",
       "properties": {
        "graphHeight": 300
       },
       "timeout": 0,
       "url": "https://raw.githubusercontent.com/oasis-open/cti-stix-elevator/master/idioms-json-2.1/malicious-email-indicator-with-addresses.json"
      }
     },
     "dc93f9dd934944d28a288af81dcdd780": {
      "model_module": "@jupyter-widgets/base",
      "model_module_version": "1.2.0",
      "model_name": "LayoutModel",
      "state": {}
     },
     "dc984054f2cc4f1aa3ba5e09c79a818f": {
      "model_module": "@jupyter-widgets/base",
      "model_module_version": "1.2.0",
      "model_name": "LayoutModel",
      "state": {}
     },
     "dcd35359d6ec4d7c97d987cb8a34bb77": {
      "model_module": "@jupyter-widgets/base",
      "model_module_version": "1.2.0",
      "model_name": "LayoutModel",
      "state": {}
     },
     "dcd8e558ce864729b33ba272bc5ab444": {
      "model_module": "jupyter-widget-stixview",
      "model_module_version": "^1.0.2",
      "model_name": "StixviewGraphModel",
      "state": {
       "_model_module_version": "^1.0.2",
       "_view_module_version": "^1.0.2",
       "bundle": {},
       "gist_file": "",
       "gist_id": "",
       "layout": "IPY_MODEL_ed11269c51904f96ac0575842f2c87ce",
       "properties": {
        "graphHeight": 300
       },
       "timeout": 0,
       "url": "https://raw.githubusercontent.com/oasis-open/cti-stix-elevator/master/idioms-json-2.1/issue-148.json"
      }
     },
     "dcdd78aed3ac47cab346210711bba905": {
      "model_module": "jupyter-widget-stixview",
      "model_module_version": "^1.0.2",
      "model_name": "StixviewGraphModel",
      "state": {
       "_model_module_version": "^1.0.2",
       "_view_module_version": "^1.0.2",
       "bundle": {},
       "gist_file": "",
       "gist_id": "",
       "layout": "IPY_MODEL_44ada0827ea049f581b38788deebb83b",
       "properties": {},
       "timeout": 0,
       "url": "https://raw.githubusercontent.com/oasis-open/cti-stix-elevator/master/idioms-json-2.1/Appendix_G_IOCs_Full.json"
      }
     },
     "dce28df5c9304b6e8a56e9181e6cd196": {
      "model_module": "@jupyter-widgets/base",
      "model_module_version": "1.2.0",
      "model_name": "LayoutModel",
      "state": {}
     },
     "dd8bac75ac1f4fa1a073044a2a1c7613": {
      "model_module": "@jupyter-widgets/base",
      "model_module_version": "1.2.0",
      "model_name": "LayoutModel",
      "state": {}
     },
     "dde290a7e6e34a428c3cb3b12eac4ba0": {
      "model_module": "jupyter-widget-stixview",
      "model_module_version": "^1.0.3",
      "model_name": "StixviewGraphModel",
      "state": {
       "_model_module_version": "^1.0.3",
       "_view_module_version": "^1.0.3",
       "bundle": {},
       "gist_file": "",
       "gist_id": "",
       "layout": "IPY_MODEL_1e8e1ec1fdfe495fa18b24f7e52cf6a5",
       "properties": {
        "graphHeight": 300
       },
       "timeout": 0,
       "url": "https://raw.githubusercontent.com/oasis-open/cti-stix-elevator/master/idioms-json-2.1/icmp_observable.json"
      }
     },
     "de5285db3cdb4e27aec12d4af2ac4209": {
      "model_module": "jupyter-widget-stixview",
      "model_module_version": "^1.0.3",
      "model_name": "StixviewGraphModel",
      "state": {
       "_model_module_version": "^1.0.3",
       "_view_module_version": "^1.0.3",
       "bundle": {},
       "gist_file": "",
       "gist_id": "",
       "layout": "IPY_MODEL_6a967028bcfc454296e1d19052cd372e",
       "properties": {
        "graphHeight": 300
       },
       "timeout": 0,
       "url": "https://raw.githubusercontent.com/oasis-open/cti-stix-elevator/master/idioms-json-2.1/yara-test-mechanism.json"
      }
     },
     "de739ab4ebfe44d594590f983211e574": {
      "model_module": "@jupyter-widgets/base",
      "model_module_version": "1.2.0",
      "model_name": "LayoutModel",
      "state": {}
     },
     "df56f62850e741f399b1f30d54464272": {
      "model_module": "@jupyter-widgets/base",
      "model_module_version": "1.2.0",
      "model_name": "LayoutModel",
      "state": {}
     },
     "dfb02255d5544bceaf01bbb33b3f4191": {
      "model_module": "jupyter-widget-stixview",
      "model_module_version": "^1.0.2",
      "model_name": "StixviewGraphModel",
      "state": {
       "_model_module_version": "^1.0.2",
       "_view_module_version": "^1.0.2",
       "bundle": {},
       "gist_file": "",
       "gist_id": "",
       "layout": "IPY_MODEL_fa7c6ab88d3a4d16a4119378ff1b14a1",
       "properties": {},
       "timeout": 0,
       "url": "https://raw.githubusercontent.com/oasis-open/cti-stix-elevator/master/idioms-json-2.1/victim-targeting-sector.json"
      }
     },
     "dfc755f1e4d94d3482e21d7d6eda6e7f": {
      "model_module": "@jupyter-widgets/base",
      "model_module_version": "1.2.0",
      "model_name": "LayoutModel",
      "state": {}
     },
     "e096671b69b84186a4e218384d6eb1f3": {
      "model_module": "@jupyter-widgets/base",
      "model_module_version": "1.2.0",
      "model_name": "LayoutModel",
      "state": {}
     },
     "e22c3715d65f40e68b20b8e959d1e56f": {
      "model_module": "jupyter-widget-stixview",
      "model_module_version": "^1.0.2",
      "model_name": "StixviewGraphModel",
      "state": {
       "_model_module_version": "^1.0.2",
       "_view_module_version": "^1.0.2",
       "bundle": {},
       "gist_file": "",
       "gist_id": "",
       "layout": "IPY_MODEL_18653cf3f9b04c58a0b6bfba309c96bd",
       "properties": {
        "graphHeight": 200
       },
       "timeout": 0,
       "url": "https://raw.githubusercontent.com/oasis-open/cti-stix-elevator/master/idioms-json-2.1/141-TLP-marking-structures.json"
      }
     },
     "e3093788dda64864bf82d6391e06f6a0": {
      "model_module": "@jupyter-widgets/base",
      "model_module_version": "1.2.0",
      "model_name": "LayoutModel",
      "state": {}
     },
     "e43be8302eed444eba0cf4922d328d04": {
      "model_module": "@jupyter-widgets/base",
      "model_module_version": "1.2.0",
      "model_name": "LayoutModel",
      "state": {}
     },
     "e44d1007427c4bfbb156c15c72a7d8c1": {
      "model_module": "jupyter-widget-stixview",
      "model_module_version": "^1.0.2",
      "model_name": "StixviewGraphModel",
      "state": {
       "_model_module_version": "^1.0.2",
       "_view_module_version": "^1.0.2",
       "bundle": {},
       "gist_file": "",
       "gist_id": "",
       "layout": "IPY_MODEL_e8a88b00294f4b73b6762a2ae848f4ba",
       "properties": {},
       "timeout": 0,
       "url": "https://raw.githubusercontent.com/oasis-open/cti-stix-elevator/master/idioms-json-2.1/malware-indicator-for-file-hash.json"
      }
     },
     "e4c22c64e83c46cdbb9936fa825c27f6": {
      "model_module": "@jupyter-widgets/base",
      "model_module_version": "1.2.0",
      "model_name": "LayoutModel",
      "state": {}
     },
     "e57bc5c0cfcc478e9b443bcdb7fde6d8": {
      "model_module": "jupyter-widget-stixview",
      "model_module_version": "^1.0.2",
      "model_name": "StixviewGraphModel",
      "state": {
       "_model_module_version": "^1.0.2",
       "_view_module_version": "^1.0.2",
       "bundle": {},
       "gist_file": "",
       "gist_id": "",
       "layout": "IPY_MODEL_7b69f952823f4dd086649ea22bfaacff",
       "properties": {},
       "timeout": 0,
       "url": "https://api.github.com/repos/oasis-open/cti-stix-elevator/contents/idioms-json-2.1/141-TLP-marking-structures.json?ref=master"
      }
     },
     "e59d73e0350a4001ae2c1ea597e8fdc4": {
      "model_module": "jupyter-widget-stixview",
      "model_module_version": "^1.0.2",
      "model_name": "StixviewGraphModel",
      "state": {
       "_model_module_version": "^1.0.2",
       "_view_module_version": "^1.0.2",
       "bundle": {},
       "gist_file": "",
       "gist_id": "",
       "layout": "IPY_MODEL_49028084b8f64a348d60c87179ec78d5",
       "properties": {
        "graphHeight": 300
       },
       "timeout": 0,
       "url": "https://raw.githubusercontent.com/oasis-open/cti-stix-elevator/master/idioms-json-2.1/account_indicator.json"
      }
     },
     "e70cd962b174455c9bf7b23282fa5d2b": {
      "model_module": "@jupyter-widgets/base",
      "model_module_version": "1.2.0",
      "model_name": "LayoutModel",
      "state": {}
     },
     "e75c5beaf1424dcfa70e80b859c58755": {
      "model_module": "jupyter-widget-stixview",
      "model_module_version": "^1.0.2",
      "model_name": "StixviewGraphModel",
      "state": {
       "_model_module_version": "^1.0.2",
       "_view_module_version": "^1.0.2",
       "bundle": {},
       "gist_file": "",
       "gist_id": "",
       "layout": "IPY_MODEL_4a10f8f9b4704968863605e64061deac",
       "properties": {
        "graphHeight": 300
       },
       "timeout": 0,
       "url": "https://raw.githubusercontent.com/oasis-open/cti-stix-elevator/master/idioms-json-2.1/file-hash-reputation.json"
      }
     },
     "e8a88b00294f4b73b6762a2ae848f4ba": {
      "model_module": "@jupyter-widgets/base",
      "model_module_version": "1.2.0",
      "model_name": "LayoutModel",
      "state": {}
     },
     "ea81af94a4d142e6a4a148585ce21f78": {
      "model_module": "@jupyter-widgets/base",
      "model_module_version": "1.2.0",
      "model_name": "LayoutModel",
      "state": {}
     },
     "eae290d487fc4157a6a72ec1b19920a7": {
      "model_module": "@jupyter-widgets/base",
      "model_module_version": "1.2.0",
      "model_name": "LayoutModel",
      "state": {}
     },
     "eaee7c5f18fd4d519ceea1b5d476b87d": {
      "model_module": "@jupyter-widgets/base",
      "model_module_version": "1.2.0",
      "model_name": "LayoutModel",
      "state": {}
     },
     "eb1d83a7197b4bd196b1e0358f2dc776": {
      "model_module": "jupyter-widget-stixview",
      "model_module_version": "^1.0.2",
      "model_name": "StixviewGraphModel",
      "state": {
       "_model_module_version": "^1.0.2",
       "_view_module_version": "^1.0.2",
       "bundle": {},
       "gist_file": "",
       "gist_id": "",
       "layout": "IPY_MODEL_ea81af94a4d142e6a4a148585ce21f78",
       "properties": {
        "graphHeight": 300
       },
       "timeout": 0,
       "url": "https://raw.githubusercontent.com/oasis-open/cti-stix-elevator/master/idioms-json-2.1/cve-in-exploit-target.json"
      }
     },
     "eb279568218b47acae7dea21b7d4d29e": {
      "model_module": "jupyter-widget-stixview",
      "model_module_version": "^1.0.2",
      "model_name": "StixviewGraphModel",
      "state": {
       "_model_module_version": "^1.0.2",
       "_view_module_version": "^1.0.2",
       "bundle": {},
       "gist_file": "",
       "gist_id": "",
       "layout": "IPY_MODEL_90863eb2e64c4eb8b0d7597119a9fa70",
       "properties": {
        "graphHeight": 300
       },
       "timeout": 0,
       "url": "https://raw.githubusercontent.com/oasis-open/cti-stix-elevator/master/idioms-json-2.1/icmp_pattern.json"
      }
     },
     "eb87e9c6509f4e229dfcf08979b0f2c7": {
      "model_module": "jupyter-widget-stixview",
      "model_module_version": "^1.0.2",
      "model_name": "StixviewGraphModel",
      "state": {
       "_model_module_version": "^1.0.2",
       "_view_module_version": "^1.0.2",
       "bundle": {},
       "gist_file": "",
       "gist_id": "",
       "layout": "IPY_MODEL_0a17bb0a010e4363a5e514032b3ad25d",
       "properties": {
        "graphHeight": 300
       },
       "timeout": 0,
       "url": "https://raw.githubusercontent.com/oasis-open/cti-stix-elevator/master/idioms-json-2.1/Mandiant_APT1_Report.json"
      }
     },
     "ec7780bf3e58427b9e4806ea56d76da3": {
      "model_module": "jupyter-widget-stixview",
      "model_module_version": "^1.0.2",
      "model_name": "StixviewGraphModel",
      "state": {
       "_model_module_version": "^1.0.2",
       "_view_module_version": "^1.0.2",
       "bundle": {},
       "gist_file": "",
       "gist_id": "",
       "layout": "IPY_MODEL_54fb22eb3f084c7da09fca622f4eb72f",
       "properties": {},
       "timeout": 0,
       "url": "https://raw.githubusercontent.com/oasis-open/cti-stix-elevator/master/idioms-json-2.1/file-and-directory-pattern.json"
      }
     },
     "ec904ceb53a1423e802fe638823f3f08": {
      "model_module": "@jupyter-widgets/base",
      "model_module_version": "1.2.0",
      "model_name": "LayoutModel",
      "state": {}
     },
     "ecbc90819272416a9b65cde13a465b7a": {
      "model_module": "@jupyter-widgets/base",
      "model_module_version": "1.2.0",
      "model_name": "LayoutModel",
      "state": {}
     },
     "ed11269c51904f96ac0575842f2c87ce": {
      "model_module": "@jupyter-widgets/base",
      "model_module_version": "1.2.0",
      "model_name": "LayoutModel",
      "state": {}
     },
     "ed1dd1753cab481583cbb2b6b4142618": {
      "model_module": "@jupyter-widgets/base",
      "model_module_version": "1.2.0",
      "model_name": "LayoutModel",
      "state": {}
     },
     "ed5fe6470c9d486588bb5a63793160f3": {
      "model_module": "@jupyter-widgets/base",
      "model_module_version": "1.2.0",
      "model_name": "LayoutModel",
      "state": {}
     },
     "edf1950a24954889b97a54fa8b4c47be": {
      "model_module": "jupyter-widget-stixview",
      "model_module_version": "^1.0.2",
      "model_name": "StixviewGraphModel",
      "state": {
       "_model_module_version": "^1.0.2",
       "_view_module_version": "^1.0.2",
       "bundle": {},
       "gist_file": "",
       "gist_id": "6a0fbb0f6e7faf063c748b23f9c7dc62",
       "layout": "IPY_MODEL_e70cd962b174455c9bf7b23282fa5d2b",
       "properties": {},
       "timeout": 0,
       "url": ""
      }
     },
     "eec2f30d7b244c0fb0bcfe78763464e5": {
      "model_module": "jupyter-widget-stixview",
      "model_module_version": "^1.0.2",
      "model_name": "StixviewGraphModel",
      "state": {
       "_model_module_version": "^1.0.2",
       "_view_module_version": "^1.0.2",
       "bundle": {},
       "gist_file": "",
       "gist_id": "",
       "layout": "IPY_MODEL_50e6f6d8b3ce4cdcae87a9ef0c64d818",
       "properties": {
        "graphHeight": 300
       },
       "timeout": 0,
       "url": "https://raw.githubusercontent.com/oasis-open/cti-stix-elevator/master/idioms-json-2.1/network-socket-observable.json"
      }
     },
     "eec6a09964e3429eb05f83e4a15a38ca": {
      "model_module": "jupyter-widget-stixview",
      "model_module_version": "^1.0.2",
      "model_name": "StixviewGraphModel",
      "state": {
       "_model_module_version": "^1.0.2",
       "_view_module_version": "^1.0.2",
       "bundle": {},
       "gist_file": "",
       "gist_id": "6a0fbb0f6e7faf063c748b23f9c7dc62",
       "layout": "IPY_MODEL_c8504342a37348a1aa3c0a53f6662d89",
       "properties": {},
       "timeout": 0,
       "url": ""
      }
     },
     "ef62c086122547cb8d59bad63b70e747": {
      "model_module": "@jupyter-widgets/base",
      "model_module_version": "1.2.0",
      "model_name": "LayoutModel",
      "state": {}
     },
     "f0372d897975419fbde0db76b2dbc27b": {
      "model_module": "@jupyter-widgets/base",
      "model_module_version": "1.2.0",
      "model_name": "LayoutModel",
      "state": {}
     },
     "f1ce9adc3835448e94642c00e7ac403f": {
      "model_module": "@jupyter-widgets/base",
      "model_module_version": "1.2.0",
      "model_name": "LayoutModel",
      "state": {}
     },
     "f220cf0f2c3742f59cde14f4dbfaa24f": {
      "model_module": "@jupyter-widgets/base",
      "model_module_version": "1.2.0",
      "model_name": "LayoutModel",
      "state": {}
     },
     "f2dc804e0ee343f0995629b1170901af": {
      "model_module": "jupyter-widget-stixview",
      "model_module_version": "^1.0.2",
      "model_name": "StixviewGraphModel",
      "state": {
       "_model_module_version": "^1.0.2",
       "_view_module_version": "^1.0.2",
       "bundle": {},
       "gist_file": "",
       "gist_id": "",
       "layout": "IPY_MODEL_da5ea61efa1348a4bb339bcb902f076b",
       "properties": {
        "graphHeight": 200
       },
       "timeout": 0,
       "url": "https://raw.githubusercontent.com/oasis-open/cti-stix-elevator/master/idioms-json-2.1/141-TLP-marking-structures.json"
      }
     },
     "f379fc3b080b4f6fa345ab3ea5940155": {
      "model_module": "@jupyter-widgets/base",
      "model_module_version": "1.2.0",
      "model_name": "LayoutModel",
      "state": {}
     },
     "f37c306b8c514d4b85bed0c715a03316": {
      "model_module": "jupyter-widget-stixview",
      "model_module_version": "^1.0.3",
      "model_name": "StixviewGraphModel",
      "state": {
       "_model_module_version": "^1.0.3",
       "_view_module_version": "^1.0.3",
       "bundle": {},
       "gist_file": "",
       "gist_id": "",
       "layout": "IPY_MODEL_62dcc15ec86246b8961daeeda57ee73b",
       "properties": {
        "graphHeight": 300
       },
       "timeout": 0,
       "url": "https://raw.githubusercontent.com/oasis-open/cti-stix-elevator/master/idioms-json-2.1/issue62.json"
      }
     },
     "f4002ed8401e49cca031fe2c8d9ed566": {
      "model_module": "jupyter-widget-stixview",
      "model_module_version": "^1.0.2",
      "model_name": "StixviewGraphModel",
      "state": {
       "_model_module_version": "^1.0.2",
       "_view_module_version": "^1.0.2",
       "bundle": {},
       "gist_file": "",
       "gist_id": "",
       "layout": "IPY_MODEL_d48d3495e5a6428c848e70613d156f7b",
       "properties": {
        "graphHeight": 300
       },
       "timeout": 0,
       "url": "https://raw.githubusercontent.com/oasis-open/cti-stix-elevator/master/idioms-json-2.1/Appendix_G_IOCs_Full.json"
      }
     },
     "f42899e296254b7684f5783ce58f2be8": {
      "model_module": "jupyter-widget-stixview",
      "model_module_version": "^1.0.3",
      "model_name": "StixviewGraphModel",
      "state": {
       "_model_module_version": "^1.0.3",
       "_view_module_version": "^1.0.3",
       "bundle": {},
       "gist_file": "",
       "gist_id": "",
       "layout": "IPY_MODEL_f379fc3b080b4f6fa345ab3ea5940155",
       "properties": {
        "graphHeight": 300
       },
       "timeout": 0,
       "url": "https://raw.githubusercontent.com/oasis-open/cti-stix-elevator/master/idioms-json-2.1/indicator-for-malicious-url.json"
      }
     },
     "f45f836595b1458e93dac33a67de9d89": {
      "model_module": "@jupyter-widgets/base",
      "model_module_version": "1.2.0",
      "model_name": "LayoutModel",
      "state": {}
     },
     "f4cfbfef70c148dd90a42aa701107622": {
      "model_module": "jupyter-widget-stixview",
      "model_module_version": "^1.0.2",
      "model_name": "StixviewGraphModel",
      "state": {
       "_model_module_version": "^1.0.2",
       "_view_module_version": "^1.0.2",
       "bundle": {},
       "gist_file": "",
       "gist_id": "",
       "layout": "IPY_MODEL_b0ced737409440908a9643b36c131054",
       "properties": {
        "graphHeight": 300
       },
       "timeout": 0,
       "url": "https://raw.githubusercontent.com/oasis-open/cti-stix-elevator/master/idioms-json-2.1/icmp_observable.json"
      }
     },
     "f58fb5ec1f294eee9e866ca71a5d4f11": {
      "model_module": "jupyter-widget-stixview",
      "model_module_version": "^1.0.2",
      "model_name": "StixviewGraphModel",
      "state": {
       "_model_module_version": "^1.0.2",
       "_view_module_version": "^1.0.2",
       "bundle": {},
       "gist_file": "",
       "gist_id": "",
       "layout": "IPY_MODEL_08ca82310c9345de8841f3d9506be8ab",
       "properties": {
        "graphHeight": 300
       },
       "timeout": 0,
       "url": "https://raw.githubusercontent.com/oasis-open/cti-stix-elevator/master/idioms-json-2.1/cve-in-exploit-target.json"
      }
     },
     "f5b74cb7347e4da78098ae104cca8132": {
      "model_module": "jupyter-widget-stixview",
      "model_module_version": "^1.0.2",
      "model_name": "StixviewGraphModel",
      "state": {
       "_model_module_version": "^1.0.2",
       "_view_module_version": "^1.0.2",
       "bundle": {},
       "gist_file": "",
       "gist_id": "",
       "layout": "IPY_MODEL_7a54f3ac591f4c36b0946ff2699a64c3",
       "properties": {
        "graphHeight": 300
       },
       "timeout": 0,
       "url": "https://raw.githubusercontent.com/oasis-open/cti-stix-elevator/master/idioms-json-2.1/kill-chain.json"
      }
     },
     "f60d0dcedd3d4f518473da53b635397c": {
      "model_module": "@jupyter-widgets/base",
      "model_module_version": "1.2.0",
      "model_name": "LayoutModel",
      "state": {}
     },
     "f66f8f99bb6a423593a4ad71fea8e139": {
      "model_module": "@jupyter-widgets/base",
      "model_module_version": "1.2.0",
      "model_name": "LayoutModel",
      "state": {}
     },
     "f6c1c202ebfa4306abf72645971e51a4": {
      "model_module": "@jupyter-widgets/base",
      "model_module_version": "1.2.0",
      "model_name": "LayoutModel",
      "state": {}
     },
     "f823ec0d104f430e837e5eb3e7e5225e": {
      "model_module": "jupyter-widget-stixview",
      "model_module_version": "^1.0.3",
      "model_name": "StixviewGraphModel",
      "state": {
       "_model_module_version": "^1.0.3",
       "_view_module_version": "^1.0.3",
       "bundle": {},
       "gist_file": "",
       "gist_id": "",
       "layout": "IPY_MODEL_7918b17a7a5446518c655efe6e3ddc5d",
       "properties": {
        "graphHeight": 300
       },
       "timeout": 0,
       "url": "https://raw.githubusercontent.com/oasis-open/cti-stix-elevator/master/idioms-json-2.1/incident-malware.json"
      }
     },
     "f824e73e0e914c728619bb6bd4aa7db8": {
      "model_module": "jupyter-widget-stixview",
      "model_module_version": "^1.0.2",
      "model_name": "StixviewGraphModel",
      "state": {
       "_model_module_version": "^1.0.2",
       "_view_module_version": "^1.0.2",
       "bundle": {},
       "gist_file": "",
       "gist_id": "",
       "layout": "IPY_MODEL_3b953da8f3fc412a9931bc13bc6af44d",
       "properties": {},
       "timeout": 0,
       "url": "https://raw.githubusercontent.com/oasis-open/cti-stix-elevator/master/idioms-json-2.1/yara-test-mechanism.json"
      }
     },
     "f88e763ed7a0462da42dd4b94563e8f5": {
      "model_module": "jupyter-widget-stixview",
      "model_module_version": "^1.0.3",
      "model_name": "StixviewGraphModel",
      "state": {
       "_model_module_version": "^1.0.3",
       "_view_module_version": "^1.0.3",
       "bundle": {},
       "gist_file": "",
       "gist_id": "",
       "layout": "IPY_MODEL_55ed64f53d6b4593b40cabf59576be3c",
       "properties": {
        "graphHeight": 300
       },
       "timeout": 0,
       "url": "https://raw.githubusercontent.com/oasis-open/cti-stix-elevator/master/idioms-json-2.1/Mandiant_APT1_Report.json"
      }
     },
     "f919bb4087b2440ab6ae59dc5ef88b4a": {
      "model_module": "jupyter-widget-stixview",
      "model_module_version": "^1.0.2",
      "model_name": "StixviewGraphModel",
      "state": {
       "_model_module_version": "^1.0.2",
       "_view_module_version": "^1.0.2",
       "bundle": {},
       "gist_file": "",
       "gist_id": "",
       "layout": "IPY_MODEL_b3fa885aee0a481f8f0c2e3a831a201f",
       "properties": {
        "graphHeight": 300
       },
       "timeout": 0,
       "url": "https://raw.githubusercontent.com/oasis-open/cti-stix-elevator/master/idioms-json-2.1/icmp_pattern.json"
      }
     },
     "f91feb5cfde74592ac4ad03d4030cb64": {
      "model_module": "jupyter-widget-stixview",
      "model_module_version": "^1.0.2",
      "model_name": "StixviewGraphModel",
      "state": {
       "_model_module_version": "^1.0.2",
       "_view_module_version": "^1.0.2",
       "bundle": {},
       "gist_file": "",
       "gist_id": "",
       "layout": "IPY_MODEL_004f752a2c0e418f95a13be52f197eb1",
       "properties": {
        "graphHeight": 300
       },
       "timeout": 0,
       "url": "https://raw.githubusercontent.com/oasis-open/cti-stix-elevator/master/idioms-json-2.1/pattern_id_ref_issue.json"
      }
     },
     "f9a13669b7544a79be6cab85e5674b99": {
      "model_module": "@jupyter-widgets/base",
      "model_module_version": "1.2.0",
      "model_name": "LayoutModel",
      "state": {}
     },
     "f9d1621e47064308840bc56e958b6d5a": {
      "model_module": "@jupyter-widgets/base",
      "model_module_version": "1.2.0",
      "model_name": "LayoutModel",
      "state": {}
     },
     "f9dabc400d574119bdec108d285b8e31": {
      "model_module": "@jupyter-widgets/base",
      "model_module_version": "1.2.0",
      "model_name": "LayoutModel",
      "state": {}
     },
     "fa7c6ab88d3a4d16a4119378ff1b14a1": {
      "model_module": "@jupyter-widgets/base",
      "model_module_version": "1.2.0",
      "model_name": "LayoutModel",
      "state": {}
     },
     "fae84b71fd7d4ddab4f933acffc6500d": {
      "model_module": "jupyter-widget-stixview",
      "model_module_version": "^1.0.3",
      "model_name": "StixviewGraphModel",
      "state": {
       "_model_module_version": "^1.0.3",
       "_view_module_version": "^1.0.3",
       "bundle": {},
       "gist_file": "",
       "gist_id": "",
       "layout": "IPY_MODEL_6b05b540d84446919acb2121ebb3be44",
       "properties": {
        "graphHeight": 300
       },
       "timeout": 0,
       "url": "https://raw.githubusercontent.com/oasis-open/cti-stix-elevator/master/idioms-json-2.1/archive-file.json"
      }
     },
     "faeb59b97bdb49779e2fd4dba1625729": {
      "model_module": "jupyter-widget-stixview",
      "model_module_version": "^1.0.2",
      "model_name": "StixviewGraphModel",
      "state": {
       "_model_module_version": "^1.0.2",
       "_view_module_version": "^1.0.2",
       "bundle": {},
       "gist_file": "",
       "gist_id": "",
       "layout": "IPY_MODEL_d80da82d1c1b46debface096583dce94",
       "properties": {},
       "timeout": 0,
       "url": "https://raw.githubusercontent.com/oasis-open/cti-stix-elevator/master/idioms-json-2.1/incident-malware.json"
      }
     },
     "fb712eed15c14cf28770774e2189079f": {
      "model_module": "@jupyter-widgets/base",
      "model_module_version": "1.2.0",
      "model_name": "LayoutModel",
      "state": {}
     },
     "fbbe5659361b41709bbb1f899a4d218e": {
      "model_module": "jupyter-widget-stixview",
      "model_module_version": "^1.0.2",
      "model_name": "StixviewGraphModel",
      "state": {
       "_model_module_version": "^1.0.2",
       "_view_module_version": "^1.0.2",
       "bundle": {},
       "gist_file": "",
       "gist_id": "",
       "layout": "IPY_MODEL_ab37f5c11477494381d52a973eaeb38f",
       "properties": {
        "caption": "Showing a selection of data loaded from URL, without a footer",
        "graphHeight": 600,
        "hideFooter": true,
        "highlightedObjects": [
         "course-of-action--70b3d5f6-374b-4488-8688-729b6eedac5b",
         "identity--81cade27-7df8-4730-836b-62d880e6d9d3",
         "malware--591f0cb7-d66f-4e14-a8e6-5927b597f920",
         "report--f2b63e80-b523-4747-a069-35c002c690db",
         "malware--40e15fa5-df8d-4771-a682-21dab0a024fd"
        ]
       },
       "timeout": 0,
       "url": "https://raw.githubusercontent.com/oasis-open/cti-stix2-json-schemas/master/examples/threat-reports/poisonivy.json"
      }
     },
     "fbf84e2dbdc84763a8e511f5db8404de": {
      "model_module": "@jupyter-widgets/base",
      "model_module_version": "1.2.0",
      "model_name": "LayoutModel",
      "state": {}
     },
     "fcb3ebedd96844a19da42968207ec579": {
      "model_module": "jupyter-widget-stixview",
      "model_module_version": "^1.0.2",
      "model_name": "StixviewGraphModel",
      "state": {
       "_model_module_version": "^1.0.2",
       "_view_module_version": "^1.0.2",
       "bundle": {},
       "gist_file": "",
       "gist_id": "",
       "layout": "IPY_MODEL_411f709ed8254d339aa46ada89e326a7",
       "properties": {
        "graphHeight": 300
       },
       "timeout": 0,
       "url": "https://raw.githubusercontent.com/oasis-open/cti-stix-elevator/master/idioms-json-2.1/fix-embedded-relationship-example.json"
      }
     },
     "fd45e55f55bd462190b75a31373b20d7": {
      "model_module": "@jupyter-widgets/base",
      "model_module_version": "1.2.0",
      "model_name": "LayoutModel",
      "state": {}
     },
     "fdf19546c4ce4ea4806e545612bf59ea": {
      "model_module": "@jupyter-widgets/base",
      "model_module_version": "1.2.0",
      "model_name": "LayoutModel",
      "state": {}
     },
     "fe9a03f8a9a143b08bda6da9bca6c407": {
      "model_module": "@jupyter-widgets/base",
      "model_module_version": "1.2.0",
      "model_name": "LayoutModel",
      "state": {}
     },
     "ff7e2d4f0b644d21bba4c3a73889935d": {
      "model_module": "@jupyter-widgets/base",
      "model_module_version": "1.2.0",
      "model_name": "LayoutModel",
      "state": {}
     }
    },
    "version_major": 2,
    "version_minor": 0
   }
  }
 },
 "nbformat": 4,
 "nbformat_minor": 4
}
